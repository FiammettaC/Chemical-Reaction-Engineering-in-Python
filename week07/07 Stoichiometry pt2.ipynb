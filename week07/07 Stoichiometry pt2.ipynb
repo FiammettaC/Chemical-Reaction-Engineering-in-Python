{
 "cells": [
  {
   "cell_type": "markdown",
   "id": "8aa72181-e022-4adc-90b2-1a034b7f2a44",
   "metadata": {},
   "source": [
    "# Stoichiometry - Part 2"
   ]
  },
  {
   "cell_type": "markdown",
   "id": "b7481870-19c1-4eb6-9565-555fc54fd640",
   "metadata": {},
   "source": [
    "## **Goal**: \n",
    "The aim of this lesson is to help you design functions to create stoichiometric tables in Python.\n",
    "\n",
    "Here, an example of how to create a stoichiometric table for an equalmolar reaction is provided.\n",
    "Afterwards, a few exercises are provided, so you can try to write your own functions, making them as much generalizable as possible.\n",
    "It's a good idea, once you have a working solution, to test the functions of different parameters to see if the results are still correct!\n",
    "\n",
    "**Remember**, the provided solution is is only **one of the many possible solutions**, so please do try to re-write the function yourself, optimize it and make it more generalizable."
   ]
  },
  {
   "cell_type": "markdown",
   "id": "6d072e55-6af0-4fc8-b6a0-47e292d15796",
   "metadata": {},
   "source": [
    "## **Motivation**: \n",
    "Writing these functions in Python might look like a lot of (manual) work, since the tables are populated by strings. \n",
    "\n",
    "However, if you manage to create the functions for the different types of systems, then you can reuse them and just change the initial parameters provided!\n",
    "\n",
    "This will also (hopefully) help you thinking carefully about the conditions and the assumptions given (e.g. is the reaction isothermal? Is there a volume change?), since you will have to choose the specific function based on that. In our experience, this is something that students often struggle with, so we hope to provide a tool that helps you taking into account all of this!"
   ]
  },
  {
   "cell_type": "markdown",
   "id": "a485833d-ac9f-4cf6-be78-be283553d792",
   "metadata": {},
   "source": [
    "### **Example 1:**\n",
    "\n",
    "A company is about to start the production of B, this happens by the catalytic reaction:\n",
    "$A → B$\n",
    "\n",
    "The feed stream consists of $1 kmol/m^3$ A and $0.01 kmol/m^3$ B, this is done at a rate of $120 m^3/min$. \n",
    "The reaction rate can be written as an elementary reaction and is carried out isothermally in the liquid phase. The reaction rate constant k is $0.18 \\cdot 10^{-3}m^3 \\cdot mol^{-1} \\cdot s^{-1}$\n",
    "1) Draw up a stoichiometric table for the equation (here one possible solution is provided below):"
   ]
  },
  {
   "cell_type": "code",
   "execution_count": 11,
   "id": "d3b0204c-daa2-4e54-b081-ef1ea8135ae5",
   "metadata": {},
   "outputs": [
    {
     "data": {
      "text/html": [
       "<div>\n",
       "<style scoped>\n",
       "    .dataframe tbody tr th:only-of-type {\n",
       "        vertical-align: middle;\n",
       "    }\n",
       "\n",
       "    .dataframe tbody tr th {\n",
       "        vertical-align: top;\n",
       "    }\n",
       "\n",
       "    .dataframe thead th {\n",
       "        text-align: right;\n",
       "    }\n",
       "</style>\n",
       "<table border=\"1\" class=\"dataframe\">\n",
       "  <thead>\n",
       "    <tr style=\"text-align: right;\">\n",
       "      <th></th>\n",
       "      <th>species</th>\n",
       "      <th>F_j0</th>\n",
       "      <th>change</th>\n",
       "      <th>F_j</th>\n",
       "      <th>C_j</th>\n",
       "    </tr>\n",
       "  </thead>\n",
       "  <tbody>\n",
       "    <tr>\n",
       "      <th>0</th>\n",
       "      <td>A</td>\n",
       "      <td>F_A0</td>\n",
       "      <td>-F_A0*X</td>\n",
       "      <td>F_A0*(1-X)</td>\n",
       "      <td>C_A0*(1-X)</td>\n",
       "    </tr>\n",
       "    <tr>\n",
       "      <th>1</th>\n",
       "      <td>B</td>\n",
       "      <td>0.01*F_A0</td>\n",
       "      <td>0.01*F_A0*X</td>\n",
       "      <td>F_A0*(0.01+X)</td>\n",
       "      <td>C_A0*(0.01+X)</td>\n",
       "    </tr>\n",
       "    <tr>\n",
       "      <th>2</th>\n",
       "      <td>T</td>\n",
       "      <td>1.01*F_A0</td>\n",
       "      <td>0</td>\n",
       "      <td>1.01*F_A0</td>\n",
       "      <td>None</td>\n",
       "    </tr>\n",
       "  </tbody>\n",
       "</table>\n",
       "</div>"
      ],
      "text/plain": [
       "  species       F_j0       change            F_j            C_j\n",
       "0       A       F_A0      -F_A0*X     F_A0*(1-X)     C_A0*(1-X)\n",
       "1       B  0.01*F_A0  0.01*F_A0*X  F_A0*(0.01+X)  C_A0*(0.01+X)\n",
       "2       T  1.01*F_A0            0      1.01*F_A0           None"
      ]
     },
     "execution_count": 11,
     "metadata": {},
     "output_type": "execute_result"
    }
   ],
   "source": [
    "# Create a stoichiometric table here\n",
    "import pandas as pd\n",
    "\n",
    "def stoichiometry_equalmolar_reaction(A0, B0):\n",
    "    \"\"\"\n",
    "    Function to create the stoichiomatric table for an eualmolar reaction with one reactant (A) and one product (B).\n",
    "    Input:\n",
    "        A0, B0: initial streams of A and B, respectively, in kmol/m^3.\n",
    "    Output:\n",
    "        stoichiometry_table (pd.DataFrame): pandas dataframe of the stoichiometric table of the given reaction.\n",
    "                                            It contains 5 columns: the species, \n",
    "                                            the number of moles that each species initially presents (feed rate),\n",
    "                                            the change in the number of moles brought about by reaction,\n",
    "                                            the number of moles after time t (effluent rate),\n",
    "                                            the concentration.\n",
    "    \"\"\"\n",
    "    # initial cnditions\n",
    "    Fj0_A = 'F_A0'\n",
    "    Fj0_B = f'{B0}*F_A0'\n",
    "    Fj0_T = f'{A0 + B0}*F_A0'\n",
    "    \n",
    "    # change\n",
    "    change_A = '-F_A0*X'\n",
    "    change_B = f'{B0/A0}*F_A0*X'\n",
    "    change_T = 0\n",
    "    \n",
    "    # after time t\n",
    "    Fj_A = 'F_A0*(1-X)'\n",
    "    Fj_B = f'F_A0*({B0}+X)'\n",
    "    Fj_T = Fj0_T\n",
    "    \n",
    "    # concentration\n",
    "    Cj_A = 'C_A0*(1-X)'\n",
    "    Cj_B = f'C_A0*({B0}+X)'\n",
    "    \n",
    "    stoichiometry_table = pd.DataFrame()\n",
    "    stoichiometry_table['species'] = ['A', 'B', 'T']\n",
    "    stoichiometry_table['F_j0'] = [Fj0_A, Fj0_B, Fj0_T]\n",
    "    stoichiometry_table['change'] = [change_A, change_B, change_T]\n",
    "    stoichiometry_table['F_j'] = [Fj_A, Fj_B, Fj_T]\n",
    "    stoichiometry_table['C_j'] = [Cj_A, Cj_B, None]\n",
    "    \n",
    "    return stoichiometry_table\n",
    "    \n",
    "stoichiometry_equalmolar_reaction(1, 0.01)"
   ]
  },
  {
   "cell_type": "markdown",
   "id": "146cd313-bd5a-491f-b99e-a5d99ef33926",
   "metadata": {},
   "source": [
    "### **Example 2:**\n",
    "\n",
    "$2A(1)→ B(1)$\n",
    "\n",
    "takes place in the liquid phase. A kinetic study is carried out in a batch reactor under the following operating conditions. The concentration of A in the reactor at the start is $120 mol/m^3$. There is no B in the reactor at the start of the experiment and the temperature is assumed to be constant at 330 K.\n",
    "\n",
    "When solving the problem, it can be assumed that there are no volume changes during the reaction.\n",
    "\n",
    "1.1. Set up a stoichiometric table and find expressions for $C_A$ and $C_B$ as a function of the degree of conversion of A."
   ]
  },
  {
   "cell_type": "code",
   "execution_count": null,
   "id": "304ff54a-de03-4eec-8a66-b53d7b247311",
   "metadata": {},
   "outputs": [],
   "source": [
    "# Your code here"
   ]
  },
  {
   "cell_type": "markdown",
   "id": "e5e557c8-bfcf-41a4-9de0-047ae22ebb29",
   "metadata": {},
   "source": [
    "### **Example 3:**\n",
    "\n",
    "A company is considering implementing a new reaction in their existing process plant. The reaction takes place in the gas phase and is autocatalytic. The reaction is described by the following expression:\n",
    "\n",
    "$A+0.5B → C+D$\n",
    "\n",
    "Where the product of the reaction, C, also catalyzes the reaction. \n",
    "\n",
    "The feed stream consists of equal amounts of A and B. $C_{A0} = C_{B0} = 5 kmol/m^3$. and the flow rate to the reactor is $v_0 = 10 m^3/h$. Laboratory experiments have shown that the reaction rate can be described with the following expression:\n",
    "\n",
    "$-r_A = k_1C_AC_BC_C \\quad [\\frac{kmol}{hm^3}]$\n",
    "\n",
    "Under the relevant conditions, the rate constant has been determined to be $k_1 = 0.05 \\frac{m^6}{kmol^2 \\cdot h}$. The reaction is carried out under isothermal conditions.\n",
    "\n",
    "Question 1.1 \n",
    "Set up a stoichiometric table for a flow reactor and derive expressions for the concentration of A, B and C as a function of the degree of conversion, X."
   ]
  },
  {
   "cell_type": "code",
   "execution_count": null,
   "id": "e855201e-5e66-470c-bdd7-a75706424ba8",
   "metadata": {},
   "outputs": [],
   "source": [
    "# Your code here"
   ]
  },
  {
   "cell_type": "markdown",
   "id": "da060ee0-ad08-4d77-add1-c1c1f2500b03",
   "metadata": {},
   "source": [
    "### **Example 4:**\n",
    "\n",
    "The reaction\n",
    "\n",
    "$3A+ \\frac{4}{5}B → \\frac{1}{4}C+D$\n",
    "\n",
    "takes place in liquid fase. A kinetic study is carried out in a batch reactor at the following operating conditions: the initial concentration of A in the reactor is $75 mol/m^3$. There is no C or D in the reactor at the start of the experiment and the temperature is assumed to be constant. A is the limiting reactant and B is present in excess.\n",
    "\n",
    "When solving the problem, it can be assumed that there are no volume changes during the reaction.\n",
    "\n",
    "Question 2.1.\n",
    "Draw up a stoichiometric table and find expressions for $C_A$ and $C_D$ as a function of the degree of conversion of A. Plot $C_A$, $C_C$ and $C_D$ as a function of time."
   ]
  },
  {
   "cell_type": "code",
   "execution_count": null,
   "id": "ee02378f-f65a-4859-8310-0017166a1446",
   "metadata": {},
   "outputs": [],
   "source": [
    "# Your code here"
   ]
  }
 ],
 "metadata": {
  "kernelspec": {
   "display_name": "Python 3 (ipykernel)",
   "language": "python",
   "name": "python3"
  },
  "language_info": {
   "codemirror_mode": {
    "name": "ipython",
    "version": 3
   },
   "file_extension": ".py",
   "mimetype": "text/x-python",
   "name": "python",
   "nbconvert_exporter": "python",
   "pygments_lexer": "ipython3",
   "version": "3.8.10"
  }
 },
 "nbformat": 4,
 "nbformat_minor": 5
}
