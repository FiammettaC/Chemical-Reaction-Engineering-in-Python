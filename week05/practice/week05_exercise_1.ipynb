{
 "cells": [
  {
   "cell_type": "markdown",
   "id": "3b32892e-b217-4866-a52d-356f88415e55",
   "metadata": {},
   "source": [
    "# Instructions\n",
    "The task for this week is to solve another exercise previously seen during the course, specifically in week 3.\n",
    "You should already be comfortable with the solution, so you can focus on the Python implementation.\n",
    "\n",
    "Your can find the solution to the exercise in another notebook, but please give it a try to solve it before looking at it. \n",
    "If you are not sure about the implementation, try to work in small groups."
   ]
  },
  {
   "cell_type": "markdown",
   "id": "94ed3e18-5b6f-498c-a357-1b1a07b2aa08",
   "metadata": {},
   "source": [
    "### Problem A\n",
    "An exothermic reaction A → B is to be carried out adiabatically to achieve a conversion of 90%. \n",
    "The rate-conversion data is provided in the figure below.\n",
    "1) What size of single CSTR is needed?\n",
    "2) What size of single PBR is needed?\n",
    "Wishing to minimize the toal mass of catalyst \n",
    "needed:\n",
    "3) What number, order and size of PBR and \n",
    "CSTR in series would you use to obtain a \n",
    "conversion of 90 %"
   ]
  },
  {
   "cell_type": "markdown",
   "id": "db3228da-da76-441b-8b02-566278d8d72e",
   "metadata": {},
   "source": [
    "First task: Let's first define some data points\n",
    "Build the curve illustrated in \"Grupperegningsopgave E3\".\n",
    "Then visualize the data in `matplotlib`.\n",
    "\n",
    "*Hint*: create two lists, one for the x and one for the y values and look into the `interp1d` function from the `scipy.interpolate` package."
   ]
  },
  {
   "cell_type": "code",
   "execution_count": 1,
   "id": "b8849608-001a-4f34-a811-5f56721c1b35",
   "metadata": {},
   "outputs": [],
   "source": [
    "import numpy as np\n",
    "import matplotlib.pyplot as plt\n",
    "from scipy.interpolate import interp1d\n",
    "plt.rcParams['text.usetex'] = True\n",
    "plt.rcParams.update(plt.rcParamsDefault)\n",
    "\n",
    "# let's plot our data\n",
    "#plt.plot(list_x, list_y, color='green')\n",
    "#plt.xlabel('Conversion, X')\n",
    "#plt.ylabel(r\"$\\frac{F_{A0}}{-r_{A'}}$\")\n",
    "#plt.show()"
   ]
  },
  {
   "cell_type": "markdown",
   "id": "3da77fa8-58fd-4a1f-9039-db2480fa7d7c",
   "metadata": {},
   "source": [
    "1) What size of single CSTR is needed?\n",
    "\n",
    "*Hint*: We can use the `np.where` function to reach 90% conversion"
   ]
  },
  {
   "cell_type": "code",
   "execution_count": 5,
   "id": "7f71b991-eabc-47ae-8e83-77c51e96564d",
   "metadata": {},
   "outputs": [
    {
     "name": "stdout",
     "output_type": "stream",
     "text": [
      "F_A0/-r_A' is: _ kg\n"
     ]
    }
   ],
   "source": [
    "# Your code here\n",
    "print(f\"F_A0/-r_A' is: _ kg\")"
   ]
  },
  {
   "cell_type": "markdown",
   "id": "6390dc3e-e364-487f-8e7f-258b53e898db",
   "metadata": {},
   "source": [
    "For a catalytic reactor the size is normally given as weight of catalyst (W).\n",
    "\n",
    "Print W below:"
   ]
  },
  {
   "cell_type": "code",
   "execution_count": 6,
   "id": "062842d1-1c76-4b33-81ce-5ac213d12f8f",
   "metadata": {},
   "outputs": [
    {
     "name": "stdout",
     "output_type": "stream",
     "text": [
      "The size of the reactor is: _ kg\n"
     ]
    }
   ],
   "source": [
    "# Your code here\n",
    "print(f'The size of the reactor is: _ kg')"
   ]
  },
  {
   "cell_type": "markdown",
   "id": "b532b9bc-40ef-4b7a-8256-80753e4f7128",
   "metadata": {},
   "source": [
    "2) What size of single PBR is needed?\n",
    "\n",
    "The size of a PBR needed to reach 90% conversion is equivalent to the area under the \n",
    "graph (blue area)"
   ]
  },
  {
   "cell_type": "code",
   "execution_count": 7,
   "id": "56c4d53a-42bd-42af-b333-8bb437a15216",
   "metadata": {},
   "outputs": [],
   "source": [
    "# Your code here"
   ]
  },
  {
   "cell_type": "markdown",
   "id": "af269b92-2904-4529-9f41-2b0e10fe5c3d",
   "metadata": {},
   "source": [
    "3) What number, order and size of PBR and \n",
    "CSTR in series would you use to obtain a \n",
    "conversion of 90 %"
   ]
  },
  {
   "cell_type": "code",
   "execution_count": 8,
   "id": "ef6d4008-a28f-467e-8f43-82d5a4a85250",
   "metadata": {},
   "outputs": [],
   "source": [
    "# Your code here"
   ]
  }
 ],
 "metadata": {
  "kernelspec": {
   "display_name": "Python 3 (ipykernel)",
   "language": "python",
   "name": "python3"
  },
  "language_info": {
   "codemirror_mode": {
    "name": "ipython",
    "version": 3
   },
   "file_extension": ".py",
   "mimetype": "text/x-python",
   "name": "python",
   "nbconvert_exporter": "python",
   "pygments_lexer": "ipython3",
   "version": "3.8.10"
  }
 },
 "nbformat": 4,
 "nbformat_minor": 5
}
