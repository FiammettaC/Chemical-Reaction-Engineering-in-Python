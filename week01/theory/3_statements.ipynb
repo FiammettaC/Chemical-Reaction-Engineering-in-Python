{
 "cells": [
  {
   "cell_type": "markdown",
   "id": "b8630b2e-e580-4247-a4c3-ea2fc7910a78",
   "metadata": {},
   "source": [
    "# Statements and Packaging"
   ]
  },
  {
   "cell_type": "markdown",
   "id": "52ed642d-d8eb-41ef-b932-02f520e0efdf",
   "metadata": {},
   "source": [
    "A **statement** is an instruction that your program can execute.\n",
    "In Python, you can compute, bind, or save values in different ways. \n",
    "\n",
    "Some of the most common ways are:\n",
    "\n",
    "1. **Statements**, for combining, printing or calculating values.\n",
    "2. **Assignments**, for binding values to variables (names).\n",
    "3. **Lists** and **generators** to store values.\n",
    "4. **Compound statements**, control structures for running code **conditionally** or **repeatedly**.\n",
    "5. **Packaging**, for reusing chunks of code."
   ]
  },
  {
   "cell_type": "markdown",
   "id": "1af36654-5828-49a4-83aa-c436b32731b5",
   "metadata": {},
   "source": [
    "## 1. Simple statement"
   ]
  },
  {
   "cell_type": "code",
   "execution_count": 1,
   "id": "cf3a005c-d939-45cb-8283-d406499e5263",
   "metadata": {},
   "outputs": [
    {
     "name": "stdout",
     "output_type": "stream",
     "text": [
      "4\n",
      "5.5\n",
      "glucose\n"
     ]
    },
    {
     "data": {
      "text/plain": [
       "True"
      ]
     },
     "execution_count": 1,
     "metadata": {},
     "output_type": "execute_result"
    }
   ],
   "source": [
    "# statement 1\n",
    "print(4)\n",
    "\n",
    "# statement 2\n",
    "print((5 + 6) / 2)\n",
    "\n",
    "# statement 3\n",
    "print('glucose')\n",
    "\n",
    "# statement 4\n",
    "2 == 2"
   ]
  },
  {
   "cell_type": "markdown",
   "id": "84a72641-468d-4ee0-b31f-6f0027625d19",
   "metadata": {},
   "source": [
    "Fun fact: Python does not have a rule to add three numbers together, but complex problems through binary operations (operations involving two statements)."
   ]
  },
  {
   "cell_type": "code",
   "execution_count": 2,
   "id": "52438b69-f770-461f-9869-5ffd7a560231",
   "metadata": {},
   "outputs": [
    {
     "data": {
      "text/plain": [
       "4.0"
      ]
     },
     "execution_count": 2,
     "metadata": {},
     "output_type": "execute_result"
    }
   ],
   "source": [
    "(5 + 6 - 3) / 2"
   ]
  },
  {
   "cell_type": "code",
   "execution_count": 3,
   "id": "88fe08de-17de-4e4c-acef-55293fd5259e",
   "metadata": {},
   "outputs": [
    {
     "data": {
      "text/plain": [
       "4.0"
      ]
     },
     "execution_count": 3,
     "metadata": {},
     "output_type": "execute_result"
    }
   ],
   "source": [
    "# How Python solves : (5 + 6 - 3) / 2\n",
    "x0 = 5 + 6\n",
    "x1 = x0 - 3\n",
    "x2 = x1 / 2\n",
    "x2"
   ]
  },
  {
   "cell_type": "markdown",
   "id": "eaad2b48-f0da-47fd-8d20-4db110e03c73",
   "metadata": {},
   "source": [
    "## 2. Assignment statement"
   ]
  },
  {
   "cell_type": "markdown",
   "id": "9c767049-ebc4-43d5-87dc-62d0d17b17ef",
   "metadata": {},
   "source": [
    "Assigning values to variables allows reusing a variable.\n",
    "We use `=` to bind a value to a variable.\n",
    "Assigning a value to a variable is useful to write more clear and concise code since we can now use our variable everywhere the value (or simple statement) would go.\n",
    "\n",
    "Before defining variables, the environment (or namespace) is empty. You can use `%who` to check the status of your environment."
   ]
  },
  {
   "cell_type": "code",
   "execution_count": 2,
   "id": "e246e5d9-ea88-4d48-91a1-cfe179108b1f",
   "metadata": {},
   "outputs": [],
   "source": [
    "# assignment 1\n",
    "au = 'Gold'\n",
    "\n",
    "# assignment 2\n",
    "total = (2 + 5 - 6) / 5\n",
    "\n",
    "# assignment 3\n",
    "elements = ['C', 'N', 'O']"
   ]
  },
  {
   "cell_type": "code",
   "execution_count": 4,
   "id": "d8e6ed1c-b3e5-4a11-b62f-e54e58ce4f07",
   "metadata": {},
   "outputs": [
    {
     "data": {
      "text/plain": [
       "'N'"
      ]
     },
     "execution_count": 4,
     "metadata": {},
     "output_type": "execute_result"
    }
   ],
   "source": [
    "elements[1]"
   ]
  },
  {
   "cell_type": "code",
   "execution_count": 5,
   "id": "4b6c5055-4d88-4c78-9196-c42fdb8e1f21",
   "metadata": {},
   "outputs": [
    {
     "data": {
      "text/plain": [
       "0.2"
      ]
     },
     "execution_count": 5,
     "metadata": {},
     "output_type": "execute_result"
    }
   ],
   "source": [
    "total"
   ]
  },
  {
   "cell_type": "code",
   "execution_count": 6,
   "id": "c1969c1e-36ae-4ab7-a356-93ab080ead04",
   "metadata": {},
   "outputs": [
    {
     "name": "stdout",
     "output_type": "stream",
     "text": [
      "Variable   Type     Data/Info\n",
      "-----------------------------\n",
      "au         str      Gold\n",
      "elements   list     n=3\n",
      "total      float    0.2\n",
      "x0         int      11\n",
      "x1         int      8\n",
      "x2         float    4.0\n"
     ]
    }
   ],
   "source": [
    "%whos"
   ]
  },
  {
   "cell_type": "markdown",
   "id": "fbc07fb8-14bd-4d7d-ace5-7d458ccfd12d",
   "metadata": {},
   "source": [
    "But be careful, **variables $\\neq$ values**! \n",
    "\n",
    "Data objects (values) exist in memory, while variables are a *reference* to the value, or best a reference to the place in memory where the object is stored. This also means that we can have more than one variable referencing the same value."
   ]
  },
  {
   "cell_type": "code",
   "execution_count": 7,
   "id": "5a52f1a3-8c5f-4535-bf84-d06cd6aae4b2",
   "metadata": {},
   "outputs": [
    {
     "name": "stdout",
     "output_type": "stream",
     "text": [
      "[20, 25, 100]\n"
     ]
    }
   ],
   "source": [
    "# Pay attention to variables\n",
    "# In the following example, temperatures and grams have the same values at the beginning, \n",
    "# so we assume they will be the same in the future as well\n",
    "temperatures = [20, 25]\n",
    "grams = [20, 25]\n",
    "temperatures = grams\n",
    "\n",
    "# The setting of your experiment changes, and you have to use a higher quantity of grams\n",
    "grams.append(100) # append is used to add items to a list\n",
    "\n",
    "# Note that now we have a big problem in our temperatures list!\n",
    "print(temperatures)"
   ]
  },
  {
   "cell_type": "markdown",
   "id": "d0d3b2a6-9b9d-4864-90c3-3bdf50d260bc",
   "metadata": {},
   "source": [
    "The built-in function `id` can be helpful to check if two variables reference exactly the same value"
   ]
  },
  {
   "cell_type": "code",
   "execution_count": 8,
   "id": "3d35ce0d-cbbe-44fe-a588-c3923b867f8d",
   "metadata": {},
   "outputs": [
    {
     "data": {
      "text/plain": [
       "True"
      ]
     },
     "execution_count": 8,
     "metadata": {},
     "output_type": "execute_result"
    }
   ],
   "source": [
    "id(temperatures) == id(grams)"
   ]
  },
  {
   "cell_type": "code",
   "execution_count": 9,
   "id": "f40e1bcc-5fac-4900-9a14-3143c8ebe49e",
   "metadata": {},
   "outputs": [
    {
     "data": {
      "text/plain": [
       "\u001b[1;31mSignature:\u001b[0m \u001b[0mid\u001b[0m\u001b[1;33m(\u001b[0m\u001b[0mobj\u001b[0m\u001b[1;33m,\u001b[0m \u001b[1;33m/\u001b[0m\u001b[1;33m)\u001b[0m\u001b[1;33m\u001b[0m\u001b[1;33m\u001b[0m\u001b[0m\n",
       "\u001b[1;31mDocstring:\u001b[0m\n",
       "Return the identity of an object.\n",
       "\n",
       "This is guaranteed to be unique among simultaneously existing objects.\n",
       "(CPython uses the object's memory address.)\n",
       "\u001b[1;31mType:\u001b[0m      builtin_function_or_method\n"
      ]
     },
     "metadata": {},
     "output_type": "display_data"
    }
   ],
   "source": [
    "# Use ? to get documentation of any function \n",
    "id?"
   ]
  },
  {
   "cell_type": "markdown",
   "id": "51e788a8-dbe9-45d3-94e4-77eea18af70d",
   "metadata": {},
   "source": [
    "**Be careful, variables can be overwritten!**"
   ]
  },
  {
   "cell_type": "code",
   "execution_count": 10,
   "id": "0d8fe118-f050-4df2-be2d-bed436079382",
   "metadata": {},
   "outputs": [
    {
     "name": "stdout",
     "output_type": "stream",
     "text": [
      "[20, 25]\n",
      "[20, 25, 100]\n"
     ]
    }
   ],
   "source": [
    "# Define temperatures and grams\n",
    "temperatures = [20, 25]\n",
    "grams = [20, 25, 100]\n",
    "\n",
    "# Print values in temperatures and grams\n",
    "print(temperatures)\n",
    "print(grams)"
   ]
  },
  {
   "cell_type": "markdown",
   "id": "3ca14479-6b31-41a8-8846-710178d9b04c",
   "metadata": {},
   "source": [
    "As you can see, now `temperatures` contains different values than in cell 7."
   ]
  },
  {
   "cell_type": "markdown",
   "id": "7eb17647-6ac1-47bd-9270-c58980b42b99",
   "metadata": {},
   "source": [
    "## 3. Lists and generators"
   ]
  },
  {
   "cell_type": "markdown",
   "id": "83348c9a-749e-47d3-9d5f-45ffb2365f76",
   "metadata": {},
   "source": [
    "We will deep dive into lists and other types of data structures next week, for now, the only notion that you need to acquire is that items can be assigned to lists in multiple ways, e.g., *manually* (which we want to avoid since programming is all about automation), using a *loop* or through a *list comprehension*."
   ]
  },
  {
   "cell_type": "markdown",
   "id": "1dee231f-2de3-4a1f-b2d0-6071ffb17b98",
   "metadata": {},
   "source": [
    "In the following examples, we will use different techniques to create `list_gallons`."
   ]
  },
  {
   "cell_type": "code",
   "execution_count": 11,
   "id": "b68f8034-f057-4ac9-a3e3-19c3f77448a1",
   "metadata": {},
   "outputs": [],
   "source": [
    "# To avoid: create a list manually\n",
    "\n",
    "# create original list - we will reuse this in the next cells\n",
    "list_liters = [6, 9, 15.7]\n",
    "\n",
    "# create list_gallons manually\n",
    "list_gallons = [1.585, 2.3775, 4.1475]"
   ]
  },
  {
   "cell_type": "markdown",
   "id": "86494f63-1ef5-424f-a30a-86124882aeed",
   "metadata": {},
   "source": [
    "You can index items in a list in this way - and remember, you start counting from 0 in python, so index 0 is the first item!"
   ]
  },
  {
   "cell_type": "code",
   "execution_count": 12,
   "id": "34aca0ef-1b2a-490b-b095-27d8f945a41d",
   "metadata": {},
   "outputs": [
    {
     "name": "stdout",
     "output_type": "stream",
     "text": [
      "The first item in the list is 1.585\n",
      "The second item in the list is 2.3775\n",
      "...or 2.3775\n",
      "The last item in the list is 4.1475\n"
     ]
    }
   ],
   "source": [
    "print(f\"The first item in the list is {list_gallons[0]}\")\n",
    "print(f\"The second item in the list is {list_gallons[1]}\")\n",
    "print(f\"...or {list_gallons[-2]}\")\n",
    "print(f\"The last item in the list is {list_gallons[-1]}\")"
   ]
  },
  {
   "cell_type": "code",
   "execution_count": 1,
   "id": "b29723f9-e4f9-4df8-89fd-e2c4e6440ffe",
   "metadata": {},
   "outputs": [
    {
     "name": "stdout",
     "output_type": "stream",
     "text": [
      "The list contains the following elements:  [1.585, 2.3775, 4.1475]\n"
     ]
    }
   ],
   "source": [
    "# Creating a list in a loop\n",
    "\n",
    "# create empty list_gallons\n",
    "list_gallons = []\n",
    "# loop through the elements of the original list\n",
    "for item in list_liters:\n",
    "    # convert given value from liters to gallons\n",
    "    gallons = round(item * 0.2641720524, 4)\n",
    "    # assign resulting values in gallons to list_gallons\n",
    "    list_gallons.append(gallons)\n",
    "print(\"The list contains the following elements: \", list_gallons)"
   ]
  },
  {
   "cell_type": "markdown",
   "id": "19275570-d9c1-4830-8e21-4b2016907366",
   "metadata": {},
   "source": [
    "Another way to create a list is through *list comprehension*. This means that we will not use the traditional for loop syntax, but condense it into only one line."
   ]
  },
  {
   "cell_type": "code",
   "execution_count": 14,
   "id": "f9f95acf-4b74-4f8d-bab1-4d1eab12fa41",
   "metadata": {
    "tags": []
   },
   "outputs": [
    {
     "data": {
      "text/plain": [
       "[1.585, 2.3775, 4.1475]"
      ]
     },
     "execution_count": 14,
     "metadata": {},
     "output_type": "execute_result"
    }
   ],
   "source": [
    "# Creating the list through a list comprehension\n",
    "\n",
    "# use a list comprehension to create list_gallons\n",
    "list_gallons = [round(item * 0.2641720524, 4) for item in list_liters]\n",
    "list_gallons"
   ]
  },
  {
   "cell_type": "markdown",
   "id": "a80a24de-6a3c-435b-a179-70d4d7fb8cde",
   "metadata": {},
   "source": [
    "Generally, list comprehensions are faster than for loops, so keep this in mind if speed is a concern when writing your program.\n",
    "Read [this tutorial](https://realpython.com/list-comprehension-python/) if you want to know more about for loops and list comprehensions, and when to use them."
   ]
  },
  {
   "cell_type": "markdown",
   "id": "2ab21ac2-a2b5-4f40-862e-c7b612a5a568",
   "metadata": {},
   "source": [
    "Extra: **List comprehensions vs generator expressions**\n",
    "\n",
    "Note that you can also decide to create a generator instead of a list.\n",
    "The disadvantage of this approach is that you can only use a generator created in this way once.\n",
    "\n",
    "You can read more about the differences between list comprehensions and generator expressions [here](https://www.geeksforgeeks.org/python-list-comprehensions-vs-generator-expressions/#:~:text=So%20what's%20the%20difference%20between,memory%20efficient%20than%20the%20lists.)."
   ]
  },
  {
   "cell_type": "code",
   "execution_count": 15,
   "id": "ce934c46-9978-42f4-a69a-7eee1df27605",
   "metadata": {},
   "outputs": [
    {
     "data": {
      "text/plain": [
       "<generator object <genexpr> at 0x00000235A024D120>"
      ]
     },
     "execution_count": 15,
     "metadata": {},
     "output_type": "execute_result"
    }
   ],
   "source": [
    "# Create a generator\n",
    "\n",
    "# create a generator instead of a list by substituting brackets with parenthesis\n",
    "generator_gallons = (round(item * 0.2641720524, 4) for item in list_liters)\n",
    "generator_gallons"
   ]
  },
  {
   "cell_type": "code",
   "execution_count": 16,
   "id": "7148a31d-b46f-493e-8d47-a4d081858a60",
   "metadata": {},
   "outputs": [
    {
     "name": "stdout",
     "output_type": "stream",
     "text": [
      "1.585\n",
      "2.3775\n",
      "4.1475\n"
     ]
    }
   ],
   "source": [
    "# The first time we run this loop the generator is going to return the values\n",
    "for item in generator_gallons:\n",
    "    print(item)"
   ]
  },
  {
   "cell_type": "code",
   "execution_count": 17,
   "id": "6ddccb51-4365-4d3b-ac15-5026e883d4a8",
   "metadata": {},
   "outputs": [],
   "source": [
    "# the second time it won't\n",
    "for item in generator_gallons:\n",
    "    print(item)"
   ]
  },
  {
   "cell_type": "markdown",
   "id": "64eb6e92-613b-45db-96ff-77f1be3afae6",
   "metadata": {},
   "source": [
    "You may be wondering, if the generator expression can't be reused more than once, why would anyone use this instead of a normal list?\n",
    "\n",
    "The answer is memory and time!\n",
    "Generators don't construct a list object, so instead of storing the whole list in memory, they generate one item at a time and generate the next only when in demand. On the other hand, in a list comprehension, memory is reserved for the whole list. Additionally, generators are also more time efficient than list comprehensions."
   ]
  },
  {
   "cell_type": "markdown",
   "id": "6f5af29b-8275-4e54-b1a0-4dea6f36cc89",
   "metadata": {},
   "source": [
    "## 4. Compound statement"
   ]
  },
  {
   "cell_type": "markdown",
   "id": "b78322b2-986f-478e-b603-3a80676a0a2e",
   "metadata": {},
   "source": [
    "Compound statements are more complex statements that allow code in Python to be run according to a logic or order.\n",
    "They allow code to be run conditionally, i.e., expressions are evaluated one by one until one is found to be true; or repeatedly, i.e., code runs until a condition is satisfied (as long as the expression is true or iteration over given data structure is over). The two most widely used compound statements are **if statements** and **loops**.\n",
    "\n",
    "Here, we will go through the basics of compound statements, which will be explored in more detail in the next Notebook *5-Control Flow*.\n",
    "\n",
    "For more resources, check out the documentation [here](https://docs.python.org/3/reference/compound_stmts.html)."
   ]
  },
  {
   "cell_type": "markdown",
   "id": "da1e7fde-0610-4acb-8e58-a7be5c49b8b5",
   "metadata": {},
   "source": [
    "### **if statement**"
   ]
  },
  {
   "cell_type": "markdown",
   "id": "7def16a9-6d78-4422-83a9-420b2e4eb641",
   "metadata": {},
   "source": [
    "`if statement` is used for conditional execution. \n",
    "\n",
    "In plain language, an `if-else` clause tells Python to run the code in order.\n",
    "- `if` the first condition is met, then do something, \n",
    "- if the second (`elif`) condition is true, then do something else, \n",
    "- and so on \n",
    "- until reaching (if present) the last clause (`else`), if everything else before is false, then do this."
   ]
  },
  {
   "cell_type": "markdown",
   "id": "2d5b22ef-cd87-4903-819b-1248ca1db168",
   "metadata": {},
   "source": [
    "In Python syntax:\n",
    "``` python\n",
    "if <condition>:\n",
    "⇥ <suite>\n",
    "elif <condition>:\n",
    "⇥ <suite>\n",
    "elif <condition>:\n",
    "⇥ <suite>\n",
    "...\n",
    "else:\n",
    "⇥ <suite>\n",
    "```"
   ]
  },
  {
   "cell_type": "markdown",
   "id": "890afc7f-388b-4780-b457-6f0365afa522",
   "metadata": {},
   "source": [
    "Let's see an actual example of an `if statement`.\n",
    "\n",
    "Imagine having a barrel of water and wanting to reach steady state. In this case, the inflow has to be equal to the outflow."
   ]
  },
  {
   "cell_type": "code",
   "execution_count": 7,
   "id": "5d8ab530-99b4-48c8-a8f5-9cec7f4e768e",
   "metadata": {},
   "outputs": [
    {
     "name": "stdout",
     "output_type": "stream",
     "text": [
      "No steady state\n"
     ]
    }
   ],
   "source": [
    "# define list containing the inflow (process[0]) value and the outflow (process[1]) value\n",
    "process = [10, 10]\n",
    "# first clause, if this is true...\n",
    "if process[0] == process[1]:\n",
    "    # ...then do this\n",
    "    print('Steady state')\n",
    "# if the clause before is not true...\n",
    "else:\n",
    "    # ...then do this\n",
    "    print('No steady state')"
   ]
  },
  {
   "cell_type": "markdown",
   "id": "7a2a90cf-b12d-4165-92f5-64cc92ea4228",
   "metadata": {},
   "source": [
    "Now try to change one element in the `process` list so that the first condition is false"
   ]
  },
  {
   "cell_type": "code",
   "execution_count": 19,
   "id": "76f69c92-6a75-4917-bb2c-e5ffd15decec",
   "metadata": {},
   "outputs": [],
   "source": [
    "# Your code here"
   ]
  },
  {
   "cell_type": "markdown",
   "id": "38bafb75-abca-415e-9e8f-fbf1a9a47fce",
   "metadata": {},
   "source": [
    "### **loops**"
   ]
  },
  {
   "cell_type": "markdown",
   "id": "1295a318-3eb8-4412-99da-22d57d894024",
   "metadata": {},
   "source": [
    "There are two types of loops used in Python: `for` and `while` loops.\n",
    "\n",
    "Before looking at the cells below, can you guess the difference between a `for` and a `while` loop?"
   ]
  },
  {
   "cell_type": "code",
   "execution_count": 20,
   "id": "4990e8cc-1237-4dc2-b372-a8d4342cd057",
   "metadata": {},
   "outputs": [],
   "source": [
    "# Write your answer here \n",
    "# (either use an # for commenting the line out or transform the cell to Markdown)"
   ]
  },
  {
   "cell_type": "markdown",
   "id": "421d1ca4-1eec-43d9-afe9-ed5bd0431041",
   "metadata": {},
   "source": [
    "#### for loop"
   ]
  },
  {
   "cell_type": "markdown",
   "id": "1af9e9a5-b230-452b-9589-0e9508e75962",
   "metadata": {},
   "source": [
    "Python syntax for the `for` loop:\n",
    "    \n",
    "``` python\n",
    "for <target_list> in <expression_list>:\n",
    "⇥ <suite>\n",
    "```"
   ]
  },
  {
   "cell_type": "markdown",
   "id": "f7513274-e178-4dd2-887d-382999f25f0c",
   "metadata": {},
   "source": [
    "Now let's look at some examples."
   ]
  },
  {
   "cell_type": "code",
   "execution_count": 21,
   "id": "d7543a9b-16d4-466d-b984-bc20febe4ed6",
   "metadata": {},
   "outputs": [
    {
     "name": "stdout",
     "output_type": "stream",
     "text": [
      "bubble column\n",
      "fluid bed\n",
      "crystalization\n",
      "ion exchange\n",
      "solid-liquid extraction\n"
     ]
    }
   ],
   "source": [
    "# Example of for loop\n",
    "\n",
    "# define list of experiments\n",
    "experiments = [\n",
    "    'Bubble column', 'Fluid bed', 'Crystalization',\n",
    "    'Ion exchange', 'Solid-liquid extraction',\n",
    "]\n",
    "\n",
    "# loop through the list of experiments we want to perform\n",
    "for experiment in experiments:\n",
    "    # print the name of the experiments in lowercase\n",
    "    print(experiment.lower())"
   ]
  },
  {
   "cell_type": "markdown",
   "id": "d22ef25d-4011-46b0-b998-3a1674ad32c1",
   "metadata": {},
   "source": [
    "#### while loop"
   ]
  },
  {
   "cell_type": "markdown",
   "id": "8aae4e9f-d53d-402f-8862-4e935c03ff1f",
   "metadata": {},
   "source": [
    "Python syntax for the `while` loop:\n",
    "    \n",
    "``` python\n",
    "while <condition>:\n",
    "⇥ <suite>\n",
    "```"
   ]
  },
  {
   "cell_type": "code",
   "execution_count": 22,
   "id": "0c5bdb7f-06f1-4a7b-bace-3405aa1ba227",
   "metadata": {},
   "outputs": [
    {
     "name": "stdout",
     "output_type": "stream",
     "text": [
      "Experiments to perform:  ['Bubble column', 'Fluid bed', 'Crystalization', 'Ion exchange', 'Solid-liquid extraction']\n",
      "Experiments to perform:  ['Bubble column', 'Fluid bed', 'Crystalization', 'Ion exchange']\n",
      "Experiments to perform:  ['Bubble column', 'Fluid bed', 'Crystalization']\n",
      "Only 2 experiments left:  ['Bubble column', 'Fluid bed']\n"
     ]
    }
   ],
   "source": [
    "# Example of while loop\n",
    "\n",
    "# loop through the list of experiments as long as \n",
    "# the list contains more than 2 elements\n",
    "while len(experiments) > 2:\n",
    "    # print the list of experiments\n",
    "    print('Experiments to perform: ', experiments)\n",
    "    # remove the last element in the list\n",
    "    experiments.pop()\n",
    "# print the modified list\n",
    "print('Only 2 experiments left: ', experiments)"
   ]
  },
  {
   "cell_type": "markdown",
   "id": "73c6fb12-4dc6-463a-a511-e5821744200b",
   "metadata": {},
   "source": [
    "In summary:\n",
    "- `for` loops are used to iterate over elements of a sequence.\n",
    "- `while` loops are used for repeated execution as long as the condition is true"
   ]
  },
  {
   "cell_type": "markdown",
   "id": "33a0167a-8d36-4bf7-84dd-ac8310556a28",
   "metadata": {},
   "source": [
    "## 5. Packaging"
   ]
  },
  {
   "cell_type": "markdown",
   "id": "203e5324-7805-4618-828b-0edcb9f3be8b",
   "metadata": {},
   "source": [
    "\"Packaging\" your code into functions will enable you to organize and reuse code, and it makes it easy to maintain and update.\n",
    "\n",
    "\n",
    "A function is defined using the syntax below. It needs to be preceded by 'def', it needs to be assigned a name (e.g., bar_to_pascal) and it allows you to provide some arguments (bar).\n",
    "\"Calling the function\" executes the wrapped code using the input arguments."
   ]
  },
  {
   "cell_type": "markdown",
   "id": "e8e8599f-14bb-4699-98ca-d80d31ffa39c",
   "metadata": {},
   "source": [
    "### Functions"
   ]
  },
  {
   "cell_type": "code",
   "execution_count": 23,
   "id": "e13157af-be75-4a85-a9b3-3089282bdd27",
   "metadata": {},
   "outputs": [
    {
     "data": {
      "text/plain": [
       "2500.0"
      ]
     },
     "execution_count": 23,
     "metadata": {},
     "output_type": "execute_result"
    }
   ],
   "source": [
    "# Define a function that can be reused in the future\n",
    "\n",
    "# use the comand 'def' to define the function\n",
    "# bar_to_pascal is the name that you assign to the function\n",
    "# bar is the argument that you pass to your function\n",
    "def bar_to_pascal(bar):\n",
    "    one_bar_in_pascal = 100000\n",
    "    return bar * one_bar_in_pascal\n",
    "\n",
    "# call the function\n",
    "bar_to_pascal(0.025)"
   ]
  },
  {
   "cell_type": "markdown",
   "id": "6ff0670d-ae7e-418d-ae85-b245399a903f",
   "metadata": {},
   "source": [
    "Note: variables defined inside a function cannot be used outside."
   ]
  },
  {
   "cell_type": "code",
   "execution_count": 24,
   "id": "13e3801f-bd22-4cbe-9f11-a42820bbbba8",
   "metadata": {},
   "outputs": [
    {
     "ename": "NameError",
     "evalue": "name 'one_bar_in_pascal' is not defined",
     "output_type": "error",
     "traceback": [
      "\u001b[1;31m---------------------------------------------------------------------------\u001b[0m",
      "\u001b[1;31mNameError\u001b[0m                                 Traceback (most recent call last)",
      "\u001b[1;32m~\\AppData\\Local\\Temp/ipykernel_12332/2020340663.py\u001b[0m in \u001b[0;36m<module>\u001b[1;34m\u001b[0m\n\u001b[1;32m----> 1\u001b[1;33m \u001b[0mone_bar_in_pascal\u001b[0m\u001b[1;33m\u001b[0m\u001b[1;33m\u001b[0m\u001b[0m\n\u001b[0m",
      "\u001b[1;31mNameError\u001b[0m: name 'one_bar_in_pascal' is not defined"
     ]
    }
   ],
   "source": [
    "one_bar_in_pascal"
   ]
  },
  {
   "cell_type": "markdown",
   "id": "9ebec476-1aef-4490-994c-bcddeb1f7064",
   "metadata": {},
   "source": [
    "Why is it useful to create functions?\n",
    "\n",
    "Functions allow you to reuse code. \n",
    "This means that your code will probably be:\n",
    "- Cleaner\n",
    "- Shorter (since you don't have to specify long operations multiple times)\n",
    "- More robust (copying and pasting lines of code multiple times could introduce some errors, for example not changing one of the variables correctly.\n",
    "\n",
    "Let's see some examples."
   ]
  },
  {
   "cell_type": "markdown",
   "id": "02ace6af-17ff-42f3-b1c4-0bec86546e65",
   "metadata": {},
   "source": [
    "The function that we defined above is quite simple and short, which means that we don't save too many lines of code if we wanted to call it multiple times. "
   ]
  },
  {
   "cell_type": "code",
   "execution_count": 25,
   "id": "d9898fbe-ef38-4821-8f1d-873c62cd98c6",
   "metadata": {},
   "outputs": [
    {
     "name": "stdout",
     "output_type": "stream",
     "text": [
      "25000.0\n",
      "5000.0\n",
      "2000.0\n",
      "100000\n"
     ]
    }
   ],
   "source": [
    "print(bar_to_pascal(0.25))\n",
    "print(bar_to_pascal(0.05))\n",
    "print(bar_to_pascal(0.02))\n",
    "print(bar_to_pascal(1))"
   ]
  },
  {
   "cell_type": "markdown",
   "id": "913bb0a2-7b4c-4de4-9e7d-2c6e1f1f6073",
   "metadata": {},
   "source": [
    "Compared to..."
   ]
  },
  {
   "cell_type": "code",
   "execution_count": 26,
   "id": "b2a87355-daee-4f45-a887-1fdb761fdcf2",
   "metadata": {},
   "outputs": [
    {
     "name": "stdout",
     "output_type": "stream",
     "text": [
      "25000.0\n",
      "5000.0\n",
      "2000.0\n",
      "100000\n"
     ]
    }
   ],
   "source": [
    "print(0.25 * 100000)\n",
    "print(0.05 * 100000)\n",
    "print(0.02 * 100000)\n",
    "print(1 * 100000)"
   ]
  },
  {
   "cell_type": "markdown",
   "id": "2f0d86cf-c737-4528-8dbd-052db383dc57",
   "metadata": {},
   "source": [
    "The result is the same, but you can maybe already notice that, without any context or comments, it would be very difficult to understand what operation you are trying to perform.\n",
    "\n",
    "But what if your function was much longer?\n",
    "\n",
    "Let's compute the **rate constant k**. \n",
    "The initial concentration of A and B is: $20.18 mol/m^3$. The gas can be considered ideal. \n",
    "The gas constant is $R = 8.3144 Pa\\cdot m^3/(mol\\cdot K)$"
   ]
  },
  {
   "cell_type": "code",
   "execution_count": 16,
   "id": "7c03ea37-e820-4dd6-9723-cb352b266de2",
   "metadata": {},
   "outputs": [
    {
     "name": "stdout",
     "output_type": "stream",
     "text": [
      "The constant rate k is: 7.800168850713945e-05 m^3/mol*s\n"
     ]
    }
   ],
   "source": [
    "# define the function and arguments to be provided\n",
    "def rate_constant(C0, C_ratio, t):\n",
    "    # constant k in hours\n",
    "    k_h = (1/(C0*t))*(1/C_ratio-1)\n",
    "    # transform it in seconds\n",
    "    k_s = k_h/(60*60)\n",
    "    return k_s\n",
    "\n",
    "t = 1 # time in h\n",
    "CA_CA0 = 0.15 # ratio of CA/CA0\n",
    "C0 = 20.18 # mol/m^3\n",
    "\n",
    "# call the function and print the rate constant found\n",
    "k = rate_constant(C0, CA_CA0, t)\n",
    "print(f'The constant rate k is: {k} m^3/mol*s')"
   ]
  },
  {
   "cell_type": "markdown",
   "id": "30736537-4b76-414c-ab9f-18cc3af7e4a1",
   "metadata": {},
   "source": [
    "What if we now need to calculate the rate constant for an initial concentration of $19.18 mol/m^3$, with a concentration of CA/CA0 of 0.17 in 2 hours?\n",
    "Than we would have to copy all the code and change the initial concentration variable!\n",
    "\n",
    "It would look like this:"
   ]
  },
  {
   "cell_type": "code",
   "execution_count": 17,
   "id": "5b835e70-f8b6-452f-bf2f-1bf7a2b1fd1f",
   "metadata": {},
   "outputs": [
    {
     "name": "stdout",
     "output_type": "stream",
     "text": [
      "The constant rate k is: 7.800168850713945e-05 m^3/mol*s\n",
      "The constant rate k is: 3.535477451321161e-05 m^3/mol*s\n"
     ]
    }
   ],
   "source": [
    "# Initial concentration of 20.18 mol/m^3\n",
    "\n",
    "t = 1 # time in h\n",
    "CA_CA0 = 0.15 # ratio of CA/CA0\n",
    "C0 = 20.18 # mol/m^3\n",
    "k_h = (1/(C0*t))*(1/CA_CA0-1) # constant k in hours\n",
    "k_s = k_h/(60*60) # transform it in seconds\n",
    "print(f'The constant rate k is: {k_s} m^3/mol*s')\n",
    "\n",
    "\n",
    "# Initial concentration of 19.18 mol/m^3\n",
    "\n",
    "t = 2 # time in h\n",
    "CA_CA0 = 0.17 # ratio of CA/CA0\n",
    "C0 = 19.18 # mol/m^3\n",
    "k_h = (1/(C0*t))*(1/CA_CA0-1) # constant k in hours\n",
    "k_s = k_h/(60*60) # transform it in seconds\n",
    "print(f'The constant rate k is: {k_s} m^3/mol*s')"
   ]
  },
  {
   "cell_type": "markdown",
   "id": "962576f7-d8ea-4a15-ba38-99d822c1939a",
   "metadata": {},
   "source": [
    "If we define a function, we can just do this:"
   ]
  },
  {
   "cell_type": "code",
   "execution_count": 18,
   "id": "688a5278-1e5e-40cd-badd-fecd1fb1c111",
   "metadata": {},
   "outputs": [
    {
     "name": "stdout",
     "output_type": "stream",
     "text": [
      "The constant rate k is: 3.535477451321161e-05 m^3/mol*s\n"
     ]
    }
   ],
   "source": [
    "k = rate_constant(19.18, 0.17, 2)\n",
    "print(f'The constant rate k is: {k} m^3/mol*s')"
   ]
  }
 ],
 "metadata": {
  "kernelspec": {
   "display_name": "Python 3 (ipykernel)",
   "language": "python",
   "name": "python3"
  },
  "language_info": {
   "codemirror_mode": {
    "name": "ipython",
    "version": 3
   },
   "file_extension": ".py",
   "mimetype": "text/x-python",
   "name": "python",
   "nbconvert_exporter": "python",
   "pygments_lexer": "ipython3",
   "version": "3.9.7"
  }
 },
 "nbformat": 4,
 "nbformat_minor": 5
}
