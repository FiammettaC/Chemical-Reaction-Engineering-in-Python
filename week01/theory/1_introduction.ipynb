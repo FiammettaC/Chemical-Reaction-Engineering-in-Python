{
 "cells": [
  {
   "cell_type": "markdown",
   "id": "763dae41-9cf9-46ef-b082-378801c0e7f8",
   "metadata": {},
   "source": [
    "# Chemical Reaction Engineering in Python"
   ]
  },
  {
   "cell_type": "markdown",
   "id": "fc42db5c-bb0c-4a6e-822e-df80c74b7ee6",
   "metadata": {
    "tags": []
   },
   "source": [
    "## TL;DR"
   ]
  },
  {
   "cell_type": "markdown",
   "id": "acaa6657-edfd-473d-88c7-1e975fc4d0d9",
   "metadata": {},
   "source": [
    "This is a practical course designed for chemical engineers that want to learn how to program in Python. \n",
    "The course is very practical and will cover various topics, such as basic Python syntax, solving ODEs, stoichiometry, data visualization and basic data analysis."
   ]
  },
  {
   "cell_type": "markdown",
   "id": "8522383e-8d8a-439e-aa80-879dbe18aa40",
   "metadata": {},
   "source": [
    "## Introduction"
   ]
  },
  {
   "cell_type": "markdown",
   "id": "3525e27b-804b-4065-b003-ef5237c2c7f9",
   "metadata": {},
   "source": [
    "Recently, more and more chemical engineering students have expressed the desire to acquire basic programming skills early on in their career, with Python being the most requested language by far.\n",
    "For this reason, we decided to support the regular material taught in Chemical Reaction Engineering (28342) with an introductory Python course.\n",
    "Therefore, we aim to provide material and practical tutorials to learn Python, so that you have the opportunity to use Python to solve the exercises and assignments.\n",
    "\n",
    "This course is designed to be very practical since the best way to learn how to program is by programming. You will start writing and executing code from day 1, through carefully designed exercises.\n",
    "The target of this course is students and professionals in Chemical Engineering that want to learn how to program in Python.\n",
    "\n",
    "The course may be challenging and overwhelming at the beginning, but don't worry if you don't manage to complete everything.\n",
    "Each week, there will be a mandatory notebook of exercises `01-Exercises` and an additional, optional, notebook containing more challenging exercises, for learners that want to test themselves and like to *crack the code* (pun intended)."
   ]
  },
  {
   "cell_type": "markdown",
   "id": "f18424c8-070a-450d-bff2-4154ccb71503",
   "metadata": {},
   "source": [
    "## Why Python?"
   ]
  },
  {
   "cell_type": "markdown",
   "id": "240510b5-fdb2-4b15-b5b2-3ccf89fd1368",
   "metadata": {},
   "source": [
    "Python is one of the most popular languages in use today, thanks to its easy syntax, readability, libraries available and broad documentation. \n",
    "It is open-source, unlike other very popular programs such as MATLAB, which require a license.\n",
    "It has a big community, meaning that other people have probably already asked any possible question you might be having right now.\n",
    "Some forums where to ask and look for questions: [StackOverflow](https://stackoverflow.com/) (for practical questions about code), [StackExchange](https://stackexchange.com/) (for more theoretical questions).\n",
    "It is the to-go language for data analysis and data science, both in academia and industry.\n",
    "\n",
    "In this course, we will use Python 3.8."
   ]
  },
  {
   "cell_type": "markdown",
   "id": "5b489271-a3ce-44b6-9aed-573baf52bdc2",
   "metadata": {},
   "source": [
    "## Schedule"
   ]
  },
  {
   "cell_type": "markdown",
   "id": "98f42d9a-53d3-463b-8ea1-3f6cbe57d904",
   "metadata": {},
   "source": [
    "The course follows the regular 13 weeks period and provides material and exercises to support the lectures. Some of the topics:\n",
    "- **Introduction to the course**. Introduction, motivation, tips and tricks, package installation. General syntax: indentation, for loop, while loop, functions and classes.\n",
    "- **Data structures**. Data structures: lists, arrays, strings, dictionaries, pandas dataframe.\n",
    "- **Data visualization**. Plotting with matplotlib library\n",
    "- **Solvers**. Solving systems of equations and stoichiometry.\n",
    "- **Data analysis**. Data loading, extraction, cleaning, preprocessing, analysis.\n",
    "- **Balances**. Mass balance, energy balance."
   ]
  },
  {
   "cell_type": "markdown",
   "id": "b8b4f06e-87b0-4af4-886f-34debecb0b6f",
   "metadata": {},
   "source": [
    "## Learning Objectives"
   ]
  },
  {
   "cell_type": "markdown",
   "id": "cb038214-b40b-431a-aa03-649d2d10eba8",
   "metadata": {},
   "source": [
    "- Master the Python's syntax, familiarize with arithmetic operations, assignment and compound statements.\n",
    "- Learn reusing Python code efficiently through functions and classes.\n",
    "- Master the usage of main data structures used in Python, such as lists, generators, dictionaries, sets, dataframes and arrays.\n",
    "- Effectively visualize and analyze data.\n",
    "- Operate the reactor based on kinetics for elementary and non-elementary reactions.\n",
    "- Understand the ideal reaction models: batch, continuous-stirred tank and plug flow.\n",
    "- Understand the mathematical models for the three ideal types of reactor under isothermal conditions.\n",
    "- Understand the mass balances for the three ideal reactor systems.\n",
    "- Measure the reaction kinetics to obtain a rate expression.\n",
    "- Carry out energy balances for the reactor types for a single reaction."
   ]
  },
  {
   "cell_type": "markdown",
   "id": "62ede4ae-8c80-48c5-9492-b27b15157797",
   "metadata": {},
   "source": [
    "## Helpful tips and tricks before starting"
   ]
  },
  {
   "cell_type": "markdown",
   "id": "894a3fdc-e451-4d15-989e-74a88438e9f9",
   "metadata": {},
   "source": [
    "\"The most effective debugging tool is still careful thought, coupled with judiciously placed print statements.\"\n",
    "\n",
    "— Brian Kernighan, \"Unix for Beginners\" (1979)"
   ]
  },
  {
   "cell_type": "markdown",
   "id": "7ebb7000-3cd7-4d9b-9671-83910d0afe94",
   "metadata": {},
   "source": [
    "1. **The best way to learn how to program is by programming**. It's normal that you cannot solve everything and you are overwhelmed at the beginning. Don't give up and just practice.\n",
    "1. **Write, test and improve code.** Do not expect to write a full program in one sitting: most programmers write, test and rewrite code many times before their program works, so do not get discouraged!\n",
    "2. **Brainstorm first.** Instead of reading a problem and looking for a solution on the Internet, try to think about it yourself. Re-read the problem, brainstorm possible solutions and try to write some code. Make sure that you actually understand what is asked. Only after you have spent sufficient time on this, look for hints elsewhere.\n",
    "3. **Learn to comment your code early on.** Before coding, visualize what you plan to do and describe it in plain, non-technical text on paper. Try to be as detailed as possible and include all the steps, even the smallest ones. This will be helpful at the beginning of your coding experience to guide you through the process and ensure you do not forget important steps. Later on, when you are more comfortable coding, it will be helpful for reference for you or other teammates. Remember that just because something seems easy for you, it does not mean your colleague can read your code and understand it right away. This is a very important principle for code deployment.\n",
    "4. **Understand what the program is doing.** It is important that you understand what your program is doing. Often, it is useful to simply *print* what you are doing, this is an easy way to visualize, and therefore better understand, the output. This approach is called tracing or printf() debugging, after the print function name in the C language)."
   ]
  },
  {
   "cell_type": "markdown",
   "id": "461bedd4-1244-4c2c-8420-18f588278d82",
   "metadata": {},
   "source": [
    "## Contacts\n",
    "If you have any questions regarding the exercises or any feedback on the course, feel free to contact Fiammetta Caccavale (fiacac@kt.dtu.dk)."
   ]
  }
 ],
 "metadata": {
  "kernelspec": {
   "display_name": "Python 3 (ipykernel)",
   "language": "python",
   "name": "python3"
  },
  "language_info": {
   "codemirror_mode": {
    "name": "ipython",
    "version": 3
   },
   "file_extension": ".py",
   "mimetype": "text/x-python",
   "name": "python",
   "nbconvert_exporter": "python",
   "pygments_lexer": "ipython3",
   "version": "3.9.7"
  }
 },
 "nbformat": 4,
 "nbformat_minor": 5
}
