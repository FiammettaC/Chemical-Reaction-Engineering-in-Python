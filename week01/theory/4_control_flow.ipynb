{
 "cells": [
  {
   "cell_type": "markdown",
   "id": "bcfb1a44-abdb-44b6-a59f-90684ce8322a",
   "metadata": {},
   "source": [
    "# Conditionality and Repetition"
   ]
  },
  {
   "cell_type": "markdown",
   "id": "5fed5f05-ce90-4074-b918-01f32d208d8f",
   "metadata": {},
   "source": [
    "You will quickly find out that in your programming experience, you will spend quite some time writing conditional statements or *looping* through items. Therefore, it's very important that you understand what these statements do and how to properly use them.\n"
   ]
  },
  {
   "cell_type": "markdown",
   "id": "f965f4f2-32da-4ce1-bbfc-ff3d16ffd521",
   "metadata": {},
   "source": [
    "## Conditionality"
   ]
  },
  {
   "cell_type": "markdown",
   "id": "4c907a86-3c74-47e5-be66-c1d9167c4926",
   "metadata": {},
   "source": [
    "The `if` statement is based on a **boolean** operation: if the first condition is executed it means that *the condition is* `True`, otherwise, the program moves on to the next statements *until either a `True` statement or the end of the flow* (else, if included). The flow chart below illustrates the conditional process with one if, two elif and one else statements.\n",
    "\n",
    "![alt text](images/Python-if-elif-else-statement.png)"
   ]
  },
  {
   "cell_type": "markdown",
   "id": "b698e201-d46f-49aa-b6e2-6558e29eccc7",
   "metadata": {},
   "source": [
    "Let's see some examples."
   ]
  },
  {
   "cell_type": "code",
   "execution_count": 1,
   "id": "f630a56c-0024-4660-ab8b-2251255d48ab",
   "metadata": {},
   "outputs": [
    {
     "name": "stdout",
     "output_type": "stream",
     "text": [
      "True\n",
      "False\n"
     ]
    }
   ],
   "source": [
    "# Simple if statement\n",
    "if True == 1:\n",
    "    print('True')\n",
    "    \n",
    "if False == 0:\n",
    "    print('False')"
   ]
  },
  {
   "cell_type": "code",
   "execution_count": 2,
   "id": "5927935b-294c-4a83-be9c-b9d21b4b455e",
   "metadata": {},
   "outputs": [],
   "source": [
    "# Now let's execute this cell...do you know why the cell is not printing anything?\n",
    "if ():\n",
    "    print('This condition is not True')"
   ]
  },
  {
   "cell_type": "code",
   "execution_count": 3,
   "id": "767f3f48-e362-4482-9c0c-1dcf5978b8b9",
   "metadata": {},
   "outputs": [
    {
     "name": "stdout",
     "output_type": "stream",
     "text": [
      "This condition is True\n"
     ]
    }
   ],
   "source": [
    "# But this cell does return something\n",
    "if not ():\n",
    "    print('This condition is True')"
   ]
  },
  {
   "cell_type": "markdown",
   "id": "75062093-7425-48d6-9ff8-3cc6fcd20911",
   "metadata": {},
   "source": [
    "As you might have guessed, Python casts *boolean* values in different ways. \n",
    "Note that in Python 3, `True` and `False` are keywords and cannot be reassigned to another value, e.g., False = 5 will raise an error.\n",
    "\n",
    "Here are values that are built-in objects considered `False`:\n",
    "``` python\n",
    "- constants defined to be false: None and False.\n",
    "- zero of any numeric type: 0, 0.0, 0j, Decimal(0), Fraction(0, 1)\n",
    "- empty sequences and collections: '', (), [], {}, set(), range(0)\n",
    "```\n",
    "\n",
    "Read more about Truth Value Testing [here](https://docs.python.org/3/library/stdtypes.html)."
   ]
  },
  {
   "cell_type": "code",
   "execution_count": 4,
   "id": "548b0e62-9299-4250-99b8-f9e39d0f4ca6",
   "metadata": {},
   "outputs": [
    {
     "name": "stdout",
     "output_type": "stream",
     "text": [
      "a is divisible by 5\n"
     ]
    }
   ],
   "source": [
    "# Note: the 'else' statement is optional and may not be specified\n",
    "a = 50 \n",
    "# the % is the modulo operator finding the remainder after the division\n",
    "# in this case, a divided by 5 leaves 0\n",
    "if a%5==0:\n",
    "    print('a is divisible by 5')"
   ]
  },
  {
   "cell_type": "code",
   "execution_count": 5,
   "id": "ffbe241f-cd2c-435b-8de0-bf3da99fda63",
   "metadata": {},
   "outputs": [
    {
     "name": "stdout",
     "output_type": "stream",
     "text": [
      "You failed the exam!\n"
     ]
    }
   ],
   "source": [
    "# Now let's see more complex statements\n",
    "# Change the values of exam_score and assignment to see how the outcome changes\n",
    "\n",
    "exam_score = 30\n",
    "assignment = 'C'\n",
    "\n",
    "if exam_score >= 80:\n",
    "    if assignment == 'A':\n",
    "        print('You passed the exam with the highest grade.')\n",
    "    elif assignment =='B':\n",
    "        print('You passed the exam with the second highest grade')\n",
    "    else:\n",
    "        print('You passed the exam with the third highest grade')\n",
    "elif 40 <= exam_score < 80:\n",
    "    if assignment == 'A' or assignment == 'B':\n",
    "        print('You did well in the assignment but not in the exam, you have a second attempt in 30 days')\n",
    "    else:\n",
    "        print('You barely passed the exam')\n",
    "else:\n",
    "    print('You failed the exam!')"
   ]
  },
  {
   "cell_type": "markdown",
   "id": "50c3026a-f4ae-43b5-b68d-d9cf70bf6a2f",
   "metadata": {},
   "source": [
    "**Exercise**: Change the previous code so that if a student receives an exam score between 35 and 40 (not included) and assignment grade A, the code returns \"You almost passed\". "
   ]
  },
  {
   "cell_type": "code",
   "execution_count": 6,
   "id": "45858adf-3d2e-4adb-affa-1ded20c53efb",
   "metadata": {},
   "outputs": [],
   "source": [
    "# Your code here"
   ]
  },
  {
   "cell_type": "markdown",
   "id": "fcb86283-0d14-4289-8150-461afbae25f2",
   "metadata": {},
   "source": [
    "## Repetition"
   ]
  },
  {
   "cell_type": "markdown",
   "id": "bd73c3d2-1455-4f45-b3ec-439840710381",
   "metadata": {},
   "source": [
    "The `for` loop is used to iterate through items, which could be stored in a tuple, list, dictionary and so on (we will get familiar with all of these data structures in week 2, so if you don't know these terms don't worry).\n",
    "These kinds of loops are helpful in a multitude of operations, for example when encountering a nested loop, where list comprehensions would make the code less transparent and harder to read. Remember that, particularly when working in a team, code readability is very important.\n",
    "\n",
    "Here we also introduce a new, very useful, function: the `zip` function.\n",
    "This function is used to simultaneously loop through multiple elements, for example through two lists."
   ]
  },
  {
   "cell_type": "code",
   "execution_count": 6,
   "id": "8ea05cc0-c4b9-4564-b1cb-c908b5456158",
   "metadata": {},
   "outputs": [
    {
     "name": "stdout",
     "output_type": "stream",
     "text": [
      "Anna is not Mary\n",
      "Mary\n",
      "Thomas is not Mary\n"
     ]
    }
   ],
   "source": [
    "# loop through students and grades in the two given lists through the 'zip' function\n",
    "for student, grade in zip(['Anna', 'Mary', 'Thomas'], [7, 12, 10]):\n",
    "    # if the student's initial is M and their grade is 12\n",
    "    if student.startswith('M') and grade == 12:\n",
    "        # print the name of the student\n",
    "        print(student)\n",
    "    else:\n",
    "        # otherwise print that it is not Mary\n",
    "        print(student, 'is not Mary')"
   ]
  },
  {
   "cell_type": "code",
   "execution_count": 7,
   "id": "188b369a-6e23-4baa-a188-b5203ac029f5",
   "metadata": {},
   "outputs": [
    {
     "name": "stdout",
     "output_type": "stream",
     "text": [
      "Row [0.90852788 0.2487985  0.85072772]\n",
      "Element 0.9085278793247539\n",
      "Element 0.24879849782046126\n",
      "Element 0.850727718969466\n",
      "\n",
      "Row [0.45354185 0.76613525 0.84683081]\n",
      "Element 0.4535418487717926\n",
      "Element 0.7661352543565969\n",
      "Element 0.8468308065135864\n",
      "\n"
     ]
    }
   ],
   "source": [
    "# In this example we will use a library called Numpy\n",
    "import numpy as np\n",
    "\n",
    "# we initialize a matrix with random samples from a uniform distribution [0, 1) of shape 2x3 (rowsxcolumns)\n",
    "matrix = np.random.rand(2,3)\n",
    "\n",
    "# uncomment the following lines to investigate the data\n",
    "# print(matrix.shape)\n",
    "# print(matrix)\n",
    "\n",
    "# loop through the elements of the matrix\n",
    "for row in matrix:\n",
    "    print('Row', row)\n",
    "    # loop through each element in the row\n",
    "    for elem in row:\n",
    "        print('Element', elem)\n",
    "    print()"
   ]
  },
  {
   "cell_type": "markdown",
   "id": "9204950e-7907-46c6-9425-d4d69d1a0b12",
   "metadata": {},
   "source": [
    "The `while` loop is used to iterate through elements for as long as a certain condition is valid."
   ]
  },
  {
   "cell_type": "code",
   "execution_count": 8,
   "id": "db5a8549-3326-42cf-81ac-30ddca05d190",
   "metadata": {},
   "outputs": [
    {
     "name": "stdout",
     "output_type": "stream",
     "text": [
      "Our total amount c is: 1, so the condition is within the limit\n",
      "Our total amount c is: 2, so the condition is within the limit\n",
      "Our total amount c is: 3, so the condition is within the limit\n",
      "Our total amount c is: 4, so the condition is within the limit\n",
      "Our total amount c is: 5, so the condition is within the limit\n",
      "Our total amount c is: 6, so the condition is within the limit\n",
      "Our total amount c is: 7, so the condition is within the limit\n",
      "Our total amount c is: 8, so the condition is within the limit\n",
      "Our total amount c is: 9, so the condition is within the limit\n",
      "Our total amount c is: 10, so the condition is within the limit\n",
      "Our total amount c is: 11, so the condition is within the limit\n"
     ]
    }
   ],
   "source": [
    "# set a condition\n",
    "limit = 10\n",
    "\n",
    "c = 0\n",
    "while c <= limit:\n",
    "    c+=1\n",
    "    print(f\"Our total amount c is: {c}, so the condition is within the limit\")"
   ]
  },
  {
   "cell_type": "markdown",
   "id": "238b6839-c41a-40ba-84f9-059ea94cc592",
   "metadata": {},
   "source": [
    "But be careful about infinite loops!"
   ]
  },
  {
   "cell_type": "code",
   "execution_count": null,
   "id": "76abbc06-0b84-41a4-86bd-ee4c45223d07",
   "metadata": {
    "scrolled": true,
    "tags": []
   },
   "outputs": [],
   "source": [
    "# infinite loop: interrupt execution!\n",
    "\n",
    "while True:\n",
    "    print('This will keep running...')"
   ]
  },
  {
   "cell_type": "markdown",
   "id": "336f2e77-f049-437e-b659-d9a323788c7b",
   "metadata": {},
   "source": [
    "## Continue and Break"
   ]
  },
  {
   "cell_type": "markdown",
   "id": "a2dbb49a-86d8-49f2-b9eb-609992a1617a",
   "metadata": {},
   "source": [
    "Sometimes, it can be useful to ignore certain conditions or parts of the code. \n",
    "In this case, you can use the `continue` and `break` commands. \n",
    "Depending on what you want to achieve, you may use either of these commands.\n",
    "\n",
    "For example, \n",
    "- `continue` can be used to skip a certain condition in a loop and move to the next\n",
    "- `break` exits the current execution (e.g., in a loop) and moves to the next code block."
   ]
  },
  {
   "cell_type": "code",
   "execution_count": 9,
   "id": "584dde7b-4b20-4686-a988-54eb3188297e",
   "metadata": {},
   "outputs": [
    {
     "name": "stdout",
     "output_type": "stream",
     "text": [
      "8\n",
      "9\n",
      "10\n",
      "11\n",
      "12\n",
      "13\n",
      "14\n"
     ]
    }
   ],
   "source": [
    "# let's investigate what 'continue' does\n",
    "for i in range(15):\n",
    "    if i > 7:\n",
    "        print(i)\n",
    "    else:\n",
    "        #if this condition is True, we continue to the next iteration\n",
    "        continue"
   ]
  },
  {
   "cell_type": "code",
   "execution_count": 10,
   "id": "7509cfe2-2d44-4cb8-85a5-c385341e122a",
   "metadata": {},
   "outputs": [
    {
     "name": "stdout",
     "output_type": "stream",
     "text": [
      "['batch', 'continuous stirred tank']\n"
     ]
    }
   ],
   "source": [
    "# create a list of reactors\n",
    "reactors = ['batch', 'continuous stirred tank', 'plug flow']\n",
    "\n",
    "# create a new list, we will add items to this list until a certain element is reached, then we break the loop\n",
    "new_reactors = [] \n",
    "for reactor in reactors:\n",
    "    # append items\n",
    "    new_reactors.append(reactor)\n",
    "    if reactor == 'continuous stirred tank':\n",
    "        # if the condition is met, break the loop\n",
    "        break\n",
    "\n",
    "if 'batch' in new_reactors:\n",
    "    # print the new list\n",
    "    print(new_reactors)"
   ]
  },
  {
   "cell_type": "markdown",
   "id": "50ca5a36-7ed9-40eb-bab7-1986435acd7c",
   "metadata": {},
   "source": [
    "Here you can see that we used the `break` command to exit the loop once we reached our goal, which was to terminate the loop once 'continuous stirred tank' was added to new_reactors list."
   ]
  },
  {
   "cell_type": "markdown",
   "id": "9a3d4edf-39a4-4c53-834b-677682ade757",
   "metadata": {},
   "source": [
    "References:\n",
    "- If elif else image: https://www.pythontutorial.net/python-basics/python-if/"
   ]
  }
 ],
 "metadata": {
  "kernelspec": {
   "display_name": "Python 3 (ipykernel)",
   "language": "python",
   "name": "python3"
  },
  "language_info": {
   "codemirror_mode": {
    "name": "ipython",
    "version": 3
   },
   "file_extension": ".py",
   "mimetype": "text/x-python",
   "name": "python",
   "nbconvert_exporter": "python",
   "pygments_lexer": "ipython3",
   "version": "3.10.10"
  }
 },
 "nbformat": 4,
 "nbformat_minor": 5
}
