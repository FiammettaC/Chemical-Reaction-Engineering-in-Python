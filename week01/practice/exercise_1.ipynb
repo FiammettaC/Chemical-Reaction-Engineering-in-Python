{
 "cells": [
  {
   "cell_type": "markdown",
   "id": "62e6b376-ef5c-4c10-a52c-6c3b0040e2c2",
   "metadata": {},
   "source": [
    "# Exercises about statements, assignments, lists and generators, control flow and packaging"
   ]
  },
  {
   "cell_type": "markdown",
   "id": "268c0e1d-74de-4783-8cb3-220f8053a500",
   "metadata": {},
   "source": [
    "## 1. Statements"
   ]
  },
  {
   "cell_type": "markdown",
   "id": "4aa08f81-c9a1-4c24-b396-66cfd33dd1c2",
   "metadata": {},
   "source": [
    "**Exercise**: Print your favorite kind of enzyme.\n",
    "*Hint*: enzyme kind should be printed as a string.\n",
    "\n",
    "Level: <span style=\"color:green\">Easy</span>."
   ]
  },
  {
   "cell_type": "code",
   "execution_count": null,
   "id": "ffc8b0d1-d695-4699-937c-7a8072300d21",
   "metadata": {},
   "outputs": [],
   "source": [
    "# Your code here"
   ]
  },
  {
   "cell_type": "markdown",
   "id": "24ab2e03-26a6-43b3-b12c-245a0061771c",
   "metadata": {},
   "source": [
    "**Exercise**: Sum 4 and 5 and divide the result by 2. *Hint*: don't forget the parenthesis.\n",
    "\n",
    "Level: <span style=\"color:green\">Easy</span>."
   ]
  },
  {
   "cell_type": "code",
   "execution_count": null,
   "id": "5de43d1c-ae54-45d7-be44-be906b3fe559",
   "metadata": {},
   "outputs": [],
   "source": [
    "# Your code here"
   ]
  },
  {
   "cell_type": "markdown",
   "id": "bdf7e44c-4626-4bd4-8b5e-bb89f85805af",
   "metadata": {},
   "source": [
    "**Exercise**: Print your age as an integer.\n",
    "\n",
    "Level: <span style=\"color:green\">Easy</span>."
   ]
  },
  {
   "cell_type": "code",
   "execution_count": null,
   "id": "ce94c559-96ac-4970-888c-d65985004fb3",
   "metadata": {},
   "outputs": [],
   "source": [
    "# Your code here"
   ]
  },
  {
   "cell_type": "markdown",
   "id": "69314384-2ea7-4038-8e25-91e01fc61e69",
   "metadata": {},
   "source": [
    "**Exercise**: Print your age as a string.\n",
    "\n",
    "Level: <span style=\"color:orange\">Medium</span>."
   ]
  },
  {
   "cell_type": "code",
   "execution_count": null,
   "id": "2dd3554c-29e6-470f-89c4-5d28eab608b0",
   "metadata": {},
   "outputs": [],
   "source": [
    "# Your code here"
   ]
  },
  {
   "cell_type": "markdown",
   "id": "b19afb00-e0cd-4550-960b-14daa6554574",
   "metadata": {},
   "source": [
    "**Exercise**: Calculate the square of 16, then divide the result by the square of 3. Only return 2 decimal points.\n",
    "\n",
    "Level: <span style=\"color:orange\">Medium</span>."
   ]
  },
  {
   "cell_type": "code",
   "execution_count": null,
   "id": "8442e157-624a-4acd-be3e-96c5ba1e962d",
   "metadata": {},
   "outputs": [],
   "source": [
    "# Your code here"
   ]
  },
  {
   "cell_type": "markdown",
   "id": "7fae92b1-2ff4-4a2e-b873-15ed69c85493",
   "metadata": {},
   "source": [
    "## 2. Assignments"
   ]
  },
  {
   "cell_type": "markdown",
   "id": "3e7dcab1-19c2-4ee3-ab7b-9f806513d967",
   "metadata": {},
   "source": [
    "**Exercise**: Bind your favorite enzyme to a variable. Choose a descriptive name for your variable.\n",
    "\n",
    "Level: <span style=\"color:green\">Easy</span>."
   ]
  },
  {
   "cell_type": "code",
   "execution_count": null,
   "id": "f6dd4862-2fe2-47f9-83d0-5cdf3d2e9d30",
   "metadata": {},
   "outputs": [],
   "source": [
    "# Your code here"
   ]
  },
  {
   "cell_type": "markdown",
   "id": "5d7a2639-8a4d-4189-a5d5-2d32a208d658",
   "metadata": {},
   "source": [
    "**Exercise**: Create a variable called `total`, which is the result of the following calculation:\n",
    "- your_birth_year * your_birth_day / your_birth_month - your_current_age\n",
    "\n",
    "Level: <span style=\"color:green\">Easy</span>."
   ]
  },
  {
   "cell_type": "code",
   "execution_count": null,
   "id": "2a24d3b0-95c8-455e-aee6-c0259d33d1e7",
   "metadata": {},
   "outputs": [],
   "source": [
    "# Your code here"
   ]
  },
  {
   "cell_type": "markdown",
   "id": "a63bffed-d241-4840-af18-873ff24cee60",
   "metadata": {},
   "source": [
    "**Exercise**: Given the following variables, create two lists containing all possible combinations (sum) of the *allowed* pairs. *Hint*: Remember that you cannot add a `string` and an `integer`. Don't do it manually, try to use a loop.\n",
    "\n",
    "Level: <span style=\"color:red\">Hard</span>."
   ]
  },
  {
   "cell_type": "code",
   "execution_count": null,
   "id": "b30b475a-7d44-4d63-82c4-c4ec2cdc9a0e",
   "metadata": {},
   "outputs": [],
   "source": [
    "string_a = 'a'\n",
    "string_b = 'b'\n",
    "integer_1 = 1\n",
    "integer_2 = 2\n",
    "string_4 = '4'\n",
    "float_1 = 1.0\n",
    "float_2_5 = 2.5"
   ]
  },
  {
   "cell_type": "markdown",
   "id": "41bd40fc-f717-4d05-8edb-b08f9caf5645",
   "metadata": {},
   "source": [
    "Expected results, order does not matter:\n",
    "- list_a = ['ab', 'a4', 'ba', 'b4', '4a', '4b']\n",
    "- list_b = [3, 2.0, 3.5, 3, 3.0, 4.5, 3.0, 2.0, 3.5, 3.5, 4.5, 3.5]"
   ]
  },
  {
   "cell_type": "code",
   "execution_count": null,
   "id": "f8e25341-702a-42fc-ab9e-ad7b8fec961a",
   "metadata": {},
   "outputs": [],
   "source": [
    "# Your code here"
   ]
  },
  {
   "cell_type": "markdown",
   "id": "a59c40f9-ca09-4e24-b952-177294ca8940",
   "metadata": {},
   "source": [
    "*Possible solution in Notebook Exercise 2.ipynb"
   ]
  },
  {
   "cell_type": "markdown",
   "id": "4d0ff0f6-c648-4d94-89e0-1390ec026e10",
   "metadata": {},
   "source": [
    "## 3. Lists and generators"
   ]
  },
  {
   "cell_type": "code",
   "execution_count": null,
   "id": "64d5c9c9-a399-48ae-baf2-bcf3a689af16",
   "metadata": {},
   "outputs": [],
   "source": [
    "multiple_5 = [5, 10, 15, 20]"
   ]
  },
  {
   "cell_type": "markdown",
   "id": "3d4afe4e-6292-47ad-a347-c972f293ad74",
   "metadata": {},
   "source": [
    "**Exercise**: Given `multiple_5`, create a list **MANUALLY** containing each element in `multiple_5` summed by 2.\n",
    "\n",
    "Level: <span style=\"color:green\">Easy</span>."
   ]
  },
  {
   "cell_type": "code",
   "execution_count": null,
   "id": "02247da5-d5b9-409b-b64c-6b8466f59b5a",
   "metadata": {},
   "outputs": [],
   "source": [
    "# Your code here"
   ]
  },
  {
   "cell_type": "markdown",
   "id": "4c69527c-5a16-471a-8d14-a522b907e59c",
   "metadata": {},
   "source": [
    "**Exercise**: Given `multiple_5`, create a list **USING A FOR LOOP** containing each element in `multiple_5` summed by 2.\n",
    "\n",
    "Level: <span style=\"color:green\">Easy</span>."
   ]
  },
  {
   "cell_type": "code",
   "execution_count": null,
   "id": "f1ec653a-d144-4d07-a702-a5e18bd17a0a",
   "metadata": {},
   "outputs": [],
   "source": [
    "# Your code here"
   ]
  },
  {
   "cell_type": "markdown",
   "id": "5f59e673-4a31-4fef-9800-871971ae06b6",
   "metadata": {},
   "source": [
    "**Exercise**: Given `multiple_5`, create a list **USING A LIST COMPREHENSION** containing each element in `multiple_5` summed by 2.\n",
    "\n",
    "Level: <span style=\"color:orange\">Medium</span>."
   ]
  },
  {
   "cell_type": "code",
   "execution_count": null,
   "id": "936fae1a-726a-49df-a911-5099b59ae8d3",
   "metadata": {},
   "outputs": [],
   "source": [
    "# Your code here"
   ]
  },
  {
   "cell_type": "markdown",
   "id": "419d2d16-4e87-41b6-b8ba-4ba8dcbfca60",
   "metadata": {},
   "source": [
    "**Exercise**: Given `multiple_5`, create a generator containing each element in `multiple_5` summed by 2.\n",
    "\n",
    "Level: <span style=\"color:green\">Easy</span>."
   ]
  },
  {
   "cell_type": "code",
   "execution_count": null,
   "id": "b2eaaa1b-af45-4324-acf9-d7aa59a6fc24",
   "metadata": {},
   "outputs": [],
   "source": [
    "# Your code here"
   ]
  },
  {
   "cell_type": "markdown",
   "id": "b144e00a-281a-4535-87d7-2123bc6e9c75",
   "metadata": {},
   "source": [
    "## 4. Compound statements"
   ]
  },
  {
   "cell_type": "markdown",
   "id": "6d5a2df0-0c65-424c-865d-b8fc3f15bdee",
   "metadata": {},
   "source": [
    "**Exercise**: Translate the following flow chart to check why the unit for the *hydrodynamics condition in packed tower* experiment is not working.\n",
    "\n",
    "Level: <span style=\"color:green\">Easy</span>.\n",
    "\n",
    "![alt text](../theory/images/Flow_chart.png)"
   ]
  },
  {
   "cell_type": "code",
   "execution_count": null,
   "id": "3db9f5b9-fb14-4eba-8414-10d15ee7045f",
   "metadata": {},
   "outputs": [],
   "source": [
    "# Your code here"
   ]
  },
  {
   "cell_type": "markdown",
   "id": "56ba5b55-9393-4dd4-aaae-3cd15ee70243",
   "metadata": {},
   "source": [
    "**Exercise**: Calculate the 10th element *F10* in the Fibonacci sequence, where F0 = 0, F1 = 1 and Fn = (Fn-1) + (Fn -2) for n > 1.\n",
    "\n",
    "Level: <span style=\"color:orange\">Medium</span>."
   ]
  },
  {
   "cell_type": "code",
   "execution_count": null,
   "id": "b1b7f8a3-e934-4874-bc11-a5e8534eb4bd",
   "metadata": {},
   "outputs": [],
   "source": [
    "# Your code here"
   ]
  },
  {
   "cell_type": "markdown",
   "id": "d0076c11-576c-42bb-a702-f04c192fad99",
   "metadata": {},
   "source": [
    "## 5. Packaging"
   ]
  },
  {
   "cell_type": "markdown",
   "id": "9f3cb9d8-c35b-4572-afcd-ab2f6380912d",
   "metadata": {},
   "source": [
    "**Exercise**: Write four functions for:\n",
    "- **Summing** two numbers\n",
    "- **Subtracting** two numbers\n",
    "- **Multiplying** two numbers\n",
    "- **Dividing** two numbers\n",
    "\n",
    "Level: <span style=\"color:green\">Easy</span>"
   ]
  },
  {
   "cell_type": "code",
   "execution_count": null,
   "id": "a35b80fb-5b84-45e1-b88c-a134ffa3b935",
   "metadata": {},
   "outputs": [],
   "source": [
    "def plus(a, b):\n",
    "    # Your code here\n",
    "    return\n",
    "\n",
    "def minus(a, b):\n",
    "    # Your code here\n",
    "    return\n",
    "\n",
    "def multiply(a, b):\n",
    "    # Your code here\n",
    "    return\n",
    "\n",
    "def divide(a, b):\n",
    "    # Your code here\n",
    "    return"
   ]
  },
  {
   "cell_type": "markdown",
   "id": "95f32c20-c019-483f-bd79-b143d7c51438",
   "metadata": {},
   "source": [
    "**Example**: We compute 1 + 3 - 2"
   ]
  },
  {
   "cell_type": "code",
   "execution_count": null,
   "id": "32d8b41d-8285-4b86-9668-9cd0443b00b8",
   "metadata": {},
   "outputs": [],
   "source": [
    "minus(plus(1, 3), 2)"
   ]
  },
  {
   "cell_type": "markdown",
   "id": "eb2739ee-f8db-49f8-8d08-9fcfc77c48ef",
   "metadata": {},
   "source": [
    "**Exercise**: Use the functions implemented above to compute the following:\n",
    "- (((2 + 7) * 5) / 3) - 4\n",
    "- 6 / 3 * 6 - 1\n",
    "- 3 + 4 + 7 - 2 * 7 / 2\n",
    "\n",
    "Level: <span style=\"color:orange\">Medium</span>"
   ]
  },
  {
   "cell_type": "code",
   "execution_count": null,
   "id": "7fda45f1-85dd-4c27-8ffd-a22658a91d8b",
   "metadata": {},
   "outputs": [],
   "source": [
    "# Your code here"
   ]
  }
 ],
 "metadata": {
  "kernelspec": {
   "display_name": "Python 3 (ipykernel)",
   "language": "python",
   "name": "python3"
  },
  "language_info": {
   "codemirror_mode": {
    "name": "ipython",
    "version": 3
   },
   "file_extension": ".py",
   "mimetype": "text/x-python",
   "name": "python",
   "nbconvert_exporter": "python",
   "pygments_lexer": "ipython3",
   "version": "3.9.7"
  }
 },
 "nbformat": 4,
 "nbformat_minor": 5
}
