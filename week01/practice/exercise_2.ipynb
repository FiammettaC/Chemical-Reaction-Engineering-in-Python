{
 "cells": [
  {
   "cell_type": "markdown",
   "id": "0fa8b164-98ee-4aed-9b66-00b98efc308f",
   "metadata": {},
   "source": [
    "# Hard exercises and solutions"
   ]
  },
  {
   "cell_type": "markdown",
   "id": "5c66aeb4-b91f-46c8-9f5a-f155cc3da0ed",
   "metadata": {},
   "source": [
    "### Exercise: Remove all outliers\n",
    "\n",
    "Remove **all** possible outliers from the given array, based on the cutoff (given cutoff value multiplied by standard deviation).\n",
    "Here, we want to remove all values that are more than three standard deviations from the mean.\n",
    "So, \n",
    "``` python\n",
    "abs(data_point - data_mean) > cutoff\n",
    "```\n",
    "\n",
    "*Hint*: Once you remove the first outlier(s), make sure that the resulting array does not have other outliers (e.g., use a loop).\n",
    "\n",
    "Level: <span style=\"color:orange\">Medium</span>."
   ]
  },
  {
   "cell_type": "code",
   "execution_count": null,
   "id": "9b20d763-c522-4208-939e-f84a7670a1b3",
   "metadata": {},
   "outputs": [],
   "source": [
    "import numpy as np\n",
    "data = np.array([1, 2, 3, 4, 5, 6, 7, 8, 9, 10, 100, 1000])\n",
    "cut_off = 3 * np.std(data)\n",
    "\n",
    "# Your code here"
   ]
  },
  {
   "cell_type": "markdown",
   "id": "e8d94308-bbe9-497b-9a22-623225a5be03",
   "metadata": {},
   "source": [
    "### Exercise: Binary to English translation\n",
    "\n",
    "You are provided with an English-to-binary code translation table and messages in binary code. \n",
    "You have to decode the given messages to find out what Chemistry Cat says.\n",
    "\n",
    "Note that \n",
    "- the letters in the code are space delimited \n",
    "- the words are delimited by '/'\n",
    "\n",
    "Level: <span style=\"color:red\">Hard</span>."
   ]
  },
  {
   "cell_type": "code",
   "execution_count": null,
   "id": "ecb87dc1-18ee-41b9-933c-5bf4088316ef",
   "metadata": {},
   "outputs": [],
   "source": [
    "# we provide the translation table binary to english\n",
    "binary_to_english = {\n",
    "   \"a\" : \"01100001\", \"b\" : \"01100010\", \"c\" : \"01100011\", \"d\" : \"01100100\", \"e\" : \"01100101\", \"f\" : \"01100110\", \"g\" : \"01100111\", \"h\" : \"01101000\",\n",
    "   \"i\" : \"01101001\", \"j\" : \"01101010\", \"k\" : \"01101011\", \"l\" : \"01101100\", \"m\" : \"01101101\", \"n\" : \"01101110\", \"o\" : \"01101111\", \"p\" : \"01110000\",\n",
    "   \"q\" : \"01110001\", \"r\" : \"01110010\", \"s\" : \"01110011\", \"t\" : \"01110100\", \"u\" : \"01110101\", \"v\" : \"01110110\", \"w\" : \"01110111\", \"x\" : \"01111000\",\n",
    "   \"y\" : \"01111001\", \"z\" : \"01111010\", \"A\" : \"01000001\", \"B\" : \"01000010\", \"C\" : \"01000011\", \"D\" : \"01000100\", \"E\" : \"01000101\", \"F\" : \"01000110\",\n",
    "   \"G\" : \"01000111\", \"H\" : \"01001000\", \"I\" : \"01001001\", \"J\" : \"01001010\", \"K\" : \"01001011\", \"L\" : \"01001100\", \"M\" : \"01001101\", \"N\" : \"01001110\",\n",
    "   \"O\" : \"01001111\", \"P\" : \"01010000\", \"Q\" : \"01010001\", \"R\" : \"01010010\", \"S\" : \"01010011\", \"T\" : \"01010100\", \"U\" : \"01010101\", \"V\" : \"01010110\",\n",
    "   \"W\" : \"01010111\", \"X\" : \"01011000\", \"Y\" : \"01011001\", \"Z\" : \"01011010\", \",\": \"00101100\", \".\": \"00101110\", \"'\": \"00100111\", \"?\": \"00111111\"}\n",
    "\n",
    "# to translate the sentences, you need to define a reversed table\n",
    "# Your code here\n",
    "\n",
    "# sentences to decode\n",
    "sentences = [\"01001001 / 01110111 01101111 01110101 01101100 01100100 / 01110100 01100101 01101100 01101100 / 01111001 01101111 01110101 / 01100001 / 01100011 01101000 01100101 01101101 01101001 01110011 01110100 01110010 01111001 / 01101010 01101111 01101011 01100101 / 00101100 / 01100010 01110101 01110100 / 01100001 01101100 01101100 / 01110100 01101000 01100101 / 01100111 01101111 01101111 01100100 / 01101111 01101110 01100101 01110011 / 01000001 01110010 01100111 01101111 01101110\",\n",
    "            \"01001001 01100110 / 01111001 01101111 01110101 / 01100001 01110010 01100101 / 01101110 01101111 01110100 / 01110000 01100001 01110010 01110100 / 01101111 01100110 / 01110100 01101000 01100101 / 01110011 01101111 01101100 01110101 01110100 01101001 01101111 01101110 / 00101100 / 01111001 01101111 01110101 / 01100001 01110010 01100101 / 01110000 01100001 01110010 01110100 / 01101111 01100110 / 01110100 01101000 01100101 / 01110000 01110010 01100101 01100011 01101001 01110000 01101001 01110100 01100001 01110100 01100101\",\n",
    "            \"01000001 / 01101110 01100101 01110101 01110100 01110010 01101111 01101110 / 01110111 01100001 01101100 01101011 01110011 / 01101001 01101110 01110100 01101111 / 01100001 / 01100010 01100001 01110010 / 01100001 01101110 01100100 / 01100001 01110011 01101011 01110011 / 00101100 / 00100111 / 01101000 01101111 01110111 / 01101101 01110101 01100011 01101000 / 01100110 01101111 01110010 / 01100001 / 01100010 01100101 01100101 01110010 / 00111111 / 00100111 / 01100001 01101110 01100100 / 01110100 01101000 01100101 / 01100010 01100001 01110010 01110100 01100101 01101110 01100100 01100101 01110010 / 01110011 01100001 01111001 01110011 / 00101100 / 00100111 / 01100110 01101111 01110010 / 01111001 01101111 01110101 / 00101100 / 01101110 01101111 / 01100011 01101000 01100001 01110010 01100111 01100101\",\n",
    "            \"01001111 01101110 01100011 01100101 / 01001001 / 01110100 01101111 01101100 01100100 / 01100001 / 01100011 01101000 01100101 01101101 01101001 01110011 01110100 01110010 01111001 / 01101010 01101111 01101011 01100101 / 00101100 / 01110100 01101000 01100101 01110010 01100101 / 01110111 01100001 01110011 / 01101110 01101111 / 01110010 01100101 01100001 01100011 01110100 01101001 01101111 01101110\"]\n",
    "\n",
    "# decoding the sentences and printing the output\n",
    "for sentence in sentences:\n",
    "    words = sentence.split(' / ')\n",
    "    for word in words:\n",
    "        # Your code here\n",
    "        # remove the next line to run your code\n",
    "        pass \n",
    "    #print()"
   ]
  },
  {
   "cell_type": "markdown",
   "id": "b833cc03-42ef-4073-abb7-6ec9986e31e0",
   "metadata": {},
   "source": [
    "## Possible solutions"
   ]
  },
  {
   "cell_type": "markdown",
   "id": "f1f8c0d9-4dcc-4a8c-bc34-e9a20ad23c79",
   "metadata": {},
   "source": [
    "<span style=\"color:red\">!!! Do not scroll down if you don't want to see the solutions...you have been warned!</span>."
   ]
  },
  {
   "cell_type": "markdown",
   "id": "c0a7449f-3051-4629-887e-b0cda88a27da",
   "metadata": {},
   "source": [
    "![alt text](../theory/images/spoiler.jpg)"
   ]
  },
  {
   "cell_type": "code",
   "execution_count": 1,
   "id": "369cacef-b826-426c-9e3a-1474e8c00a0c",
   "metadata": {},
   "outputs": [],
   "source": [
    "string_a = 'a'\n",
    "string_b = 'b'\n",
    "integer_1 = 1\n",
    "integer_2 = 2\n",
    "string_4 = '4'\n",
    "float_1 = 1.0\n",
    "float_2_5 = 2.5\n",
    "\n",
    "list_strings = [string_a, string_b, string_4]\n",
    "list_numbers = [integer_1, integer_2, float_1, float_2_5]\n",
    "\n",
    "def combinations(list_elements):\n",
    "    list_combinations = []\n",
    "    for element in list_elements:\n",
    "        copy_list = list_elements.copy()\n",
    "        copy_list.remove(element)\n",
    "        for item in copy_list:\n",
    "            list_combinations.append((element + item))\n",
    "    return list_combinations\n",
    "\n",
    "# print(combinations(list_strings))\n",
    "# print(combinations(list_numbers))"
   ]
  },
  {
   "cell_type": "code",
   "execution_count": 6,
   "id": "a053c162-bfef-40eb-9557-2617c02ee7c6",
   "metadata": {},
   "outputs": [
    {
     "data": {
      "text/plain": [
       "array([ 1,  2,  3,  4,  5,  6,  7,  8,  9, 10])"
      ]
     },
     "execution_count": 6,
     "metadata": {},
     "output_type": "execute_result"
    }
   ],
   "source": [
    "import numpy as np\n",
    "data = np.array([1, 2, 3, 4, 5, 6, 7, 8, 9, 10, 100, 1000])\n",
    "cut_off = 3 * np.std(data)\n",
    "\n",
    "def outliers(list_data):\n",
    "    cut_off = 3 * np.std(list_data)\n",
    "    no_outliers = [(abs(x - list_data.mean()) < cut_off) for x in list_data]\n",
    "    list_data = list_data[no_outliers]\n",
    "    while len(list_data) != len(no_outliers):\n",
    "        cut_off = 3 * np.std(list_data)\n",
    "        no_outliers = [(abs(x - list_data.mean()) < cut_off) for x in list_data]\n",
    "        list_data = list_data[no_outliers]\n",
    "    return list_data\n",
    "\n",
    "outliers(data)"
   ]
  },
  {
   "cell_type": "code",
   "execution_count": null,
   "id": "d55f6dd9-0afc-4aaf-8064-8022fd1360b7",
   "metadata": {},
   "outputs": [],
   "source": [
    "english_to_binary = {v: k for k, v in binary_to_english.items()}\n",
    "\n",
    "for sentence in sentences:\n",
    "    words = sentence.split(\" / \")\n",
    "    temp = []\n",
    "    for word in words:\n",
    "        # your code here\n",
    "        letters = word.split()\n",
    "        list_lett = [english_to_binary[letter] for letter in letters]\n",
    "        #print(''.join(list_lett))\n",
    "        temp.append(''.join(list_lett))\n",
    "    print(' '.join(temp))"
   ]
  },
  {
   "cell_type": "code",
   "execution_count": null,
   "id": "c012f729-82aa-43ab-922b-9a35e909af94",
   "metadata": {},
   "outputs": [],
   "source": []
  }
 ],
 "metadata": {
  "kernelspec": {
   "display_name": "Python 3 (ipykernel)",
   "language": "python",
   "name": "python3"
  },
  "language_info": {
   "codemirror_mode": {
    "name": "ipython",
    "version": 3
   },
   "file_extension": ".py",
   "mimetype": "text/x-python",
   "name": "python",
   "nbconvert_exporter": "python",
   "pygments_lexer": "ipython3",
   "version": "3.9.7"
  }
 },
 "nbformat": 4,
 "nbformat_minor": 5
}
