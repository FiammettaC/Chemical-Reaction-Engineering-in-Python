{
 "cells": [
  {
   "cell_type": "markdown",
   "id": "402dcf15-9b0f-4ad7-9a2c-389cfb30ee4b",
   "metadata": {},
   "source": [
    "# Chemical Reaction Engineering - Assignment 1"
   ]
  },
  {
   "cell_type": "markdown",
   "id": "1c5dec20-84bc-4e95-92d2-8f7215005806",
   "metadata": {},
   "source": [
    "## Instructions \n",
    "\n",
    "Please use Python to solve the exercises below. \n",
    "\n",
    "Your should hand in a jupyter notebook with your answers.\n",
    "When handing in, you are welcome to submit additional material you may have used, such as a scan of the paper to solve parts of the equations, Word and PDF documents and similar.\n",
    "\n",
    "The exercises sum up to a total of 12 points, but you only need **10 points** to get top marks.\n",
    "Please note that there are **two optional exercises** (for a total of 12 points). \n",
    "Consider solving the optional exercises if you are unsure about some of the others.\n",
    "\n",
    "You will also get partial points for trying to solve the different exercises."
   ]
  },
  {
   "cell_type": "markdown",
   "id": "2ce87203-6ab7-4d20-9f23-b9db25d79dd0",
   "metadata": {},
   "source": [
    "## Assignment 1"
   ]
  },
  {
   "cell_type": "markdown",
   "id": "c8acebd2-423e-4ec7-801a-6040394e2f9b",
   "metadata": {},
   "source": [
    "In your company, you need to evaluate the composition of the feed stream (containing only A and B) of an isothermal gas-phase reaction expressed as:\n",
    "\n",
    "$A+\\frac{1}{12}B→\\frac{1}{6}C+\\frac{1}{2}D$\n",
    "\n",
    "1. First, set up the stoichiometric table for the reaction for a flow reactor with constant pressure **(2 points)**. Afterwards, write the concentrations of A, B, C and D as function of the conversion X **(1 point)**.\n"
   ]
  },
  {
   "cell_type": "code",
   "execution_count": 1,
   "id": "d52dd8f0-acad-4669-a27f-501d13053a2a",
   "metadata": {},
   "outputs": [],
   "source": [
    "# Set up the stoichiometric table for the reaction for a flow reactor with constant pressure\n",
    "\n",
    "# Your code here"
   ]
  },
  {
   "cell_type": "markdown",
   "id": "efc7e37e-b9bf-462b-b7ad-b27c9e8a14af",
   "metadata": {},
   "source": [
    "<div>\n",
    "<img src=\"exercise1.png\" width=\"750\"/>\n",
    "</div>"
   ]
  },
  {
   "cell_type": "code",
   "execution_count": 2,
   "id": "ff0bfade-b70a-4a69-8dd2-8b56387f3047",
   "metadata": {},
   "outputs": [],
   "source": [
    "# Write the concentrations of A, B, C and D as function of the conversion X \n",
    "\n",
    "CA = f'C_A0'"
   ]
  },
  {
   "cell_type": "markdown",
   "id": "153a67c6-e0c3-4225-b844-65f6d4262290",
   "metadata": {},
   "source": [
    "During a laboratory experiment you measure in a batch reactor with constant volume:\n",
    "    \n",
    "| $$ Time (h) $$|  $$ Cc (mol \\cdot m^{-3}) $$ |\n",
    "| :------- | :------------------------- |\n",
    "| 0 | 0 |\n",
    "|2|2,5|\n",
    "|4|3,13|\n",
    "|6|3,41|\n",
    "|8|3,57|\n",
    "|10|3,68|\n",
    "|12|3,75|\n",
    "|14|3,81|\n",
    "|16|3,85|\n",
    "|18|3,88|\n",
    "|20|3,91|\n",
    "\n",
    "2. First of all, create a `pandas dataframe` of the data in the table below **(1 point)**."
   ]
  },
  {
   "cell_type": "code",
   "execution_count": 3,
   "id": "d161dc33-7ec2-4001-8292-25777c9b75f2",
   "metadata": {},
   "outputs": [],
   "source": [
    "# Create pandas dataframe\n",
    "import pandas as pd\n",
    "\n",
    "df = pd.DataFrame()\n",
    "df['Time'] = [0, 2, 4, 6, 8, 10, 12, 14, 16, 18, 20]\n",
    "df['Cc'] = [0, 2.5, 3.13, 3.41, 3.57, 3.68, 3.75, 3.81, 3.85, 3.88, 3.91]"
   ]
  },
  {
   "cell_type": "markdown",
   "id": "bf1653e6-337f-4232-ba31-c2a948cfd001",
   "metadata": {},
   "source": [
    "3. Calculate the rate of the reaction, which follows the expression:\n",
    "\n",
    "$-\\frac{dC_A}{dt} = k{C_{A}}^n$\n",
    "\n",
    "To do so, consider that this data is obtained with a constant volume reactor and the initial concentration of $C_A$ is 25 $mol \\cdot m^{-3}$. \n",
    "Choose between using the differential or the integral method **(2,5 points)**.\n",
    "\n",
    "**Optional**: Backup your answer with the other method **(1 point)**."
   ]
  },
  {
   "cell_type": "code",
   "execution_count": 4,
   "id": "d0e4ad3b-8058-4285-b0af-384d4eb75c4e",
   "metadata": {},
   "outputs": [
    {
     "name": "stdout",
     "output_type": "stream",
     "text": [
      "10\n"
     ]
    }
   ],
   "source": [
    "# Calculate the rate of the reaction\n",
    "import numpy as np\n",
    "\n",
    "def calculate_CA(C_A0, Cc):\n",
    "    C_A = C_A0-(6*Cc)\n",
    "    return C_A\n",
    "\n",
    "df['Ca'] = calculate_CA(25, df['Cc'])\n",
    "df['ln(Ca)'] = round(np.log(df['Ca']), 2)\n",
    "\n",
    "x = [a - b for a, b in zip(df['Ca'].iloc[1:], df['Ca'][:-1])]\n",
    "\n",
    "\n",
    "\n",
    "print(len(x))\n",
    "t = [a - b for a, b in zip(df['Time'].iloc[1:], df['Time'][:-1])]\n",
    "\n",
    "df['-delta Ca/delta t'] = [None] + [round(-(i/j), 2) for i, j in zip(x, t)]\n",
    "df['ln(-delta Ca/delta t)'] = round(np.log(df['-delta Ca/delta t']), 2)"
   ]
  },
  {
   "cell_type": "code",
   "execution_count": 27,
   "id": "2c62fcbb-11c2-4d03-8ec3-a985e9fb68e1",
   "metadata": {},
   "outputs": [
    {
     "data": {
      "text/html": [
       "<div>\n",
       "<style scoped>\n",
       "    .dataframe tbody tr th:only-of-type {\n",
       "        vertical-align: middle;\n",
       "    }\n",
       "\n",
       "    .dataframe tbody tr th {\n",
       "        vertical-align: top;\n",
       "    }\n",
       "\n",
       "    .dataframe thead th {\n",
       "        text-align: right;\n",
       "    }\n",
       "</style>\n",
       "<table border=\"1\" class=\"dataframe\">\n",
       "  <thead>\n",
       "    <tr style=\"text-align: right;\">\n",
       "      <th></th>\n",
       "      <th>Time</th>\n",
       "      <th>Cc</th>\n",
       "      <th>Ca</th>\n",
       "      <th>ln(Ca)</th>\n",
       "      <th>-delta Ca/delta t</th>\n",
       "      <th>ln(-delta Ca/delta t)</th>\n",
       "      <th>1/Ca</th>\n",
       "      <th>Cb</th>\n",
       "      <th>Cd</th>\n",
       "    </tr>\n",
       "  </thead>\n",
       "  <tbody>\n",
       "    <tr>\n",
       "      <th>0</th>\n",
       "      <td>0</td>\n",
       "      <td>0.00</td>\n",
       "      <td>25.00</td>\n",
       "      <td>3.22</td>\n",
       "      <td>NaN</td>\n",
       "      <td>NaN</td>\n",
       "      <td>0.04</td>\n",
       "      <td>2.08</td>\n",
       "      <td>0.00</td>\n",
       "    </tr>\n",
       "    <tr>\n",
       "      <th>1</th>\n",
       "      <td>2</td>\n",
       "      <td>2.50</td>\n",
       "      <td>10.00</td>\n",
       "      <td>2.30</td>\n",
       "      <td>7.50</td>\n",
       "      <td>2.01</td>\n",
       "      <td>0.10</td>\n",
       "      <td>0.83</td>\n",
       "      <td>7.50</td>\n",
       "    </tr>\n",
       "    <tr>\n",
       "      <th>2</th>\n",
       "      <td>4</td>\n",
       "      <td>3.13</td>\n",
       "      <td>6.22</td>\n",
       "      <td>1.83</td>\n",
       "      <td>1.89</td>\n",
       "      <td>0.64</td>\n",
       "      <td>0.16</td>\n",
       "      <td>0.52</td>\n",
       "      <td>9.39</td>\n",
       "    </tr>\n",
       "    <tr>\n",
       "      <th>3</th>\n",
       "      <td>6</td>\n",
       "      <td>3.41</td>\n",
       "      <td>4.54</td>\n",
       "      <td>1.51</td>\n",
       "      <td>0.84</td>\n",
       "      <td>-0.17</td>\n",
       "      <td>0.22</td>\n",
       "      <td>0.38</td>\n",
       "      <td>10.23</td>\n",
       "    </tr>\n",
       "    <tr>\n",
       "      <th>4</th>\n",
       "      <td>8</td>\n",
       "      <td>3.57</td>\n",
       "      <td>3.58</td>\n",
       "      <td>1.28</td>\n",
       "      <td>0.48</td>\n",
       "      <td>-0.73</td>\n",
       "      <td>0.28</td>\n",
       "      <td>0.30</td>\n",
       "      <td>10.71</td>\n",
       "    </tr>\n",
       "    <tr>\n",
       "      <th>5</th>\n",
       "      <td>10</td>\n",
       "      <td>3.68</td>\n",
       "      <td>2.92</td>\n",
       "      <td>1.07</td>\n",
       "      <td>0.33</td>\n",
       "      <td>-1.11</td>\n",
       "      <td>0.34</td>\n",
       "      <td>0.24</td>\n",
       "      <td>11.04</td>\n",
       "    </tr>\n",
       "    <tr>\n",
       "      <th>6</th>\n",
       "      <td>12</td>\n",
       "      <td>3.75</td>\n",
       "      <td>2.50</td>\n",
       "      <td>0.92</td>\n",
       "      <td>0.21</td>\n",
       "      <td>-1.56</td>\n",
       "      <td>0.40</td>\n",
       "      <td>0.21</td>\n",
       "      <td>11.25</td>\n",
       "    </tr>\n",
       "    <tr>\n",
       "      <th>7</th>\n",
       "      <td>14</td>\n",
       "      <td>3.81</td>\n",
       "      <td>2.14</td>\n",
       "      <td>0.76</td>\n",
       "      <td>0.18</td>\n",
       "      <td>-1.71</td>\n",
       "      <td>0.47</td>\n",
       "      <td>0.18</td>\n",
       "      <td>11.43</td>\n",
       "    </tr>\n",
       "    <tr>\n",
       "      <th>8</th>\n",
       "      <td>16</td>\n",
       "      <td>3.85</td>\n",
       "      <td>1.90</td>\n",
       "      <td>0.64</td>\n",
       "      <td>0.12</td>\n",
       "      <td>-2.12</td>\n",
       "      <td>0.53</td>\n",
       "      <td>0.16</td>\n",
       "      <td>11.55</td>\n",
       "    </tr>\n",
       "    <tr>\n",
       "      <th>9</th>\n",
       "      <td>18</td>\n",
       "      <td>3.88</td>\n",
       "      <td>1.72</td>\n",
       "      <td>0.54</td>\n",
       "      <td>0.09</td>\n",
       "      <td>-2.41</td>\n",
       "      <td>0.58</td>\n",
       "      <td>0.14</td>\n",
       "      <td>11.64</td>\n",
       "    </tr>\n",
       "    <tr>\n",
       "      <th>10</th>\n",
       "      <td>20</td>\n",
       "      <td>3.91</td>\n",
       "      <td>1.54</td>\n",
       "      <td>0.43</td>\n",
       "      <td>0.09</td>\n",
       "      <td>-2.41</td>\n",
       "      <td>0.65</td>\n",
       "      <td>0.13</td>\n",
       "      <td>11.73</td>\n",
       "    </tr>\n",
       "  </tbody>\n",
       "</table>\n",
       "</div>"
      ],
      "text/plain": [
       "    Time    Cc     Ca  ln(Ca)  -delta Ca/delta t  ln(-delta Ca/delta t)  1/Ca  \\\n",
       "0      0  0.00  25.00    3.22                NaN                    NaN  0.04   \n",
       "1      2  2.50  10.00    2.30               7.50                   2.01  0.10   \n",
       "2      4  3.13   6.22    1.83               1.89                   0.64  0.16   \n",
       "3      6  3.41   4.54    1.51               0.84                  -0.17  0.22   \n",
       "4      8  3.57   3.58    1.28               0.48                  -0.73  0.28   \n",
       "5     10  3.68   2.92    1.07               0.33                  -1.11  0.34   \n",
       "6     12  3.75   2.50    0.92               0.21                  -1.56  0.40   \n",
       "7     14  3.81   2.14    0.76               0.18                  -1.71  0.47   \n",
       "8     16  3.85   1.90    0.64               0.12                  -2.12  0.53   \n",
       "9     18  3.88   1.72    0.54               0.09                  -2.41  0.58   \n",
       "10    20  3.91   1.54    0.43               0.09                  -2.41  0.65   \n",
       "\n",
       "      Cb     Cd  \n",
       "0   2.08   0.00  \n",
       "1   0.83   7.50  \n",
       "2   0.52   9.39  \n",
       "3   0.38  10.23  \n",
       "4   0.30  10.71  \n",
       "5   0.24  11.04  \n",
       "6   0.21  11.25  \n",
       "7   0.18  11.43  \n",
       "8   0.16  11.55  \n",
       "9   0.14  11.64  \n",
       "10  0.13  11.73  "
      ]
     },
     "execution_count": 27,
     "metadata": {},
     "output_type": "execute_result"
    }
   ],
   "source": [
    "df"
   ]
  },
  {
   "cell_type": "code",
   "execution_count": 6,
   "id": "98bbe4af-d7ee-4c4e-8e34-0af88eb9d152",
   "metadata": {},
   "outputs": [
    {
     "name": "stderr",
     "output_type": "stream",
     "text": [
      "No artists with labels found to put in legend.  Note that artists whose label start with an underscore are ignored when legend() is called with no argument.\n",
      "C:\\Users\\fiacac\\AppData\\Local\\Temp/ipykernel_22640/2951071392.py:18: UserWarning: Matplotlib is currently using module://matplotlib_inline.backend_inline, which is a non-GUI backend, so cannot show the figure.\n",
      "  fig.show()\n"
     ]
    },
    {
     "data": {
      "image/png": "[encoded data removed]",
      "text/plain": [
       "<Figure size 432x288 with 1 Axes>"
      ]
     },
     "metadata": {
      "needs_background": "light"
     },
     "output_type": "display_data"
    }
   ],
   "source": [
    "import matplotlib.pyplot as plt\n",
    "import scipy\n",
    "from scipy import stats\n",
    "\n",
    "m, b, r_value, p_value, std_err = scipy.stats.linregress(df['ln(Ca)'].iloc[1:], df['ln(-delta Ca/delta t)'].iloc[1:])\n",
    "\n",
    "fig, ax = plt.subplots()\n",
    "ax.scatter(df['ln(Ca)'].iloc[1:], df['ln(-delta Ca/delta t)'].iloc[1:])\n",
    "ax.plot(df['ln(Ca)'].iloc[1:], m*df['ln(Ca)'].iloc[1:] + b)\n",
    "ax.annotate('r^2: ' + str(\"{:.2f}\".format(r_value**2)), xy=(0.5, 2))\n",
    "ax.annotate('formula: ' + str(\"{:.2f}\".format(m)) + 'x + ' + str(\"{:.2f}\".format(b)), xy=(0.5,1.7))\n",
    "plt.title('Differential method')\n",
    "plt.xlabel('ln(Ca)')\n",
    "plt.ylabel('ln(-delta Ca/delta t)')\n",
    "plt.legend()\n",
    "plt.grid()\n",
    "plt.ylim([-3, 3])\n",
    "fig.show()"
   ]
  },
  {
   "cell_type": "code",
   "execution_count": 7,
   "id": "85a3ff56-a711-4dba-bdb3-5fc17775bf21",
   "metadata": {},
   "outputs": [
    {
     "name": "stderr",
     "output_type": "stream",
     "text": [
      "No artists with labels found to put in legend.  Note that artists whose label start with an underscore are ignored when legend() is called with no argument.\n",
      "C:\\Users\\fiacac\\AppData\\Local\\Temp/ipykernel_22640/3967210108.py:16: UserWarning: Matplotlib is currently using module://matplotlib_inline.backend_inline, which is a non-GUI backend, so cannot show the figure.\n",
      "  fig.show()\n"
     ]
    },
    {
     "data": {
      "image/png": "[encoded data removed]",
      "text/plain": [
       "<Figure size 432x288 with 1 Axes>"
      ]
     },
     "metadata": {
      "needs_background": "light"
     },
     "output_type": "display_data"
    }
   ],
   "source": [
    "df['1/Ca'] = round(1/df['Ca'], 2)\n",
    "\n",
    "m, b, r_value, p_value, std_err = scipy.stats.linregress(df['Time'].iloc[1:], df['1/Ca'].iloc[1:])\n",
    "\n",
    "fig, ax = plt.subplots()\n",
    "ax.scatter(df['Time'].iloc[1:], df['1/Ca'].iloc[1:])\n",
    "ax.plot(df['Time'].iloc[1:], m*df['Time'].iloc[1:] + b)\n",
    "ax.annotate('r^2: ' + str(\"{:.2f}\".format(r_value**2)), xy=(2.5, 0.6))\n",
    "ax.annotate('formula: ' + str(\"{:.2f}\".format(m)) + 'x + ' + str(\"{:.2f}\".format(b)), xy=(1950,18500))\n",
    "plt.title('Integral method')\n",
    "plt.xlabel('Time [h]')\n",
    "plt.ylabel('1/Ca')\n",
    "plt.legend()\n",
    "plt.grid()\n",
    "#plt.ylim([-3, 3])\n",
    "fig.show()"
   ]
  },
  {
   "cell_type": "markdown",
   "id": "f5e21779-e4df-4dec-a90b-e337f7c96e08",
   "metadata": {},
   "source": [
    "4. Plot the concentrations of A, B, C and D versus time. Explain the assumption you have made **(1,5 point)**."
   ]
  },
  {
   "cell_type": "code",
   "execution_count": 8,
   "id": "a11ada77-13a0-49e9-9805-ee82f0f95083",
   "metadata": {},
   "outputs": [
    {
     "data": {
      "text/plain": [
       "<matplotlib.legend.Legend at 0x18687d6e340>"
      ]
     },
     "execution_count": 8,
     "metadata": {},
     "output_type": "execute_result"
    },
    {
     "data": {
      "image/png": "[encoded data removed]",
      "text/plain": [
       "<Figure size 720x504 with 1 Axes>"
      ]
     },
     "metadata": {
      "needs_background": "light"
     },
     "output_type": "display_data"
    }
   ],
   "source": [
    "# Plot the concentrations of A, B, C and D versus time\n",
    "\n",
    "df['Cb'] = round(df['Ca']*1/12, 2)\n",
    "df['Cd'] = round(df['Cc']/(1/6)*(1/2), 2)\n",
    "\n",
    "plt.figure(figsize=(10,7))\n",
    "plt.plot(df['Time'], df['Ca'], color='red', label='Ca', marker='o')\n",
    "plt.plot(df['Time'], df['Cb'], color='orange', label='Cb', marker='o')\n",
    "plt.plot(df['Time'], df['Cc'], color='green', label='Cc', marker='o')\n",
    "plt.plot(df['Time'], df['Cd'], color='blue', label='Cd', marker='o')\n",
    "plt.title('Concentration vs time')\n",
    "plt.xlabel('Time [h]')\n",
    "plt.ylabel('Concentration [mol/mL]')\n",
    "plt.grid()\n",
    "plt.legend()"
   ]
  },
  {
   "cell_type": "markdown",
   "id": "c4d96ecc-6e1f-4f75-95e7-e04ac183865f",
   "metadata": {},
   "source": [
    "5. Finally, correlate the rate constant k with the temperature through the Arrhenius expression. Calculate the activation energy **(0,75 point)** and the Arrhenius constant **(0,75 point)** using the data below:\n",
    "\n",
    "| $$ Temperature (^\\circ C) $$ |  $$ {k (m^3 \\cdot mol^{-1} \\cdot h^{-1})} $$ |\n",
    "| :------- | :------------------------- |\n",
    "| 25 | 0,02764 |\n",
    "|30|0,03548|\n",
    "|35|0,04519|\n",
    "|45|0,07165|\n",
    "\n",
    "*Hint*: $ R = 8.314 J \\cdot mol^{-1}·K^{-1} $\n",
    "\n",
    "Plot the relation between the rate constant k and the temperature **(0,5 point)**."
   ]
  },
  {
   "cell_type": "code",
   "execution_count": 9,
   "id": "5611153d-f17b-46d2-a854-d0887476af4c",
   "metadata": {},
   "outputs": [
    {
     "data": {
      "text/html": [
       "<div>\n",
       "<style scoped>\n",
       "    .dataframe tbody tr th:only-of-type {\n",
       "        vertical-align: middle;\n",
       "    }\n",
       "\n",
       "    .dataframe tbody tr th {\n",
       "        vertical-align: top;\n",
       "    }\n",
       "\n",
       "    .dataframe thead th {\n",
       "        text-align: right;\n",
       "    }\n",
       "</style>\n",
       "<table border=\"1\" class=\"dataframe\">\n",
       "  <thead>\n",
       "    <tr style=\"text-align: right;\">\n",
       "      <th></th>\n",
       "      <th>T_C</th>\n",
       "      <th>k</th>\n",
       "      <th>T_K</th>\n",
       "      <th>1/T</th>\n",
       "      <th>ln(k)</th>\n",
       "    </tr>\n",
       "  </thead>\n",
       "  <tbody>\n",
       "    <tr>\n",
       "      <th>0</th>\n",
       "      <td>25</td>\n",
       "      <td>0.02764</td>\n",
       "      <td>298.0</td>\n",
       "      <td>0.003356</td>\n",
       "      <td>-3.588491</td>\n",
       "    </tr>\n",
       "    <tr>\n",
       "      <th>1</th>\n",
       "      <td>30</td>\n",
       "      <td>0.03548</td>\n",
       "      <td>303.0</td>\n",
       "      <td>0.003300</td>\n",
       "      <td>-3.338786</td>\n",
       "    </tr>\n",
       "    <tr>\n",
       "      <th>2</th>\n",
       "      <td>35</td>\n",
       "      <td>0.04519</td>\n",
       "      <td>308.0</td>\n",
       "      <td>0.003247</td>\n",
       "      <td>-3.096879</td>\n",
       "    </tr>\n",
       "    <tr>\n",
       "      <th>3</th>\n",
       "      <td>45</td>\n",
       "      <td>0.07165</td>\n",
       "      <td>318.0</td>\n",
       "      <td>0.003145</td>\n",
       "      <td>-2.635962</td>\n",
       "    </tr>\n",
       "  </tbody>\n",
       "</table>\n",
       "</div>"
      ],
      "text/plain": [
       "   T_C        k    T_K       1/T     ln(k)\n",
       "0   25  0.02764  298.0  0.003356 -3.588491\n",
       "1   30  0.03548  303.0  0.003300 -3.338786\n",
       "2   35  0.04519  308.0  0.003247 -3.096879\n",
       "3   45  0.07165  318.0  0.003145 -2.635962"
      ]
     },
     "execution_count": 9,
     "metadata": {},
     "output_type": "execute_result"
    }
   ],
   "source": [
    "# Calculate the activation energy\n",
    "\n",
    "def calculate_k(A, Ea, R, T):\n",
    "    return A* np.exp(-EA/(R*T))\n",
    "\n",
    "def calculate_ln_k(A, Ea, R, T):\n",
    "    return np.log(A)-(Ea/R)*1/T\n",
    "\n",
    "df_arrhenius = pd.DataFrame()\n",
    "df_arrhenius['T_C'] = [25, 30, 35, 45]\n",
    "df_arrhenius['k'] = [0.02764, 0.03548, 0.04519, 0.07165]\n",
    "df_arrhenius['T_K'] = round(273.15 + df_arrhenius['T_C'])\n",
    "df_arrhenius['1/T'] = 1/df_arrhenius['T_K']\n",
    "df_arrhenius['ln(k)'] = np.log(df_arrhenius['k'])\n",
    "\n",
    "df_arrhenius"
   ]
  },
  {
   "cell_type": "code",
   "execution_count": 26,
   "id": "540797e6-0f85-4eca-9957-e02f7e8358a9",
   "metadata": {},
   "outputs": [
    {
     "name": "stdout",
     "output_type": "stream",
     "text": [
      " \n",
      "-4514 x + 11.56\n",
      "-37525.60359505965\n",
      "104560.4590263023\n"
     ]
    },
    {
     "data": {
      "image/png": "[encoded data removed]",
      "text/plain": [
       "<Figure size 432x288 with 1 Axes>"
      ]
     },
     "metadata": {
      "needs_background": "light"
     },
     "output_type": "display_data"
    }
   ],
   "source": [
    "plt.plot(df_arrhenius['1/T'], df_arrhenius['ln(k)'], marker='o')\n",
    "z = np.polyfit(df_arrhenius['1/T'].tolist(), df_arrhenius['ln(k)'].tolist(), 1)\n",
    "p = np.poly1d(z)\n",
    "ER = z[0]\n",
    "print(p)\n",
    "Ea = z[0]*R\n",
    "print(Ea)\n",
    "A = np.exp(z[1])\n",
    "print(A)\n",
    "plt.grid()\n",
    "plt.xlabel('1/T')\n",
    "plt.ylabel('ln(k)')\n",
    "plt.show()"
   ]
  },
  {
   "cell_type": "code",
   "execution_count": 24,
   "id": "11f7015c-e282-47ab-aa86-45975aa8f78e",
   "metadata": {},
   "outputs": [
    {
     "name": "stdout",
     "output_type": "stream",
     "text": [
      "37525.239\n"
     ]
    },
    {
     "data": {
      "text/plain": [
       "104556.39545877262"
      ]
     },
     "execution_count": 24,
     "metadata": {},
     "output_type": "execute_result"
    }
   ],
   "source": [
    "# Calculate the Arrhenius constant\n",
    "k = 0.02764\n",
    "Ea = 4513.5*R \n",
    "print(Ea)\n",
    "R = 8.314\n",
    "T = 25+273\n",
    "A = k/(np.exp(-Ea/(R*T)))\n",
    "A"
   ]
  },
  {
   "cell_type": "code",
   "execution_count": 28,
   "id": "b22fb9fe-7945-46c5-a419-0170dda19531",
   "metadata": {},
   "outputs": [
    {
     "data": {
      "text/plain": [
       "0.034183917296711934"
      ]
     },
     "execution_count": 28,
     "metadata": {},
     "output_type": "execute_result"
    }
   ],
   "source": [
    "np.exp(-3.376)"
   ]
  },
  {
   "cell_type": "code",
   "execution_count": null,
   "id": "6e5867d2-1045-420f-a2e5-233fc17f161c",
   "metadata": {},
   "outputs": [],
   "source": [
    "# Plot the relation between the rate constant k and the temperature\n",
    "\n",
    "# Your code here"
   ]
  },
  {
   "cell_type": "markdown",
   "id": "3b102666-5ebd-45a0-9258-3d0c0bd12000",
   "metadata": {},
   "source": [
    "**Optional**: Write the complete kinetic expression written with the concentration of $C_A$ expressed with help of the initial concentration $C_{A0}$ and X **(1 point)**.\n"
   ]
  },
  {
   "cell_type": "code",
   "execution_count": null,
   "id": "a0fe3a93-da94-42ba-bcbd-ec5566128a8b",
   "metadata": {},
   "outputs": [],
   "source": [
    "# Write the complete kinetic expression\n",
    "\n",
    "# Your code here"
   ]
  }
 ],
 "metadata": {
  "kernelspec": {
   "display_name": "Python 3 (ipykernel)",
   "language": "python",
   "name": "python3"
  },
  "language_info": {
   "codemirror_mode": {
    "name": "ipython",
    "version": 3
   },
   "file_extension": ".py",
   "mimetype": "text/x-python",
   "name": "python",
   "nbconvert_exporter": "python",
   "pygments_lexer": "ipython3",
   "version": "3.8.10"
  }
 },
 "nbformat": 4,
 "nbformat_minor": 5
}
