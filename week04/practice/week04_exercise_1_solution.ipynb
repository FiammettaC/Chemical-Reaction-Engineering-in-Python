{
 "cells": [
  {
   "cell_type": "markdown",
   "id": "80207388-55b2-4c0f-bfcd-eaf13f5e2dfd",
   "metadata": {},
   "source": [
    "## Problem B\n",
    "\n",
    "The gas phase reaction A + B → C + D is examined in an ideally stirred batch reactor with a constant volume. At time t = 0 the reactor is rapidly filled with a mixture of equal amounts of A and B at a pressure of 100 kPa and a temperature of 25 °C. After one hour the concentration of A is measured as  $\\frac{C_{A}}{C_{A0}}=0.15$. The reaction temperature is constant at 25 °C.\n",
    "The reaction follows the rate expression:\n",
    "\n",
    "$R = -r_{A}=-r_{B}=k{C_{A}}{C_{B}}$"
   ]
  },
  {
   "cell_type": "markdown",
   "id": "ef63fc5e-c697-4901-9e19-d06b30a0877e",
   "metadata": {},
   "source": [
    "a) What is the relationship between ${C_{A}}$ and ${C_{B}}$?"
   ]
  },
  {
   "cell_type": "markdown",
   "id": "9adb6570-6210-4977-9e58-63c5fb60e20f",
   "metadata": {},
   "source": [
    "Since the initial concentrations of A and B are the same and the stoichiometry shows\n",
    "that when one mole of A is consumed so is one mole of B it follows that CA = CB.\n",
    "The common concentration of A and B will be called C in the following."
   ]
  },
  {
   "cell_type": "code",
   "execution_count": 1,
   "id": "0e1dcdcc-fe55-4cb5-9cfd-ba153e225808",
   "metadata": {},
   "outputs": [
    {
     "name": "stdout",
     "output_type": "stream",
     "text": [
      "The initial concentration of A and B is: 20.18 mol/m^3\n"
     ]
    }
   ],
   "source": [
    "# Calculate initial concentration of A and B\n",
    "def calculate_C0(C_ratio, n, P, R, T):\n",
    "    C0 = (0.5*P)/(R*T)\n",
    "    return round(C0, 2)\n",
    "\n",
    "T1 = 25 # temperature in C\n",
    "T1_kelvin = round(T1 + 273.15) # temperature in K\n",
    "\n",
    "CA_CA0 = 0.15 # ratio of CA/CA0\n",
    "R = 8.3144 # gas constant in Pa*m^3/(mol*K)\n",
    "P = 100000 # pressure\n",
    "C0 = calculate_C0(CA_CA0, 0.5, P, R, T1_kelvin)\n",
    "print(f'The initial concentration of A and B is: {C0} mol/m^3')"
   ]
  },
  {
   "cell_type": "markdown",
   "id": "59d98a85-e7fc-4d22-8117-7aa186a4d198",
   "metadata": {},
   "source": [
    "b) Compute the rate constant k.\n",
    "The gas can be considered ideal. The gas constant is $R = 8.3144 Pa\\cdot m^3/(mol\\cdot K)$"
   ]
  },
  {
   "cell_type": "code",
   "execution_count": 6,
   "id": "acba5ece-072b-4e56-ae45-0e79fb7cfb69",
   "metadata": {},
   "outputs": [
    {
     "name": "stdout",
     "output_type": "stream",
     "text": [
      "The constant rate k is: 7.800168850713945e-05 m^3/mol*s\n"
     ]
    }
   ],
   "source": [
    "def rate_constant(C0, C_ratio, t):\n",
    "    k_h = (1/(C0*t))* (1/C_ratio -1)\n",
    "    k_s = k_h/3600\n",
    "    return k_s\n",
    "\n",
    "t = 1 # time in h\n",
    "k = rate_constant(C0, CA_CA0, t)\n",
    "print(f'The constant rate k is: {k} m^3/mol*s')"
   ]
  },
  {
   "cell_type": "markdown",
   "id": "2216d7d4-cd46-4c43-b5d9-b8fc56e28bed",
   "metadata": {},
   "source": [
    "The activation energy $E_a$ of the reaction is given by: $E_a/R=10200 K$\n",
    "\n",
    "c) Calculate the rate constant at 100 °C\n",
    "\n",
    "The gas constant is $R = 8.3144 J/mol/K $"
   ]
  },
  {
   "cell_type": "code",
   "execution_count": 9,
   "id": "f4d71d6c-8544-4165-9330-c76e677120a5",
   "metadata": {},
   "outputs": [
    {
     "name": "stdout",
     "output_type": "stream",
     "text": [
      "The rate constant at 100 C is: 0.07604449355095103 m^3/mol*s\n"
     ]
    }
   ],
   "source": [
    "import math\n",
    "\n",
    "def rate_constant_100C(k, Ea_R, T1_kelvin, T2_kelvin):\n",
    "    k_100 = k*math.exp((Ea_R*(1/T1_kelvin-1/T2_kelvin)))\n",
    "    return k_100\n",
    "\n",
    "Ea_R = 10200 # activation energy in K\n",
    "T2 = 100 # temperature in C\n",
    "T2_kelvin = round(T2 + 273.15) # temperature in K\n",
    "\n",
    "print(f'The rate constant at 100 C is: {rate_constant_100C(k, Ea_R, T1_kelvin, T2_kelvin)} m^3/mol*s')"
   ]
  }
 ],
 "metadata": {
  "kernelspec": {
   "display_name": "Python 3 (ipykernel)",
   "language": "python",
   "name": "python3"
  },
  "language_info": {
   "codemirror_mode": {
    "name": "ipython",
    "version": 3
   },
   "file_extension": ".py",
   "mimetype": "text/x-python",
   "name": "python",
   "nbconvert_exporter": "python",
   "pygments_lexer": "ipython3",
   "version": "3.9.7"
  }
 },
 "nbformat": 4,
 "nbformat_minor": 5
}
