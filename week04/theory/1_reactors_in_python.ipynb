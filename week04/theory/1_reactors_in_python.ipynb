{
 "cells": [
  {
   "cell_type": "markdown",
   "id": "0926ee4f-cbf5-4e73-88c0-42435dcbf370",
   "metadata": {},
   "source": [
    "# Reactors in Python\n",
    "\n",
    "This week we will see how to address problems that you have previously been solving by hand, in Python."
   ]
  },
  {
   "cell_type": "markdown",
   "id": "7e6c5cc7-b57c-461e-a477-5bd4cca458b2",
   "metadata": {},
   "source": [
    "## Ideal batch reactor (week 1)\n",
    "### Problem A: \n",
    "In an ideal batch reactor, the following reaction takes place\n",
    "$A → Products$\n",
    "\n",
    "with a rate expression of:\n",
    "$R = -r_{A}=k{C_{A}}^n $\n",
    "\n",
    "The reactor is isothermal and the density of the reaction mixture is constant.\n",
    "The reaction starts at time t = 0, where the concentration of A is $C_{A0}$.\n",
    "\n",
    "After a reaction time of 1 hour, the concentration of A is measured to be: $\\frac{C_{A}}{C_{A0}}=0.1$\n",
    " \n",
    "1) Calculate the rate constant and how much longer the reaction must continue to obtain $\\frac{C_{A}}{C_{A0}}=0.001$\n",
    "    a. For a first order reaction, n = 1\n",
    "    b. For a second order reaction, n = 2\n",
    "    (In this case it is not possible to calculate the rate constant $kC_{A0}$, but can be calculated and used to estimate how much longer the reaction must continue to obtain $\\frac{C_{A}}{C_{A0}}=0.001$)"
   ]
  },
  {
   "cell_type": "markdown",
   "id": "a819e5b1-61f8-46eb-8b0c-fa162ccc5a6c",
   "metadata": {},
   "source": [
    "### Solving the first order reaction"
   ]
  },
  {
   "cell_type": "code",
   "execution_count": 3,
   "id": "451daa9a-e1b0-402f-9739-6122687878c0",
   "metadata": {},
   "outputs": [
    {
     "name": "stdout",
     "output_type": "stream",
     "text": [
      "The rate constant is: 2.3\n",
      "Time needed to reach given concentration of A is: 2 hours\n"
     ]
    }
   ],
   "source": [
    "# in the code we can make a loop to check whether the V is constant\n",
    "# otherwise print something\n",
    "# this might help you in the future\n",
    "import numpy as np\n",
    "\n",
    "def first_order_reaction_batch(C_ratio, t, V='constant'):\n",
    "    '''\n",
    "    Given the solved equation for an ideal batch reactor and the time, \n",
    "    this function returns the rate constant for a first order reaction.\n",
    "    Args:\n",
    "        C_ratio (float): Concentration of A, given by CA/CA0 ratio.\n",
    "        t (int): time necessary to reach given concentration of A.\n",
    "    returns:\n",
    "        k (float): rate constant.\n",
    "    '''\n",
    "    if V == 'constant':   \n",
    "        k = -np.log(C_ratio)/t\n",
    "    else:\n",
    "        print('V should be constant in this exercise')         \n",
    "    return k\n",
    "\n",
    "def first_order_time(C_ratio, k):\n",
    "    '''\n",
    "    Given the solved equation for an ideal batch reactor \n",
    "    and the previously calculated rate constant, \n",
    "    this function returns the time (how much longer the reaction \n",
    "    must continue to obtain CA/CA0 = 0.001).\n",
    "    \n",
    "    Args:\n",
    "        C_ratio (float): Concentration of A, given by CA/CA0 ratio.\n",
    "        k (float): rate constant.\n",
    "    returns:\n",
    "        t (int): time necessary to reach given concentration of A.\n",
    "    '''\n",
    "    t = -np.log(C_ratio)/k\n",
    "    return round(t)\n",
    "    \n",
    "t1 = 1\n",
    "CA_CA0_1h = 0.1\n",
    "CA_CA0_t = 0.001\n",
    "k_first_order = first_order_reaction_batch(CA_CA0_1h, t1)\n",
    "print(f'The rate constant is: {round(k_first_order, 2)}')\n",
    "t2 = first_order_time(CA_CA0_t, k_first_order)\n",
    "\n",
    "time = t2 - t1\n",
    "print(f\"Time needed to reach given concentration of A is: {time} hours\")"
   ]
  },
  {
   "cell_type": "markdown",
   "id": "8b4dd31c-6c0b-4a7b-a98b-848b5ea925e0",
   "metadata": {},
   "source": [
    "### Solving the second order reaction"
   ]
  },
  {
   "cell_type": "code",
   "execution_count": 4,
   "id": "7e917f38-ecdc-4f2a-9bf1-2c7526ab0036",
   "metadata": {},
   "outputs": [
    {
     "name": "stdout",
     "output_type": "stream",
     "text": [
      "The rate constant is: 9.0\n",
      "Time needed to reach given concentration of A is: 110.0 hours\n"
     ]
    }
   ],
   "source": [
    "def second_order_reaction_batch(C_ratio, t, V='constant'):\n",
    "    if V == 'constant':\n",
    "        k_CA0 = 1/t*(1/C_ratio - 1)\n",
    "    else:\n",
    "        print('V should be constant in this exercise')         \n",
    "    return k_CA0\n",
    "\n",
    "def second_order_time(C_ratio, k):\n",
    "    return 1/k*(1/C_ratio -1)\n",
    "\n",
    "k_second_order = second_order_reaction_batch(CA_CA0_1h, t1)\n",
    "print(f'The rate constant is: {k_second_order}')\n",
    "t2 = second_order_time(CA_CA0_t, k_second_order)\n",
    "\n",
    "time = t2 - t1\n",
    "print(f\"Time needed to reach given concentration of A is: {time} hours\")"
   ]
  },
  {
   "cell_type": "markdown",
   "id": "df343271-d055-4543-bea6-66827f7d51da",
   "metadata": {},
   "source": [
    "Putting it all together."
   ]
  },
  {
   "cell_type": "code",
   "execution_count": 7,
   "id": "8a74eb3d-3f6c-4e43-89bf-d21be73f26e8",
   "metadata": {},
   "outputs": [
    {
     "name": "stdout",
     "output_type": "stream",
     "text": [
      "Rate constant and time for first order batch reaction:\n",
      "2.3025850929940455\n",
      "2.0\n",
      "\n",
      "Rate constant and time for second order batch reaction:\n",
      "9.0\n",
      "110.0\n"
     ]
    }
   ],
   "source": [
    "def reaction_batch(C_ratio, t, order):\n",
    "    \n",
    "    if order == 'first':\n",
    "        k = -np.log(C_ratio)/t\n",
    "        \n",
    "    elif order == 'second':\n",
    "        k = 1/t*(1/C_ratio - 1)\n",
    "        \n",
    "    else:\n",
    "        print('Provide the order of the reaction as a string')\n",
    "        \n",
    "    return k\n",
    "\n",
    "def calculate_time(C_ratio, k, order):\n",
    "    \n",
    "    if order == 'first':\n",
    "        t = -np.log(C_ratio)/k\n",
    "        \n",
    "    elif order == 'second':\n",
    "        t = 1/k*(1/C_ratio -1)\n",
    "    \n",
    "    else:\n",
    "        print('Provide the order of the reaction as a string')\n",
    "        \n",
    "    return round(t, 2)\n",
    "\n",
    "print('Rate constant and time for first order batch reaction:')\n",
    "k_first_order = reaction_batch(CA_CA0_1h, t1, 'first')\n",
    "print(k_first_order)\n",
    "print(calculate_time(CA_CA0_t, k_first_order, 'first')-t1)\n",
    "print()\n",
    "print('Rate constant and time for second order batch reaction:')\n",
    "k_second_order = reaction_batch(CA_CA0_1h, t1, 'second')\n",
    "print(k_second_order)\n",
    "print(calculate_time(CA_CA0_t, k_second_order, 'second')-t1)"
   ]
  },
  {
   "cell_type": "markdown",
   "id": "eeaecb0f-aaae-4f33-9adf-0204b05aa6fe",
   "metadata": {},
   "source": [
    "## Residence time in a CSTR"
   ]
  },
  {
   "cell_type": "markdown",
   "id": "ff23cc7c-8768-4aa4-91f4-187b004b5024",
   "metadata": {},
   "source": [
    "2) What should be the residence time, $\\tau = V/v_{0}$, in a CSTR to achieve $\\frac{C_{A}}{C_{A0}}=0.001$ for the reaction for each of the two cases: n = 1 and n = 2."
   ]
  },
  {
   "cell_type": "code",
   "execution_count": 28,
   "id": "225f5dcd-7772-4afd-acf9-c88ad0248adc",
   "metadata": {},
   "outputs": [
    {
     "name": "stdout",
     "output_type": "stream",
     "text": [
      "The residence time in a CSTR with n=1 is: 434 h\n"
     ]
    }
   ],
   "source": [
    "def first_order_reaction_CSTR(C_ratio, k, density='constant'):\n",
    "    if density == 'constant':\n",
    "        tau = 1/k*((1-C_ratio)/C_ratio)\n",
    "    else: \n",
    "        print('Density should be constant in this exercise')\n",
    "    return round(tau)\n",
    "\n",
    "print(f'The residence time in a CSTR with n=1 is: {first_order_reaction_CSTR(CA_CA0_t, k_first_order)} h')"
   ]
  },
  {
   "cell_type": "code",
   "execution_count": 29,
   "id": "32bb97c1-0c9f-47c2-a56d-14548ee61e3d",
   "metadata": {},
   "outputs": [
    {
     "name": "stdout",
     "output_type": "stream",
     "text": [
      "The residence time in a CSTR with n=2 is: 111000 h\n"
     ]
    }
   ],
   "source": [
    "def second_order_reaction_CSTR(C_ratio, k, density='constant'):\n",
    "    if density == 'constant':\n",
    "        tau = (1/k)*((1-C_ratio)/C_ratio**2)\n",
    "    else: \n",
    "        print('Density should be constant in this exercise')\n",
    "    return round(tau)\n",
    "\n",
    "print(f'The residence time in a CSTR with n=2 is: {second_order_reaction_CSTR(CA_CA0_t, k_second_order)} h')"
   ]
  },
  {
   "cell_type": "markdown",
   "id": "316d291c-26bc-4102-a697-9840cdd43951",
   "metadata": {},
   "source": [
    "**Exercise**: write a function to combine the first and second order reaction for CSTR (as done before for batch reactor).\n",
    "\n",
    "Level: <span style=\"color:orange\">Medium</span>."
   ]
  },
  {
   "cell_type": "code",
   "execution_count": null,
   "id": "5e58cf23-b64a-4e8f-b57e-9d7704f3001b",
   "metadata": {},
   "outputs": [],
   "source": [
    "# Your code here"
   ]
  },
  {
   "cell_type": "markdown",
   "id": "d80e6518-4a27-4424-a2a7-823d0f596b5e",
   "metadata": {},
   "source": [
    "3) How would you explain the observed difference between a first order and a second order reaction in words?"
   ]
  },
  {
   "cell_type": "code",
   "execution_count": 11,
   "id": "8782551f-bd82-4870-9a07-eef81a4496ff",
   "metadata": {},
   "outputs": [],
   "source": [
    "# Type here"
   ]
  }
 ],
 "metadata": {
  "kernelspec": {
   "display_name": "Python 3 (ipykernel)",
   "language": "python",
   "name": "python3"
  },
  "language_info": {
   "codemirror_mode": {
    "name": "ipython",
    "version": 3
   },
   "file_extension": ".py",
   "mimetype": "text/x-python",
   "name": "python",
   "nbconvert_exporter": "python",
   "pygments_lexer": "ipython3",
   "version": "3.9.7"
  }
 },
 "nbformat": 4,
 "nbformat_minor": 5
}
