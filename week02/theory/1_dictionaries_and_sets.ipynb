{
 "cells": [
  {
   "cell_type": "markdown",
   "id": "f1a4ce39-43b4-4096-9110-87b9f582130d",
   "metadata": {},
   "source": [
    "# Dictionaries and Sets"
   ]
  },
  {
   "cell_type": "markdown",
   "id": "416c6905-7ded-4c6e-bfd5-b448a04f6968",
   "metadata": {},
   "source": [
    "## Dictionaries"
   ]
  },
  {
   "cell_type": "markdown",
   "id": "89706cd5-444e-48ea-abcc-b81668ed247f",
   "metadata": {},
   "source": [
    "Just like the physical dictionaries used to look up the meaning of a word, *dictionaries* in Python are data structures that associate keys to values. In other programming languages, they are also known as hash tables, hash maps or associative arrays.\n",
    "\n",
    "Dictionaries are ordered in Python 3.7 and higher, in Python 3.6 and lower they are an unordered collection of key:value pairs.\n",
    "They are changeable, meaning that a dictionary can be updated, and values can be added, removed and overwritten.\n",
    "\n",
    "Note: Keys in a dictionary are unique (duplicates are not allowed), this means that the values can be overwritten.\n",
    "\n",
    "They are written in curly brackets."
   ]
  },
  {
   "cell_type": "code",
   "execution_count": 1,
   "id": "bf2767e0-78ec-4f75-8486-e19918953c1a",
   "metadata": {},
   "outputs": [
    {
     "name": "stdout",
     "output_type": "stream",
     "text": [
      "{'temperature': 30, 'pH': 6.9, 'pressure': 1.0}\n"
     ]
    }
   ],
   "source": [
    "dict_conditions = {\n",
    "    \"temperature\": 30,\n",
    "    \"pH\": 7.0,\n",
    "    \"pressure\": 1.0,\n",
    "    \"pH\": 6.9\n",
    "}\n",
    "\n",
    "print(dict_conditions)"
   ]
  },
  {
   "cell_type": "markdown",
   "id": "8cd20e60-d22b-488d-ab3c-38738aeb45a0",
   "metadata": {},
   "source": [
    "As you can see, the pH was overwritten!\n",
    "\n",
    "But you can also have a list of values corresponding to each key."
   ]
  },
  {
   "cell_type": "code",
   "execution_count": 2,
   "id": "6ab48b41-81e3-4b49-b989-950702cb199b",
   "metadata": {},
   "outputs": [
    {
     "name": "stdout",
     "output_type": "stream",
     "text": [
      "{'temperature': [30, 29, 28], 'pH': [7.0, 6.9, 6.8], 'pressure': [1.0, 1.5, 2.0]}\n"
     ]
    }
   ],
   "source": [
    "dict_conditions = {\n",
    "    \"temperature\": [30, 29, 28],\n",
    "    \"pH\": [7.0, 6.9, 6.8],\n",
    "    \"pressure\": [1.0, 1.5, 2.0]\n",
    "}\n",
    "\n",
    "print(dict_conditions)"
   ]
  },
  {
   "cell_type": "markdown",
   "id": "940b7663-55cf-4237-8979-fcc35d765b8f",
   "metadata": {},
   "source": [
    "Let's see how to extract information from dictionaries below"
   ]
  },
  {
   "cell_type": "code",
   "execution_count": 3,
   "id": "375c77ff-fc59-4fbe-999e-6c179b2cddb9",
   "metadata": {},
   "outputs": [
    {
     "name": "stdout",
     "output_type": "stream",
     "text": [
      "[30, 29, 28]\n",
      "[30, 29, 28]\n",
      "True\n",
      "False\n",
      "{'temperature': 30, 'pH': [7.0, 6.9, 6.8], 'pressure': [1.0, 1.5, 2.0]}\n"
     ]
    }
   ],
   "source": [
    "# Print the values of temperature\n",
    "print(dict_conditions[\"temperature\"])\n",
    "# or\n",
    "print(dict_conditions.get(\"temperature\"))\n",
    "\n",
    "# Look if a key is in the dictionary\n",
    "print(\"pressure\" in dict_conditions)\n",
    "print(\"air pressure\" in dict_conditions)\n",
    "\n",
    "# Update a certain condition\n",
    "dict_conditions[\"temperature\"] = 30\n",
    "print(dict_conditions)"
   ]
  },
  {
   "cell_type": "markdown",
   "id": "ff5788f2-0aba-40f8-bf94-7ff6f613ad95",
   "metadata": {},
   "source": [
    "Let's now extract all keys, values and items in the dictionary."
   ]
  },
  {
   "cell_type": "code",
   "execution_count": 4,
   "id": "31f07c2c-6dec-4b6b-8b81-349229d59c2f",
   "metadata": {},
   "outputs": [
    {
     "name": "stdout",
     "output_type": "stream",
     "text": [
      "dict_keys(['temperature', 'pH', 'pressure'])\n",
      "dict_values([30, [7.0, 6.9, 6.8], [1.0, 1.5, 2.0]])\n",
      "dict_items([('temperature', 30), ('pH', [7.0, 6.9, 6.8]), ('pressure', [1.0, 1.5, 2.0])])\n"
     ]
    }
   ],
   "source": [
    "# Extrct the keys\n",
    "print(dict_conditions.keys())\n",
    "\n",
    "# Extrct the values\n",
    "print(dict_conditions.values())\n",
    "\n",
    "# Extrct the items to get the tuple of keys and values\n",
    "print(dict_conditions.items())"
   ]
  },
  {
   "cell_type": "markdown",
   "id": "a5bf8d25-aec3-42dc-9d26-e04ea1ce98df",
   "metadata": {},
   "source": [
    "### Creating a dictionary"
   ]
  },
  {
   "cell_type": "markdown",
   "id": "fc5038d1-8ea8-4a27-866f-b3f1930f5fa1",
   "metadata": {},
   "source": [
    "Dictionaries can be created in many ways. We can manually create a collection of keys and values, as seen above, or we can create them through iteration.\n",
    "\n",
    "Let's see other ways of creating a dictionary."
   ]
  },
  {
   "cell_type": "code",
   "execution_count": 5,
   "id": "8d8b691c-b3d2-4e49-997d-8cd011a2f3f7",
   "metadata": {},
   "outputs": [
    {
     "name": "stdout",
     "output_type": "stream",
     "text": [
      "{0: 'zero', 1: 'one', 2: 'two', 3: 'three', 4: 'four', 5: 'five'}\n"
     ]
    }
   ],
   "source": [
    "# Create a dictionary in a loop\n",
    "list_numbers = ['zero', 'one', 'two', 'three', 'four', 'five']\n",
    "\n",
    "my_dictonary = {}\n",
    "for key, value in enumerate(list_numbers): #enumerate is a function used to get a counter \n",
    "                                           #and the value of an iterable (in our case a list)\n",
    "    my_dictonary[key] = value\n",
    "    \n",
    "print(my_dictonary)"
   ]
  },
  {
   "cell_type": "markdown",
   "id": "784d6dbd-df5c-4a01-98a5-83ba460a9bfe",
   "metadata": {},
   "source": [
    "Or we can do it in a one-liner."
   ]
  },
  {
   "cell_type": "code",
   "execution_count": 6,
   "id": "3bf64c3d-b3e6-4483-9d98-c745776c78a0",
   "metadata": {},
   "outputs": [
    {
     "name": "stdout",
     "output_type": "stream",
     "text": [
      "{0: 'zero', 1: 'one', 2: 'two', 3: 'three', 4: 'four', 5: 'five'}\n"
     ]
    }
   ],
   "source": [
    "my_dictonary = {key:value for key, value in enumerate(list_numbers)}\n",
    "print(my_dictonary)"
   ]
  },
  {
   "cell_type": "markdown",
   "id": "071541b2-5f1b-49b3-a25a-271de9e01bcf",
   "metadata": {},
   "source": [
    "## Sets"
   ]
  },
  {
   "cell_type": "markdown",
   "id": "8d394b97-62b4-49ce-be17-fb8f9d3021be",
   "metadata": {},
   "source": [
    "A *set* is a unique and unordered collection of items.\n",
    "The order of the items in a set does not matter.\n",
    "\n",
    "Items in a set cannot be changed, but they can be removed and new items can be added to the set.\n",
    "\n",
    "Let's see how to define a set below."
   ]
  },
  {
   "cell_type": "code",
   "execution_count": 7,
   "id": "2dd989d0-4f30-435d-8275-2ca0682e69ad",
   "metadata": {},
   "outputs": [
    {
     "name": "stdout",
     "output_type": "stream",
     "text": [
      "{'Ion exchange', 'Crystallization', 'Fluid bed', 'Solid-liquid extraction', 'Bubble column'}\n"
     ]
    }
   ],
   "source": [
    "experiments = ['Bubble column', 'Fluid bed', 'Crystallization', 'Ion exchange', \n",
    "               'Solid-liquid extraction', 'Crystallization']\n",
    "\n",
    "set_experiments = set(experiments)\n",
    "print(set_experiments)"
   ]
  },
  {
   "cell_type": "markdown",
   "id": "06120de3-ed06-4dbb-a26e-ad7f53bd0d9a",
   "metadata": {},
   "source": [
    "But remember that items in a set cannot be indexed!"
   ]
  },
  {
   "cell_type": "code",
   "execution_count": 8,
   "id": "3c928f8e-7068-49d4-ad55-5ab4eb49f5c8",
   "metadata": {},
   "outputs": [
    {
     "ename": "TypeError",
     "evalue": "'set' object is not subscriptable",
     "output_type": "error",
     "traceback": [
      "\u001b[1;31m---------------------------------------------------------------------------\u001b[0m",
      "\u001b[1;31mTypeError\u001b[0m                                 Traceback (most recent call last)",
      "\u001b[1;32m~\\AppData\\Local\\Temp/ipykernel_18812/2900422087.py\u001b[0m in \u001b[0;36m<module>\u001b[1;34m\u001b[0m\n\u001b[1;32m----> 1\u001b[1;33m \u001b[0mprint\u001b[0m\u001b[1;33m(\u001b[0m\u001b[0mset_experiments\u001b[0m\u001b[1;33m[\u001b[0m\u001b[1;36m0\u001b[0m\u001b[1;33m]\u001b[0m\u001b[1;33m)\u001b[0m\u001b[1;33m\u001b[0m\u001b[1;33m\u001b[0m\u001b[0m\n\u001b[0m",
      "\u001b[1;31mTypeError\u001b[0m: 'set' object is not subscriptable"
     ]
    }
   ],
   "source": [
    "print(set_experiments[0])"
   ]
  },
  {
   "cell_type": "markdown",
   "id": "d12fe0ac-666d-4226-a7ad-0b7739d10ed9",
   "metadata": {},
   "source": [
    "### Sets operations\n",
    "\n",
    "Sets allow different operations, like intersection, union and difference between two collections."
   ]
  },
  {
   "cell_type": "markdown",
   "id": "d75cecb4-ae49-4c34-b41f-07d1a06a15c2",
   "metadata": {},
   "source": [
    "<img src=\"sets.png\"/>"
   ]
  },
  {
   "cell_type": "code",
   "execution_count": 9,
   "id": "c1c14f49-35eb-41e7-aa6e-599e298192e9",
   "metadata": {},
   "outputs": [
    {
     "name": "stdout",
     "output_type": "stream",
     "text": [
      "{18, 12, 6}\n",
      "{2, 3, 4, 6, 8, 9, 10, 12, 14, 15, 16, 18, 20, 21, 24, 27, 30}\n",
      "{3, 9, 15, 21, 24, 27, 30}\n",
      "True\n"
     ]
    }
   ],
   "source": [
    "multiples_three = {3, 6, 9, 12, 15, 18, 21, 24, 27, 30}\n",
    "even_numbers = {2, 4, 6, 8, 10, 12, 14, 16, 18, 20}\n",
    "\n",
    "# Intersection\n",
    "intersection = set(multiples_three & even_numbers) # or multiples_three.intersection(even_numbers)\n",
    "print(intersection)\n",
    "\n",
    "# Union\n",
    "union = set(multiples_three | even_numbers) # or multiples_three.union(even_numbers)\n",
    "print(union)\n",
    "\n",
    "# A-B: note that B-A will lead to a different result\n",
    "difference = multiples_three - even_numbers\n",
    "print(difference)\n",
    "\n",
    "# Subsets contained in a set (if all elements in 'multiples_three' are in 'union'\n",
    "subset = multiples_three.issubset(union)\n",
    "print(subset)"
   ]
  },
  {
   "cell_type": "markdown",
   "id": "a1ad2c50-3d71-4184-ad70-6e0c04e6fa47",
   "metadata": {},
   "source": [
    "Let's now try to remove elements"
   ]
  },
  {
   "cell_type": "code",
   "execution_count": 10,
   "id": "d1b7779d-1707-433f-b817-b115ddbabd76",
   "metadata": {},
   "outputs": [
    {
     "name": "stdout",
     "output_type": "stream",
     "text": [
      "{3, 9, 15, 21, 24, 27, 30}\n"
     ]
    },
    {
     "data": {
      "text/plain": [
       "{9, 15, 21, 24, 27, 30}"
      ]
     },
     "execution_count": 10,
     "metadata": {},
     "output_type": "execute_result"
    }
   ],
   "source": [
    "print(difference)\n",
    "difference.remove(3)\n",
    "difference"
   ]
  },
  {
   "cell_type": "code",
   "execution_count": 11,
   "id": "9444a640-3076-4775-9804-b8274190aacb",
   "metadata": {},
   "outputs": [
    {
     "data": {
      "text/plain": [
       "9"
      ]
     },
     "execution_count": 11,
     "metadata": {},
     "output_type": "execute_result"
    }
   ],
   "source": [
    "difference.pop()"
   ]
  }
 ],
 "metadata": {
  "kernelspec": {
   "display_name": "Python 3 (ipykernel)",
   "language": "python",
   "name": "python3"
  },
  "language_info": {
   "codemirror_mode": {
    "name": "ipython",
    "version": 3
   },
   "file_extension": ".py",
   "mimetype": "text/x-python",
   "name": "python",
   "nbconvert_exporter": "python",
   "pygments_lexer": "ipython3",
   "version": "3.9.7"
  }
 },
 "nbformat": 4,
 "nbformat_minor": 5
}
