{
 "cells": [
  {
   "cell_type": "markdown",
   "id": "8fdcfb01-e741-4248-b214-9b66050351b4",
   "metadata": {},
   "source": [
    "# Numpy arrays"
   ]
  },
  {
   "cell_type": "markdown",
   "id": "42e9ae57-e294-494c-9b03-39b7264643ce",
   "metadata": {},
   "source": [
    "Another very popular library is [NumPy](https://numpy.org/), which allows users to work with vectors and matrices and perform mathematical operations with them.\n",
    "It offers comprehensive mathematical functions, random number generations, data distributions and more.\n",
    "\n",
    "For more information on what is an array and why NumPy is so widely used, read [here](https://numpy.org/doc/stable/user/absolute_beginners.html)."
   ]
  },
  {
   "cell_type": "markdown",
   "id": "ae95f2f4-afd0-46ea-a7ed-fcfd50cc6406",
   "metadata": {},
   "source": [
    "### Create a NumPy array\n",
    "Let's now try to see how to create arrays!"
   ]
  },
  {
   "cell_type": "code",
   "execution_count": 1,
   "id": "0d473ebc-bbde-4f6e-9605-aee13a127683",
   "metadata": {},
   "outputs": [
    {
     "data": {
      "text/plain": [
       "array([ 3.14159265,  6.28318531, 12.56637061])"
      ]
     },
     "execution_count": 1,
     "metadata": {},
     "output_type": "execute_result"
    }
   ],
   "source": [
    "import numpy as np\n",
    "from math import pi\n",
    "\n",
    "# create a one-dimensional array\n",
    "array_1d = np.array([pi, pi*2, pi*4])\n",
    "array_1d"
   ]
  },
  {
   "cell_type": "markdown",
   "id": "9e12bb6e-8e74-4ed5-9957-c8c34323c2ef",
   "metadata": {},
   "source": [
    "Investigate the array"
   ]
  },
  {
   "cell_type": "code",
   "execution_count": 2,
   "id": "f229b4fb-46d8-452d-bf16-b75c288e2223",
   "metadata": {},
   "outputs": [
    {
     "data": {
      "text/plain": [
       "3"
      ]
     },
     "execution_count": 2,
     "metadata": {},
     "output_type": "execute_result"
    }
   ],
   "source": [
    "# creck the size of the array\n",
    "array_1d.size"
   ]
  },
  {
   "cell_type": "code",
   "execution_count": 3,
   "id": "17551e56-5dbf-40fe-807d-ba62f8e542f3",
   "metadata": {},
   "outputs": [
    {
     "data": {
      "text/plain": [
       "(3,)"
      ]
     },
     "execution_count": 3,
     "metadata": {},
     "output_type": "execute_result"
    }
   ],
   "source": [
    "# creck the shape of the array\n",
    "array_1d.shape"
   ]
  },
  {
   "cell_type": "code",
   "execution_count": 4,
   "id": "1e9d154f-0b86-437f-8782-79015666cdd9",
   "metadata": {},
   "outputs": [
    {
     "data": {
      "text/plain": [
       "1"
      ]
     },
     "execution_count": 4,
     "metadata": {},
     "output_type": "execute_result"
    }
   ],
   "source": [
    "# creck the dimension of the array\n",
    "array_1d.ndim"
   ]
  },
  {
   "cell_type": "code",
   "execution_count": 5,
   "id": "a22449fd-0cca-4d52-a662-5ae3f805d4e1",
   "metadata": {},
   "outputs": [
    {
     "data": {
      "text/plain": [
       "dtype('float64')"
      ]
     },
     "execution_count": 5,
     "metadata": {},
     "output_type": "execute_result"
    }
   ],
   "source": [
    "# creck the type of the array\n",
    "array_1d.dtype"
   ]
  },
  {
   "cell_type": "code",
   "execution_count": 6,
   "id": "84f5d908-6f9b-42f5-b762-d4118ce1f2e7",
   "metadata": {},
   "outputs": [
    {
     "data": {
      "text/plain": [
       "array([[ 3.14159265,  6.28318531, 12.56637061],\n",
       "       [ 5.9       ,  7.        ,  3.        ],\n",
       "       [ 4.39822972,  0.62831853, 20.10619298]])"
      ]
     },
     "execution_count": 6,
     "metadata": {},
     "output_type": "execute_result"
    }
   ],
   "source": [
    "# create a one-dimensional array\n",
    "array_2d = np.array([[pi, pi*2, pi*4], [5.9, 7.0, 3], [pi*1.4, pi*0.2, pi*6.4]])\n",
    "array_2d"
   ]
  },
  {
   "cell_type": "code",
   "execution_count": 7,
   "id": "7ea6af20-9b94-44aa-9396-36f8d8c4a3ce",
   "metadata": {},
   "outputs": [
    {
     "name": "stdout",
     "output_type": "stream",
     "text": [
      "Size of the array:  9\n",
      "Shape of the array:  (3, 3)\n",
      "Dimensionality of the array:  2\n",
      "Type of the array:  float64\n"
     ]
    }
   ],
   "source": [
    "print('Size of the array: ', array_2d.size)\n",
    "print('Shape of the array: ', array_2d.shape)\n",
    "print('Dimensionality of the array: ', array_2d.ndim)\n",
    "print('Type of the array: ', array_2d.dtype)"
   ]
  },
  {
   "cell_type": "markdown",
   "id": "cc10263c-903c-4761-a027-b29b62b37ded",
   "metadata": {},
   "source": [
    "### Create an array according to a distribution"
   ]
  },
  {
   "cell_type": "code",
   "execution_count": 8,
   "id": "78428db4-84e4-4ac0-b71c-3cbba9ec62dd",
   "metadata": {},
   "outputs": [
    {
     "data": {
      "text/plain": [
       "array([1.74908024, 2.90142861, 2.46398788, 2.19731697, 1.31203728,\n",
       "       1.31198904, 1.11616722, 2.73235229, 2.20223002, 2.41614516,\n",
       "       1.04116899, 2.9398197 , 2.66488528, 1.42467822, 1.36364993,\n",
       "       1.36680902, 1.60848449, 2.04951286, 1.86389004, 1.58245828,\n",
       "       2.22370579, 1.27898772, 1.5842893 , 1.73272369, 1.91213997,\n",
       "       2.57035192, 1.39934756, 2.02846888, 2.18482914, 1.09290083,\n",
       "       2.2150897 , 1.34104825, 1.13010319, 2.89777107, 2.93126407,\n",
       "       2.6167947 , 1.60922754, 1.19534423, 2.36846605, 1.88030499,\n",
       "       1.24407647, 1.99035382, 1.06877704, 2.8186408 , 1.51755996,\n",
       "       2.32504457, 1.62342215, 2.04013604, 2.09342056, 1.36970891,\n",
       "       2.93916926, 2.55026565, 2.87899788, 2.7896547 , 2.19579996,\n",
       "       2.84374847, 1.176985  , 1.39196572, 1.09045458, 1.65066066,\n",
       "       1.77735458, 1.54269806, 2.65747502, 1.71350665, 1.56186902,\n",
       "       2.08539217, 1.28184845, 2.60439396, 1.14910129, 2.97377387,\n",
       "       2.54448954, 1.39743136, 1.01104423, 2.63092286, 2.41371469,\n",
       "       2.45801434, 2.54254069, 1.1480893 , 1.71693146, 1.23173812,\n",
       "       2.72620685, 2.24659625, 1.66179605, 1.1271167 , 1.62196464,\n",
       "       1.65036664, 2.45921236, 2.27511494, 2.77442549, 1.94442985,\n",
       "       1.23918849, 2.42648957, 2.5215701 , 2.1225544 , 2.54193436,\n",
       "       1.98759119, 2.04546566, 1.85508204, 1.05083825, 1.21578285,\n",
       "       1.06285837, 2.27282082, 1.62871196, 2.01714138, 2.81513295,\n",
       "       1.49858446, 1.82076585, 2.51110228, 1.45759633, 1.15395982,\n",
       "       1.57950291, 1.32244257, 2.8593953 , 2.61624076, 2.26680751,\n",
       "       2.74292118, 2.60734415, 1.37314012, 2.785118  , 2.07868448,\n",
       "       2.61488031, 2.7921826 , 1.63600695, 1.22010385, 1.45587033,\n",
       "       1.85421558, 2.63602953, 2.72146117, 1.01390426, 2.02149461,\n",
       "       1.83482201, 1.44421562, 1.23973073, 1.67523034, 2.88581941,\n",
       "       1.64640586, 2.03758124, 2.40603792, 1.7272592 , 2.94356417,\n",
       "       2.92489459, 1.50356459, 1.99449701, 1.60175662, 1.56968099,\n",
       "       1.07377389, 2.21912867, 2.00535805, 1.1029575 , 1.55729293,\n",
       "       2.81653177, 1.47912378, 1.28978974, 1.97890552, 2.97130091,\n",
       "       1.48411054, 2.34427109, 2.52323923, 1.47527509, 2.4564327 ,\n",
       "       1.73556627, 2.26461166, 2.26705942, 2.07154937, 1.18057954,\n",
       "       2.67060499, 1.64156013, 1.37303702, 1.08155028, 2.18178589,\n",
       "       2.35512872, 1.03317566, 2.02418612, 1.45299155, 2.29034558,\n",
       "       1.34873286, 2.38187548, 1.77347069, 2.87345998, 1.27504189,\n",
       "       1.6821327 , 1.22694704, 2.84938724, 2.75467871, 1.51588326,\n",
       "       2.31996809, 2.6344444 , 2.11040162, 2.05930116, 1.48370458,\n",
       "       1.18620554, 2.79443152, 2.80083611, 2.26620291, 1.67805958,\n",
       "       1.69841915, 2.45191136, 2.79422052, 2.77417285, 2.55975109])"
      ]
     },
     "execution_count": 8,
     "metadata": {},
     "output_type": "execute_result"
    }
   ],
   "source": [
    "np.random.seed(42)  # fix random seed to get the same set of values every time\n",
    "uniform = np.random.uniform(1, 3, 200) # arguments are the lower boundary, upper boundary, output shape\n",
    "uniform"
   ]
  },
  {
   "cell_type": "code",
   "execution_count": 9,
   "id": "4becf82b-bf63-4ac4-838c-0e9423143eaf",
   "metadata": {},
   "outputs": [
    {
     "data": {
      "image/png": "[encoded data removed]",
      "text/plain": [
       "<Figure size 432x288 with 1 Axes>"
      ]
     },
     "metadata": {
      "needs_background": "light"
     },
     "output_type": "display_data"
    }
   ],
   "source": [
    "%matplotlib inline\n",
    "import matplotlib.pyplot as plt\n",
    "\n",
    "plt.hist(uniform, bins=50)\n",
    "plt.show()"
   ]
  },
  {
   "cell_type": "code",
   "execution_count": 10,
   "id": "de9b8c81-5c30-4986-b23b-6bb2d10f9491",
   "metadata": {},
   "outputs": [],
   "source": [
    "# create a normal distribution\n",
    "normal = np.random.normal(1, 3, 200) # arguments are the lower boundary, upper boundary, output shape"
   ]
  },
  {
   "cell_type": "code",
   "execution_count": 11,
   "id": "d77aa616-a5f4-4e9c-9a92-6a9b84664933",
   "metadata": {},
   "outputs": [
    {
     "data": {
      "image/png": "[encoded data removed]",
      "text/plain": [
       "<Figure size 432x288 with 1 Axes>"
      ]
     },
     "metadata": {
      "needs_background": "light"
     },
     "output_type": "display_data"
    }
   ],
   "source": [
    "plt.hist(normal, bins=50)\n",
    "plt.show()"
   ]
  },
  {
   "cell_type": "markdown",
   "id": "6fd060e5-d477-4651-b79a-9e9c88c85f22",
   "metadata": {},
   "source": [
    "### Operations"
   ]
  },
  {
   "cell_type": "code",
   "execution_count": 12,
   "id": "bf8fc55e-6fd6-40e8-8de6-2a5815ee32d7",
   "metadata": {},
   "outputs": [],
   "source": [
    "uniform = np.random.uniform(0, 1, 20)\n",
    "normal = np.random.normal(0, 1, 20)"
   ]
  },
  {
   "cell_type": "code",
   "execution_count": 13,
   "id": "05483f45-0529-4dcf-b2af-851fe5db39ce",
   "metadata": {},
   "outputs": [
    {
     "name": "stdout",
     "output_type": "stream",
     "text": [
      "[ 0.64831449  0.91894679  0.20887358 -0.28038468  0.03586382  0.96665893\n",
      "  1.50744688  1.07808874  2.2707087  -0.11813726  1.61836552  0.76671077\n",
      "  3.15197548 -0.43342771 -0.55400976  0.26920648 -1.90029989  0.43746752\n",
      " -0.74697819  1.12027261]\n"
     ]
    }
   ],
   "source": [
    "# sum\n",
    "print(uniform + normal)"
   ]
  },
  {
   "cell_type": "code",
   "execution_count": 14,
   "id": "f7b7597a-6395-4c4e-91d8-559711edb48b",
   "metadata": {},
   "outputs": [
    {
     "name": "stdout",
     "output_type": "stream",
     "text": [
      "[ 9.50649629e-02  1.14131777e-02  1.08613362e-02 -3.80804025e-01\n",
      "  2.78279812e-04  2.33392199e-01  8.17041386e-02  1.13978561e-01\n",
      "  2.53055453e-01 -4.98169943e-01  6.50790344e-01  1.06955999e-01\n",
      "  2.10696827e+00 -3.03007247e-01 -2.39918679e-01 -5.20631929e-01\n",
      " -4.74894245e-01 -5.06419087e-01 -9.22685872e-03  1.45863749e-01]\n"
     ]
    }
   ],
   "source": [
    "# product\n",
    "print(uniform * normal)"
   ]
  },
  {
   "cell_type": "code",
   "execution_count": 15,
   "id": "78c6b576-d4d9-467b-a92f-4b4d6b30012f",
   "metadata": {},
   "outputs": [
    {
     "name": "stdout",
     "output_type": "stream",
     "text": [
      "[ 0.20012953  0.89376198  0.01352138  1.26563489 -0.01315653 -0.02933765\n",
      " -1.39484033 -0.84045291 -2.03565621  1.41655787 -0.12627576  0.40002676\n",
      " -1.22763038  1.18316886  1.12543393  1.46799177  2.34749156  1.48897756\n",
      "  0.77128714  0.81948504]\n"
     ]
    }
   ],
   "source": [
    "# difference\n",
    "print(uniform - normal)"
   ]
  },
  {
   "cell_type": "code",
   "execution_count": 16,
   "id": "246ff948-5fab-48df-bda6-2e055f106078",
   "metadata": {},
   "outputs": [
    {
     "name": "stdout",
     "output_type": "stream",
     "text": [
      "[ 1.89306667e+00  7.19762975e+01  1.13843083e+00 -6.37281849e-01\n",
      "  4.63221707e-01  9.41088856e-01  3.87992445e-02  1.23862743e-01\n",
      "  5.45825768e-02 -8.46044652e-01  8.55241580e-01  3.18186093e+00\n",
      "  4.39387734e-01 -4.63777527e-01 -3.40246105e-01 -1.44913211e+00\n",
      " -1.05276279e-01 -1.83207483e+00 -1.60110022e-02  6.44892884e+00]\n"
     ]
    }
   ],
   "source": [
    "# ratio\n",
    "print(uniform / normal)"
   ]
  },
  {
   "cell_type": "code",
   "execution_count": 17,
   "id": "09ab2d86-4b20-455b-8a74-277511a371e5",
   "metadata": {},
   "outputs": [
    {
     "name": "stdout",
     "output_type": "stream",
     "text": [
      "0.8772544542002486\n"
     ]
    }
   ],
   "source": [
    "# inner product of vectors\n",
    "print(np.dot(uniform, normal))"
   ]
  },
  {
   "cell_type": "code",
   "execution_count": 18,
   "id": "d5374224-96e1-476d-815a-f868144f61b1",
   "metadata": {},
   "outputs": [
    {
     "data": {
      "text/plain": [
       "array([[68, 31],\n",
       "       [71, 28]])"
      ]
     },
     "execution_count": 18,
     "metadata": {},
     "output_type": "execute_result"
    }
   ],
   "source": [
    "# matrix multiplication\n",
    "matrix_1 = np.array([[3, 8], [2, 9]])\n",
    "matrix_2 = np.array([[4, 5], [7, 2]])\n",
    "np.dot(matrix_1, matrix_2)"
   ]
  },
  {
   "cell_type": "code",
   "execution_count": 19,
   "id": "5112d056-2fea-4311-a6d1-7edc8dcd79de",
   "metadata": {},
   "outputs": [
    {
     "name": "stdout",
     "output_type": "stream",
     "text": [
      "[[3 8]\n",
      " [2 9]]\n",
      "Summing over rows [ 5 17]\n",
      "Summing over columns [11 11]\n"
     ]
    }
   ],
   "source": [
    "# More on the sum\n",
    "print(matrix_1)\n",
    "print('Summing over rows', np.sum(matrix_1, axis=0))\n",
    "print('Summing over columns', np.sum(matrix_1, axis=1))"
   ]
  },
  {
   "cell_type": "code",
   "execution_count": 20,
   "id": "bf34f658-298c-4a71-b016-a729ce814aca",
   "metadata": {},
   "outputs": [
    {
     "data": {
      "text/plain": [
       "array([[1.73205081, 2.82842712],\n",
       "       [1.41421356, 3.        ]])"
      ]
     },
     "execution_count": 20,
     "metadata": {},
     "output_type": "execute_result"
    }
   ],
   "source": [
    "# square root \n",
    "np.sqrt(matrix_1)"
   ]
  },
  {
   "cell_type": "code",
   "execution_count": 21,
   "id": "5d63a000-b023-473e-b25b-49e776233932",
   "metadata": {},
   "outputs": [
    {
     "data": {
      "text/plain": [
       "array([[2.00855369e+01, 2.98095799e+03],\n",
       "       [7.38905610e+00, 8.10308393e+03]])"
      ]
     },
     "execution_count": 21,
     "metadata": {},
     "output_type": "execute_result"
    }
   ],
   "source": [
    "# exponential\n",
    "np.exp(matrix_1)"
   ]
  },
  {
   "cell_type": "code",
   "execution_count": 22,
   "id": "b2744ae8-e471-4dd6-8bbf-2abaac6ff89c",
   "metadata": {},
   "outputs": [
    {
     "data": {
      "text/plain": [
       "array([[ 9, 64],\n",
       "       [ 4, 81]])"
      ]
     },
     "execution_count": 22,
     "metadata": {},
     "output_type": "execute_result"
    }
   ],
   "source": [
    "# matrix to the power of 2\n",
    "matrix_1**2"
   ]
  },
  {
   "cell_type": "code",
   "execution_count": 23,
   "id": "2898f8d0-50ee-4dac-9d6a-4b85b36b60fd",
   "metadata": {},
   "outputs": [
    {
     "name": "stdout",
     "output_type": "stream",
     "text": [
      "[[3 8]\n",
      " [2 9]]\n"
     ]
    },
    {
     "data": {
      "text/plain": [
       "array([3, 8, 2, 9])"
      ]
     },
     "execution_count": 23,
     "metadata": {},
     "output_type": "execute_result"
    }
   ],
   "source": [
    "# flatten array\n",
    "print(matrix_1)\n",
    "matrix_1.flatten()"
   ]
  },
  {
   "cell_type": "code",
   "execution_count": 24,
   "id": "79d7cc1a-2b5a-4c4e-94e7-d59e9f589be0",
   "metadata": {},
   "outputs": [
    {
     "data": {
      "text/plain": [
       "3"
      ]
     },
     "execution_count": 24,
     "metadata": {},
     "output_type": "execute_result"
    }
   ],
   "source": [
    "# indexing a matrix\n",
    "matrix_1[0, 0]"
   ]
  },
  {
   "cell_type": "code",
   "execution_count": 25,
   "id": "31ad072d-7568-47ea-9a33-971eebb1770a",
   "metadata": {},
   "outputs": [
    {
     "data": {
      "text/plain": [
       "array([[3, 2],\n",
       "       [8, 9]])"
      ]
     },
     "execution_count": 25,
     "metadata": {},
     "output_type": "execute_result"
    }
   ],
   "source": [
    "# transposing a matrix\n",
    "matrix_1.T"
   ]
  }
 ],
 "metadata": {
  "kernelspec": {
   "display_name": "Python 3 (ipykernel)",
   "language": "python",
   "name": "python3"
  },
  "language_info": {
   "codemirror_mode": {
    "name": "ipython",
    "version": 3
   },
   "file_extension": ".py",
   "mimetype": "text/x-python",
   "name": "python",
   "nbconvert_exporter": "python",
   "pygments_lexer": "ipython3",
   "version": "3.9.7"
  }
 },
 "nbformat": 4,
 "nbformat_minor": 5
}
