{
 "cells": [
  {
   "cell_type": "markdown",
   "id": "6c255c31-474f-4919-981c-e552efdbfbf0",
   "metadata": {},
   "source": [
    "# Applying solvers to batch reactors problems"
   ]
  },
  {
   "cell_type": "markdown",
   "id": "4cc93d22-da66-4776-af49-8d2941c81a5d",
   "metadata": {},
   "source": [
    "**Exercise**: Write a function for the differential form of an ideal batch reactor mole balance, the reactor is isothermal and the reaction mixture is constant.\n",
    "\n",
    "Level: <span style=\"color:red\">Hard</span>."
   ]
  },
  {
   "cell_type": "code",
   "execution_count": 3,
   "id": "c7a50b16-a5f0-4ad6-bb7f-4c14269f39c9",
   "metadata": {},
   "outputs": [],
   "source": [
    "# Your code here"
   ]
  },
  {
   "cell_type": "markdown",
   "id": "4b6036b8-2752-4f08-9710-961554ed055c",
   "metadata": {},
   "source": [
    "**Exercise**: Verify that your function works by using the function to solve the Group Exercise E1. You can try to work in small groups if you are unsure of the answer.\n",
    "\n",
    "Level: <span style=\"color:red\">Hard</span>."
   ]
  },
  {
   "cell_type": "code",
   "execution_count": null,
   "id": "71e567be-6baa-4975-8b25-f4755ea1ab7a",
   "metadata": {},
   "outputs": [],
   "source": [
    "# Your code here"
   ]
  }
 ],
 "metadata": {
  "kernelspec": {
   "display_name": "Python 3 (ipykernel)",
   "language": "python",
   "name": "python3"
  },
  "language_info": {
   "codemirror_mode": {
    "name": "ipython",
    "version": 3
   },
   "file_extension": ".py",
   "mimetype": "text/x-python",
   "name": "python",
   "nbconvert_exporter": "python",
   "pygments_lexer": "ipython3",
   "version": "3.8.10"
  }
 },
 "nbformat": 4,
 "nbformat_minor": 5
}
