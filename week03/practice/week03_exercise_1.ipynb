{
 "cells": [
  {
   "cell_type": "markdown",
   "id": "eb7ad2bd-ac91-45a3-ae1a-1d06841efe70",
   "metadata": {},
   "source": [
    "# Operations with SciPy"
   ]
  },
  {
   "cell_type": "markdown",
   "id": "4990aa38-96f3-4fbd-a398-7d9d2ab7d596",
   "metadata": {},
   "source": [
    "**Exercise**: Compare NumPy and SciPy on different operations, such as exponential functions and similar (choose at least 3).\n",
    "\n",
    "Level: <span style=\"color:green\">Easy</span>."
   ]
  },
  {
   "cell_type": "code",
   "execution_count": null,
   "id": "56a424b1-489f-4d25-9075-34401604d43d",
   "metadata": {},
   "outputs": [],
   "source": [
    "# Your code here"
   ]
  },
  {
   "cell_type": "markdown",
   "id": "68068e1d-a091-4d80-a567-2d9b86cabbb5",
   "metadata": {},
   "source": [
    "**Exercise**: Can you find a way to print how long did it take for the two libraries to solve the same task? *Hint*: there are different libraries that you can use, try to search for \"time execution in Python\".\n",
    "\n",
    "Level: <span style=\"color:green\">Easy</span>."
   ]
  },
  {
   "cell_type": "code",
   "execution_count": null,
   "id": "0c083440-d7b2-4624-963d-9f42e56303cf",
   "metadata": {},
   "outputs": [],
   "source": [
    "# Your code here"
   ]
  },
  {
   "cell_type": "markdown",
   "id": "ef06d89b-f363-4cc9-8928-3d64e247f45e",
   "metadata": {},
   "source": [
    "**Exercise**: Let's have some fun solving equations! Write an equation and give it to one of your peers to solve.\n",
    "\n",
    "Level: <span style=\"color:green\">Easy</span>."
   ]
  },
  {
   "cell_type": "code",
   "execution_count": null,
   "id": "4e6b5b3f-ac13-463d-a36c-297228548042",
   "metadata": {},
   "outputs": [],
   "source": [
    "# Your code here"
   ]
  },
  {
   "cell_type": "markdown",
   "id": "9815e69f-abe6-4637-aebe-df38680add86",
   "metadata": {},
   "source": [
    "**Exercise**: Now solve the same equation yourself.\n",
    "\n",
    "Level: <span style=\"color:green\">Easy</span>."
   ]
  },
  {
   "cell_type": "code",
   "execution_count": null,
   "id": "ab95a603-17f7-4ad7-b0a8-b46db416f6b1",
   "metadata": {},
   "outputs": [],
   "source": [
    "# Your code here"
   ]
  },
  {
   "cell_type": "markdown",
   "id": "f610d609-ba62-4507-a62f-16dc97c8e04b",
   "metadata": {},
   "source": [
    "**Exercise**: How did it go? Were they able to solve it? Did you notice any difference between the code? Reflect on it.\n",
    "\n",
    "Level: <span style=\"color:green\">Easy</span>."
   ]
  },
  {
   "cell_type": "code",
   "execution_count": null,
   "id": "626e5b39-c8e1-4010-b7ed-f00b1d306eb3",
   "metadata": {},
   "outputs": [],
   "source": [
    "# Your code here"
   ]
  }
 ],
 "metadata": {
  "kernelspec": {
   "display_name": "Python 3 (ipykernel)",
   "language": "python",
   "name": "python3"
  },
  "language_info": {
   "codemirror_mode": {
    "name": "ipython",
    "version": 3
   },
   "file_extension": ".py",
   "mimetype": "text/x-python",
   "name": "python",
   "nbconvert_exporter": "python",
   "pygments_lexer": "ipython3",
   "version": "3.8.10"
  }
 },
 "nbformat": 4,
 "nbformat_minor": 5
}
