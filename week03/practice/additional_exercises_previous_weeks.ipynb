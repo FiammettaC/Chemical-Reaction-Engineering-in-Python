{
 "cells": [
  {
   "cell_type": "markdown",
   "id": "a484f318-2fa1-4057-8989-3e75607b338d",
   "metadata": {},
   "source": [
    "## Here are some additional exercises to proactice for loops and if statements."
   ]
  },
  {
   "cell_type": "markdown",
   "id": "af1d6265-c0d0-4c69-b903-fea9d0d1e6e7",
   "metadata": {},
   "source": [
    "### For loops"
   ]
  },
  {
   "cell_type": "markdown",
   "id": "9abc3a7f-f67f-4a6b-afb9-a58f7e81ca73",
   "metadata": {},
   "source": [
    "**Exercise**: Create a for loop that loops through every number in the range [0, 20) and multiplies that by pi. Plot the values using `matplotlib`.\n",
    "\n",
    "Level: <span style=\"color:green\">Easy</span>."
   ]
  },
  {
   "cell_type": "code",
   "execution_count": null,
   "id": "0e460abd-3f12-4ac2-a439-813862943c39",
   "metadata": {},
   "outputs": [],
   "source": [
    "# your code here"
   ]
  },
  {
   "cell_type": "markdown",
   "id": "6faf4da6-1f2b-4e9c-80ce-b5be767f52e1",
   "metadata": {},
   "source": [
    "**Exercise**: Create a dictionary through a list comprehension, where the keys are the indices of the elements in list_temperatures, the values the actual elements in the list. \n",
    "Plot the values using `matplotlib`.\n",
    "\n",
    "Level: <span style=\"color:green\">Easy</span>."
   ]
  },
  {
   "cell_type": "code",
   "execution_count": null,
   "id": "2be6dd3b-c6dc-4b92-af31-ebe432fc139a",
   "metadata": {},
   "outputs": [],
   "source": [
    "list_temperatures = [20, 25, 30, 35, 40]\n",
    "\n",
    "# your code here"
   ]
  },
  {
   "cell_type": "markdown",
   "id": "32e178f9-039e-4f57-9eeb-00578be5d277",
   "metadata": {},
   "source": [
    "**Exercise**: Below you are given a list of lists. Loop through the list and print each element (hint, each element is a list), then loop through each of these elements (lists) and print each element.\n",
    "\n",
    "Level: <span style=\"color:green\">Easy</span>."
   ]
  },
  {
   "cell_type": "code",
   "execution_count": null,
   "id": "b0783be8-d209-41fc-9884-3db98898a06b",
   "metadata": {},
   "outputs": [],
   "source": [
    "subjects = [[\"chemical reaction engineering\", \"process control\"], \n",
    "            [\"uncertainty\", \"good manufacturing practice\"]]\n",
    "\n",
    "# your code here"
   ]
  },
  {
   "cell_type": "markdown",
   "id": "64fd167d-9c8f-42be-96ef-07ef3e595363",
   "metadata": {},
   "source": [
    "### If statements"
   ]
  },
  {
   "cell_type": "markdown",
   "id": "c5682b73-6889-4cc3-96bb-2e230088797c",
   "metadata": {},
   "source": [
    "**Exercise**: Create an if clause with the following conditions:\n",
    "- If variable **a** is equal to 0, variable **b** is equal to 1;\n",
    "- If variable **a** is between 1 and 10, variable **b** is equal to 50;\n",
    "- If variable **a** is bigger than 10, variable **b** is equal to 100;\n",
    "- Otherwise, variable b is equal to 0.\n",
    "\n",
    "Level: <span style=\"color:green\">Easy</span>."
   ]
  },
  {
   "cell_type": "code",
   "execution_count": null,
   "id": "ebc0b771-db17-4e26-8f09-fd274ef96ea2",
   "metadata": {},
   "outputs": [],
   "source": [
    "# your code here"
   ]
  },
  {
   "cell_type": "markdown",
   "id": "374cf422-839e-4f63-8e6e-8459eb7c0547",
   "metadata": {},
   "source": [
    "**Exercise**: Create a nested if statement, where you have at least three condition for each level.\n",
    "\n",
    "Level: <span style=\"color:orange\">Medium</span>."
   ]
  },
  {
   "cell_type": "code",
   "execution_count": null,
   "id": "382ed31e-c823-4a14-bccf-5f459f211def",
   "metadata": {},
   "outputs": [],
   "source": [
    "# your code here"
   ]
  }
 ],
 "metadata": {
  "kernelspec": {
   "display_name": "Python 3 (ipykernel)",
   "language": "python",
   "name": "python3"
  },
  "language_info": {
   "codemirror_mode": {
    "name": "ipython",
    "version": 3
   },
   "file_extension": ".py",
   "mimetype": "text/x-python",
   "name": "python",
   "nbconvert_exporter": "python",
   "pygments_lexer": "ipython3",
   "version": "3.8.10"
  }
 },
 "nbformat": 4,
 "nbformat_minor": 5
}
