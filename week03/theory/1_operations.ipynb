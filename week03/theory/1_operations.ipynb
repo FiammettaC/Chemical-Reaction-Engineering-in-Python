{
 "cells": [
  {
   "cell_type": "markdown",
   "id": "db8b05b9-736b-485c-ba2d-aee765423a0e",
   "metadata": {},
   "source": [
    "# SciPy\n",
    "\n",
    "SciPy is the most used Scientific library in Python. It is well documented and easy to use, and it is fast.\n",
    "\n",
    "It is useful for different operations, for example:\n",
    "- Integration\n",
    "- Optimization\n",
    "- Special functions\n",
    "- Interpolation\n",
    "- Linear Algebra\n",
    "- Signal Processing\n",
    "- Statistics\n",
    "- Spatial data structures and algorithms.\n",
    "\n",
    "See all the possibilities [here](https://docs.scipy.org/doc/scipy/tutorial/index.html#user-guide)."
   ]
  },
  {
   "cell_type": "markdown",
   "id": "3c3a4b10-9408-4d3c-be79-c9384d55c357",
   "metadata": {},
   "source": [
    "In this lesson, we will look at some examples where you use Python to solve different mathematical operations, such as integrations, equations and linear algebra. \n",
    "\n",
    "We will mostly use the [SciPy library](https://docs.scipy.org/doc/scipy/index.html), so please take some time to get familiar with it."
   ]
  },
  {
   "cell_type": "markdown",
   "id": "714a53dd-21ab-4f45-9509-f3ec897d0185",
   "metadata": {},
   "source": [
    "## Statistics\n",
    "\n",
    "The `scipy.stats` [module](https://docs.scipy.org/doc/scipy/reference/stats.html) contains a large number of probability distributions, frequency statistics, correlation functions and statistical tests, and more.\n",
    "\n",
    "We will not go through examples of this module at this time, but it's a good idea to get familiar with the list of functions available."
   ]
  },
  {
   "cell_type": "markdown",
   "id": "79e6a4cc-958b-4553-a083-e4f69bdf0924",
   "metadata": {},
   "source": [
    "## Constants\n",
    "\n",
    "Instead of looking for a constant and manually assigning it to a value, you can use SciPy to find most of them!\n",
    "\n",
    "The module you will use is `scipy.constants`, check it out [here](https://docs.scipy.org/doc/scipy/reference/constants.html)."
   ]
  },
  {
   "cell_type": "code",
   "execution_count": 3,
   "id": "47437749-1956-4eaa-8d90-45012c046c2a",
   "metadata": {
    "scrolled": true,
    "tags": []
   },
   "outputs": [
    {
     "data": {
      "text/plain": [
       "['Angstrom star',\n",
       " 'Avogadro constant',\n",
       " 'Bohr magneton',\n",
       " 'Bohr magneton in Hz/T',\n",
       " 'Bohr magneton in K/T',\n",
       " 'Bohr magneton in eV/T',\n",
       " 'Bohr magneton in inverse meter per tesla',\n",
       " 'Bohr radius',\n",
       " 'Boltzmann constant',\n",
       " 'Boltzmann constant in Hz/K',\n",
       " 'Boltzmann constant in eV/K',\n",
       " 'Boltzmann constant in inverse meter per kelvin',\n",
       " 'Compton wavelength',\n",
       " 'Cu x unit',\n",
       " 'Faraday constant',\n",
       " 'Fermi coupling constant',\n",
       " 'Hartree energy',\n",
       " 'Hartree energy in eV',\n",
       " 'Josephson constant',\n",
       " 'Loschmidt constant (273.15 K, 100 kPa)',\n",
       " 'Loschmidt constant (273.15 K, 101.325 kPa)',\n",
       " 'Mo x unit',\n",
       " 'Newtonian constant of gravitation',\n",
       " 'Newtonian constant of gravitation over h-bar c',\n",
       " 'Planck constant',\n",
       " 'Planck constant in eV/Hz',\n",
       " 'Planck length',\n",
       " 'Planck mass',\n",
       " 'Planck mass energy equivalent in GeV',\n",
       " 'Planck temperature',\n",
       " 'Planck time',\n",
       " 'Rydberg constant',\n",
       " 'Rydberg constant times c in Hz',\n",
       " 'Rydberg constant times hc in J',\n",
       " 'Rydberg constant times hc in eV',\n",
       " 'Sackur-Tetrode constant (1 K, 100 kPa)',\n",
       " 'Sackur-Tetrode constant (1 K, 101.325 kPa)',\n",
       " 'Stefan-Boltzmann constant',\n",
       " 'Thomson cross section',\n",
       " 'W to Z mass ratio',\n",
       " 'Wien frequency displacement law constant',\n",
       " 'Wien wavelength displacement law constant',\n",
       " 'alpha particle mass',\n",
       " 'alpha particle mass energy equivalent',\n",
       " 'alpha particle mass energy equivalent in MeV',\n",
       " 'alpha particle mass in u',\n",
       " 'alpha particle molar mass',\n",
       " 'alpha particle relative atomic mass',\n",
       " 'alpha particle-electron mass ratio',\n",
       " 'alpha particle-proton mass ratio',\n",
       " 'atomic mass constant',\n",
       " 'atomic mass constant energy equivalent',\n",
       " 'atomic mass constant energy equivalent in MeV',\n",
       " 'atomic mass unit-electron volt relationship',\n",
       " 'atomic mass unit-hartree relationship',\n",
       " 'atomic mass unit-hertz relationship',\n",
       " 'atomic mass unit-inverse meter relationship',\n",
       " 'atomic mass unit-joule relationship',\n",
       " 'atomic mass unit-kelvin relationship',\n",
       " 'atomic mass unit-kilogram relationship',\n",
       " 'atomic unit of 1st hyperpolarizability',\n",
       " 'atomic unit of 2nd hyperpolarizability',\n",
       " 'atomic unit of action',\n",
       " 'atomic unit of charge',\n",
       " 'atomic unit of charge density',\n",
       " 'atomic unit of current',\n",
       " 'atomic unit of electric dipole mom.',\n",
       " 'atomic unit of electric field',\n",
       " 'atomic unit of electric field gradient',\n",
       " 'atomic unit of electric polarizability',\n",
       " 'atomic unit of electric potential',\n",
       " 'atomic unit of electric quadrupole mom.',\n",
       " 'atomic unit of energy',\n",
       " 'atomic unit of force',\n",
       " 'atomic unit of length',\n",
       " 'atomic unit of mag. dipole mom.',\n",
       " 'atomic unit of mag. flux density',\n",
       " 'atomic unit of magnetizability',\n",
       " 'atomic unit of mass',\n",
       " 'atomic unit of momentum',\n",
       " 'atomic unit of permittivity',\n",
       " 'atomic unit of time',\n",
       " 'atomic unit of velocity',\n",
       " 'classical electron radius',\n",
       " 'conductance quantum',\n",
       " 'conventional value of Josephson constant',\n",
       " 'conventional value of ampere-90',\n",
       " 'conventional value of coulomb-90',\n",
       " 'conventional value of farad-90',\n",
       " 'conventional value of henry-90',\n",
       " 'conventional value of ohm-90',\n",
       " 'conventional value of volt-90',\n",
       " 'conventional value of von Klitzing constant',\n",
       " 'conventional value of watt-90',\n",
       " 'deuteron g factor',\n",
       " 'deuteron mag. mom.',\n",
       " 'deuteron mag. mom. to Bohr magneton ratio',\n",
       " 'deuteron mag. mom. to nuclear magneton ratio',\n",
       " 'deuteron mass',\n",
       " 'deuteron mass energy equivalent',\n",
       " 'deuteron mass energy equivalent in MeV',\n",
       " 'deuteron mass in u',\n",
       " 'deuteron molar mass',\n",
       " 'deuteron relative atomic mass',\n",
       " 'deuteron rms charge radius',\n",
       " 'deuteron-electron mag. mom. ratio',\n",
       " 'deuteron-electron mass ratio',\n",
       " 'deuteron-neutron mag. mom. ratio',\n",
       " 'deuteron-proton mag. mom. ratio',\n",
       " 'deuteron-proton mass ratio',\n",
       " 'electron charge to mass quotient',\n",
       " 'electron g factor',\n",
       " 'electron gyromag. ratio',\n",
       " 'electron gyromag. ratio in MHz/T',\n",
       " 'electron mag. mom.',\n",
       " 'electron mag. mom. anomaly',\n",
       " 'electron mag. mom. to Bohr magneton ratio',\n",
       " 'electron mag. mom. to nuclear magneton ratio',\n",
       " 'electron mass',\n",
       " 'electron mass energy equivalent',\n",
       " 'electron mass energy equivalent in MeV',\n",
       " 'electron mass in u',\n",
       " 'electron molar mass',\n",
       " 'electron relative atomic mass',\n",
       " 'electron to alpha particle mass ratio',\n",
       " 'electron to shielded helion mag. mom. ratio',\n",
       " 'electron to shielded proton mag. mom. ratio',\n",
       " 'electron volt',\n",
       " 'electron volt-atomic mass unit relationship',\n",
       " 'electron volt-hartree relationship',\n",
       " 'electron volt-hertz relationship',\n",
       " 'electron volt-inverse meter relationship',\n",
       " 'electron volt-joule relationship',\n",
       " 'electron volt-kelvin relationship',\n",
       " 'electron volt-kilogram relationship',\n",
       " 'electron-deuteron mag. mom. ratio',\n",
       " 'electron-deuteron mass ratio',\n",
       " 'electron-helion mass ratio',\n",
       " 'electron-muon mag. mom. ratio',\n",
       " 'electron-muon mass ratio',\n",
       " 'electron-neutron mag. mom. ratio',\n",
       " 'electron-neutron mass ratio',\n",
       " 'electron-proton mag. mom. ratio',\n",
       " 'electron-proton mass ratio',\n",
       " 'electron-tau mass ratio',\n",
       " 'electron-triton mass ratio',\n",
       " 'elementary charge',\n",
       " 'elementary charge over h-bar',\n",
       " 'fine-structure constant',\n",
       " 'first radiation constant',\n",
       " 'first radiation constant for spectral radiance',\n",
       " 'hartree-atomic mass unit relationship',\n",
       " 'hartree-electron volt relationship',\n",
       " 'hartree-hertz relationship',\n",
       " 'hartree-inverse meter relationship',\n",
       " 'hartree-joule relationship',\n",
       " 'hartree-kelvin relationship',\n",
       " 'hartree-kilogram relationship',\n",
       " 'helion g factor',\n",
       " 'helion mag. mom.',\n",
       " 'helion mag. mom. to Bohr magneton ratio',\n",
       " 'helion mag. mom. to nuclear magneton ratio',\n",
       " 'helion mass',\n",
       " 'helion mass energy equivalent',\n",
       " 'helion mass energy equivalent in MeV',\n",
       " 'helion mass in u',\n",
       " 'helion molar mass',\n",
       " 'helion relative atomic mass',\n",
       " 'helion shielding shift',\n",
       " 'helion-electron mass ratio',\n",
       " 'helion-proton mass ratio',\n",
       " 'hertz-atomic mass unit relationship',\n",
       " 'hertz-electron volt relationship',\n",
       " 'hertz-hartree relationship',\n",
       " 'hertz-inverse meter relationship',\n",
       " 'hertz-joule relationship',\n",
       " 'hertz-kelvin relationship',\n",
       " 'hertz-kilogram relationship',\n",
       " 'hyperfine transition frequency of Cs-133',\n",
       " 'inverse fine-structure constant',\n",
       " 'inverse meter-atomic mass unit relationship',\n",
       " 'inverse meter-electron volt relationship',\n",
       " 'inverse meter-hartree relationship',\n",
       " 'inverse meter-hertz relationship',\n",
       " 'inverse meter-joule relationship',\n",
       " 'inverse meter-kelvin relationship',\n",
       " 'inverse meter-kilogram relationship',\n",
       " 'inverse of conductance quantum',\n",
       " 'joule-atomic mass unit relationship',\n",
       " 'joule-electron volt relationship',\n",
       " 'joule-hartree relationship',\n",
       " 'joule-hertz relationship',\n",
       " 'joule-inverse meter relationship',\n",
       " 'joule-kelvin relationship',\n",
       " 'joule-kilogram relationship',\n",
       " 'kelvin-atomic mass unit relationship',\n",
       " 'kelvin-electron volt relationship',\n",
       " 'kelvin-hartree relationship',\n",
       " 'kelvin-hertz relationship',\n",
       " 'kelvin-inverse meter relationship',\n",
       " 'kelvin-joule relationship',\n",
       " 'kelvin-kilogram relationship',\n",
       " 'kilogram-atomic mass unit relationship',\n",
       " 'kilogram-electron volt relationship',\n",
       " 'kilogram-hartree relationship',\n",
       " 'kilogram-hertz relationship',\n",
       " 'kilogram-inverse meter relationship',\n",
       " 'kilogram-joule relationship',\n",
       " 'kilogram-kelvin relationship',\n",
       " 'lattice parameter of silicon',\n",
       " 'lattice spacing of ideal Si (220)',\n",
       " 'luminous efficacy',\n",
       " 'mag. flux quantum',\n",
       " 'molar Planck constant',\n",
       " 'molar gas constant',\n",
       " 'molar mass constant',\n",
       " 'molar mass of carbon-12',\n",
       " 'molar volume of ideal gas (273.15 K, 100 kPa)',\n",
       " 'molar volume of ideal gas (273.15 K, 101.325 kPa)',\n",
       " 'molar volume of silicon',\n",
       " 'muon Compton wavelength',\n",
       " 'muon g factor',\n",
       " 'muon mag. mom.',\n",
       " 'muon mag. mom. anomaly',\n",
       " 'muon mag. mom. to Bohr magneton ratio',\n",
       " 'muon mag. mom. to nuclear magneton ratio',\n",
       " 'muon mass',\n",
       " 'muon mass energy equivalent',\n",
       " 'muon mass energy equivalent in MeV',\n",
       " 'muon mass in u',\n",
       " 'muon molar mass',\n",
       " 'muon-electron mass ratio',\n",
       " 'muon-neutron mass ratio',\n",
       " 'muon-proton mag. mom. ratio',\n",
       " 'muon-proton mass ratio',\n",
       " 'muon-tau mass ratio',\n",
       " 'natural unit of action',\n",
       " 'natural unit of action in eV s',\n",
       " 'natural unit of energy',\n",
       " 'natural unit of energy in MeV',\n",
       " 'natural unit of length',\n",
       " 'natural unit of mass',\n",
       " 'natural unit of momentum',\n",
       " 'natural unit of momentum in MeV/c',\n",
       " 'natural unit of time',\n",
       " 'natural unit of velocity',\n",
       " 'neutron Compton wavelength',\n",
       " 'neutron g factor',\n",
       " 'neutron gyromag. ratio',\n",
       " 'neutron gyromag. ratio in MHz/T',\n",
       " 'neutron mag. mom.',\n",
       " 'neutron mag. mom. to Bohr magneton ratio',\n",
       " 'neutron mag. mom. to nuclear magneton ratio',\n",
       " 'neutron mass',\n",
       " 'neutron mass energy equivalent',\n",
       " 'neutron mass energy equivalent in MeV',\n",
       " 'neutron mass in u',\n",
       " 'neutron molar mass',\n",
       " 'neutron relative atomic mass',\n",
       " 'neutron to shielded proton mag. mom. ratio',\n",
       " 'neutron-electron mag. mom. ratio',\n",
       " 'neutron-electron mass ratio',\n",
       " 'neutron-muon mass ratio',\n",
       " 'neutron-proton mag. mom. ratio',\n",
       " 'neutron-proton mass difference',\n",
       " 'neutron-proton mass difference energy equivalent',\n",
       " 'neutron-proton mass difference energy equivalent in MeV',\n",
       " 'neutron-proton mass difference in u',\n",
       " 'neutron-proton mass ratio',\n",
       " 'neutron-tau mass ratio',\n",
       " 'nuclear magneton',\n",
       " 'nuclear magneton in K/T',\n",
       " 'nuclear magneton in MHz/T',\n",
       " 'nuclear magneton in eV/T',\n",
       " 'nuclear magneton in inverse meter per tesla',\n",
       " 'proton Compton wavelength',\n",
       " 'proton charge to mass quotient',\n",
       " 'proton g factor',\n",
       " 'proton gyromag. ratio',\n",
       " 'proton gyromag. ratio in MHz/T',\n",
       " 'proton mag. mom.',\n",
       " 'proton mag. mom. to Bohr magneton ratio',\n",
       " 'proton mag. mom. to nuclear magneton ratio',\n",
       " 'proton mag. shielding correction',\n",
       " 'proton mass',\n",
       " 'proton mass energy equivalent',\n",
       " 'proton mass energy equivalent in MeV',\n",
       " 'proton mass in u',\n",
       " 'proton molar mass',\n",
       " 'proton relative atomic mass',\n",
       " 'proton rms charge radius',\n",
       " 'proton-electron mass ratio',\n",
       " 'proton-muon mass ratio',\n",
       " 'proton-neutron mag. mom. ratio',\n",
       " 'proton-neutron mass ratio',\n",
       " 'proton-tau mass ratio',\n",
       " 'quantum of circulation',\n",
       " 'quantum of circulation times 2',\n",
       " 'reduced Compton wavelength',\n",
       " 'reduced Planck constant',\n",
       " 'reduced Planck constant in eV s',\n",
       " 'reduced Planck constant times c in MeV fm',\n",
       " 'reduced muon Compton wavelength',\n",
       " 'reduced neutron Compton wavelength',\n",
       " 'reduced proton Compton wavelength',\n",
       " 'reduced tau Compton wavelength',\n",
       " 'second radiation constant',\n",
       " 'shielded helion gyromag. ratio',\n",
       " 'shielded helion gyromag. ratio in MHz/T',\n",
       " 'shielded helion mag. mom.',\n",
       " 'shielded helion mag. mom. to Bohr magneton ratio',\n",
       " 'shielded helion mag. mom. to nuclear magneton ratio',\n",
       " 'shielded helion to proton mag. mom. ratio',\n",
       " 'shielded helion to shielded proton mag. mom. ratio',\n",
       " 'shielded proton gyromag. ratio',\n",
       " 'shielded proton gyromag. ratio in MHz/T',\n",
       " 'shielded proton mag. mom.',\n",
       " 'shielded proton mag. mom. to Bohr magneton ratio',\n",
       " 'shielded proton mag. mom. to nuclear magneton ratio',\n",
       " 'shielding difference of d and p in HD',\n",
       " 'shielding difference of t and p in HT',\n",
       " 'speed of light in vacuum',\n",
       " 'standard acceleration of gravity',\n",
       " 'standard atmosphere',\n",
       " 'standard-state pressure',\n",
       " 'tau Compton wavelength',\n",
       " 'tau energy equivalent',\n",
       " 'tau mass',\n",
       " 'tau mass energy equivalent',\n",
       " 'tau mass in u',\n",
       " 'tau molar mass',\n",
       " 'tau-electron mass ratio',\n",
       " 'tau-muon mass ratio',\n",
       " 'tau-neutron mass ratio',\n",
       " 'tau-proton mass ratio',\n",
       " 'triton g factor',\n",
       " 'triton mag. mom.',\n",
       " 'triton mag. mom. to Bohr magneton ratio',\n",
       " 'triton mag. mom. to nuclear magneton ratio',\n",
       " 'triton mass',\n",
       " 'triton mass energy equivalent',\n",
       " 'triton mass energy equivalent in MeV',\n",
       " 'triton mass in u',\n",
       " 'triton molar mass',\n",
       " 'triton relative atomic mass',\n",
       " 'triton to proton mag. mom. ratio',\n",
       " 'triton-electron mass ratio',\n",
       " 'triton-proton mass ratio',\n",
       " 'unified atomic mass unit',\n",
       " 'vacuum electric permittivity',\n",
       " 'vacuum mag. permeability',\n",
       " 'von Klitzing constant',\n",
       " 'weak mixing angle']"
      ]
     },
     "execution_count": 3,
     "metadata": {},
     "output_type": "execute_result"
    }
   ],
   "source": [
    "# uncomment the following line\n",
    "# to print the list of available constants\n",
    "import scipy.constants\n",
    "scipy.constants.find()"
   ]
  },
  {
   "cell_type": "markdown",
   "id": "b2a96a83-d167-4b4d-95e6-cbf3fe9c8b86",
   "metadata": {},
   "source": [
    "Save the constant that you need for later use"
   ]
  },
  {
   "cell_type": "code",
   "execution_count": 4,
   "id": "0f4a2baa-16d9-4967-95ec-01fcf96a0eb4",
   "metadata": {},
   "outputs": [
    {
     "data": {
      "text/plain": [
       "(6.6446573357e-27, 'kg', 2e-36)"
      ]
     },
     "execution_count": 4,
     "metadata": {},
     "output_type": "execute_result"
    }
   ],
   "source": [
    "import scipy.constants\n",
    "res = scipy.constants.physical_constants[\"alpha particle mass\"]\n",
    "res"
   ]
  },
  {
   "cell_type": "markdown",
   "id": "c10b2446-e0bd-4779-b51a-e5cab766d7bb",
   "metadata": {},
   "source": [
    "## Integration\n",
    "\n",
    "SciPy can be used to solve integrals, which will be very useful to you in the future when solving chemical reactions engineering exercises, so remember these functions!\n",
    "\n",
    "Here, we will use the `quad` function, but you can check out the full guide on integration [here](https://docs.scipy.org/doc/scipy/tutorial/integrate.html)."
   ]
  },
  {
   "cell_type": "code",
   "execution_count": 5,
   "id": "173db3bb-2ea9-4149-8356-0e367c74b6d9",
   "metadata": {},
   "outputs": [
    {
     "data": {
      "text/plain": [
       "\u001b[1;31mType:\u001b[0m        module\n",
       "\u001b[1;31mString form:\u001b[0m <module 'scipy.integrate' from 'C:\\\\Users\\\\fiacac\\\\Anaconda3\\\\lib\\\\site-packages\\\\scipy\\\\integrate\\\\__init__.py'>\n",
       "\u001b[1;31mFile:\u001b[0m        c:\\users\\fiacac\\anaconda3\\lib\\site-packages\\scipy\\integrate\\__init__.py\n",
       "\u001b[1;31mDocstring:\u001b[0m  \n",
       "=============================================\n",
       "Integration and ODEs (:mod:`scipy.integrate`)\n",
       "=============================================\n",
       "\n",
       ".. currentmodule:: scipy.integrate\n",
       "\n",
       "Integrating functions, given function object\n",
       "============================================\n",
       "\n",
       ".. autosummary::\n",
       "   :toctree: generated/\n",
       "\n",
       "   quad          -- General purpose integration\n",
       "   quad_vec      -- General purpose integration of vector-valued functions\n",
       "   dblquad       -- General purpose double integration\n",
       "   tplquad       -- General purpose triple integration\n",
       "   nquad         -- General purpose N-D integration\n",
       "   fixed_quad    -- Integrate func(x) using Gaussian quadrature of order n\n",
       "   quadrature    -- Integrate with given tolerance using Gaussian quadrature\n",
       "   romberg       -- Integrate func using Romberg integration\n",
       "   quad_explain  -- Print information for use of quad\n",
       "   newton_cotes  -- Weights and error coefficient for Newton-Cotes integration\n",
       "   IntegrationWarning -- Warning on issues during integration\n",
       "   AccuracyWarning  -- Warning on issues during quadrature integration\n",
       "\n",
       "Integrating functions, given fixed samples\n",
       "==========================================\n",
       "\n",
       ".. autosummary::\n",
       "   :toctree: generated/\n",
       "\n",
       "   trapezoid            -- Use trapezoidal rule to compute integral.\n",
       "   cumulative_trapezoid -- Use trapezoidal rule to cumulatively compute integral.\n",
       "   simpson              -- Use Simpson's rule to compute integral from samples.\n",
       "   romb                 -- Use Romberg Integration to compute integral from\n",
       "                        -- (2**k + 1) evenly-spaced samples.\n",
       "\n",
       ".. seealso::\n",
       "\n",
       "   :mod:`scipy.special` for orthogonal polynomials (special) for Gaussian\n",
       "   quadrature roots and weights for other weighting factors and regions.\n",
       "\n",
       "Solving initial value problems for ODE systems\n",
       "==============================================\n",
       "\n",
       "The solvers are implemented as individual classes, which can be used directly\n",
       "(low-level usage) or through a convenience function.\n",
       "\n",
       ".. autosummary::\n",
       "   :toctree: generated/\n",
       "\n",
       "   solve_ivp     -- Convenient function for ODE integration.\n",
       "   RK23          -- Explicit Runge-Kutta solver of order 3(2).\n",
       "   RK45          -- Explicit Runge-Kutta solver of order 5(4).\n",
       "   DOP853        -- Explicit Runge-Kutta solver of order 8.\n",
       "   Radau         -- Implicit Runge-Kutta solver of order 5.\n",
       "   BDF           -- Implicit multi-step variable order (1 to 5) solver.\n",
       "   LSODA         -- LSODA solver from ODEPACK Fortran package.\n",
       "   OdeSolver     -- Base class for ODE solvers.\n",
       "   DenseOutput   -- Local interpolant for computing a dense output.\n",
       "   OdeSolution   -- Class which represents a continuous ODE solution.\n",
       "\n",
       "\n",
       "Old API\n",
       "-------\n",
       "\n",
       "These are the routines developed earlier for SciPy. They wrap older solvers\n",
       "implemented in Fortran (mostly ODEPACK). While the interface to them is not\n",
       "particularly convenient and certain features are missing compared to the new\n",
       "API, the solvers themselves are of good quality and work fast as compiled\n",
       "Fortran code. In some cases, it might be worth using this old API.\n",
       "\n",
       ".. autosummary::\n",
       "   :toctree: generated/\n",
       "\n",
       "   odeint        -- General integration of ordinary differential equations.\n",
       "   ode           -- Integrate ODE using VODE and ZVODE routines.\n",
       "   complex_ode   -- Convert a complex-valued ODE to real-valued and integrate.\n",
       "\n",
       "\n",
       "Solving boundary value problems for ODE systems\n",
       "===============================================\n",
       "\n",
       ".. autosummary::\n",
       "   :toctree: generated/\n",
       "\n",
       "   solve_bvp     -- Solve a boundary value problem for a system of ODEs.\n"
      ]
     },
     "metadata": {},
     "output_type": "display_data"
    }
   ],
   "source": [
    "import scipy.integrate\n",
    "\n",
    "# you can use the ? to get info\n",
    "scipy.integrate?"
   ]
  },
  {
   "cell_type": "markdown",
   "id": "2f7246fe-4d38-4b41-bdd3-b07f48cbf2f1",
   "metadata": {},
   "source": [
    "Let's define an example function that we will integrate"
   ]
  },
  {
   "cell_type": "code",
   "execution_count": 6,
   "id": "f2907e58-548c-4819-ac15-dddeabe3560d",
   "metadata": {},
   "outputs": [
    {
     "name": "stdout",
     "output_type": "stream",
     "text": [
      "The numerical result is 12.8 (+-2.973287032134387e-13)\n"
     ]
    }
   ],
   "source": [
    "from math import cos, exp, pi, sin\n",
    "from scipy.integrate import quad\n",
    "\n",
    "# define a function to integrate\n",
    "def f(x):\n",
    "    return (2 * x * pi) + 3.2\n",
    "\n",
    "# call quad to integrate f from -2 to 2\n",
    "res, err = quad(f, -2, 2)\n",
    "\n",
    "print(f\"The numerical result is {res} (+-{err})\")"
   ]
  },
  {
   "cell_type": "code",
   "execution_count": 15,
   "id": "3157d8e5-8d0a-40b0-b7ac-00b9664faa62",
   "metadata": {},
   "outputs": [
    {
     "name": "stdout",
     "output_type": "stream",
     "text": [
      "0.0\n"
     ]
    }
   ],
   "source": [
    "print(sin(0))"
   ]
  },
  {
   "cell_type": "markdown",
   "id": "7d72982d-195e-4734-bd46-0747c5a45fc1",
   "metadata": {},
   "source": [
    "As you can see, `quad` returns two values, the first number is the value of the integral and the second is the estimate of the absolute error in the value of the integral."
   ]
  },
  {
   "cell_type": "markdown",
   "id": "a914505f-a512-43bb-b2f2-63ccc78791a7",
   "metadata": {},
   "source": [
    "**Exercise**: Change the function above to return the sin of the function.\n",
    "\n",
    "Level: <span style=\"color:green\">Easy</span>."
   ]
  },
  {
   "cell_type": "code",
   "execution_count": 11,
   "id": "50e1b854-7c65-4aa3-9fe6-58b0286f151c",
   "metadata": {},
   "outputs": [
    {
     "name": "stdout",
     "output_type": "stream",
     "text": [
      "The numerical result is -4.85722573273506e-17 (+-4.1710065124949596e-11)\n"
     ]
    }
   ],
   "source": [
    "# Your code here\n",
    "# define a function to integrate\n",
    "def f(x):\n",
    "    return sin((2 * x * pi) + 3.2)\n",
    "\n",
    "# call quad to integrate f from -2 to 2\n",
    "res, err = quad(f, -2, 2)\n",
    "\n",
    "print(f\"The numerical result is {res} (+-{err})\")"
   ]
  },
  {
   "cell_type": "markdown",
   "id": "0ffe5d79-00ef-486c-9c9c-b2d647f84f9c",
   "metadata": {},
   "source": [
    "**Exercise**: Change the lower and upper limits of the integral. Try out a few different values (at least 5).\n",
    "\n",
    "Level: <span style=\"color:green\">Easy</span>."
   ]
  },
  {
   "cell_type": "code",
   "execution_count": 4,
   "id": "9d076762-07dd-41c7-8535-2ddaad58e3cf",
   "metadata": {},
   "outputs": [],
   "source": [
    "# Your code here"
   ]
  },
  {
   "cell_type": "markdown",
   "id": "df5293b4-c3c0-4fde-a7dd-8ccf81fbbd02",
   "metadata": {},
   "source": [
    "**Exercise**: Store the numerical values you calculated before into a data structure that you prefer. Plot the values using `matplotlib`.\n",
    "\n",
    "Level: <span style=\"color:orange\">Medium</span>."
   ]
  },
  {
   "cell_type": "code",
   "execution_count": 5,
   "id": "d98b0c50-4e60-46dd-8c77-a7372e973792",
   "metadata": {},
   "outputs": [],
   "source": [
    "# Your code here"
   ]
  },
  {
   "cell_type": "markdown",
   "id": "1b886bc9-f012-4436-bf5a-8edb0ae9ab2f",
   "metadata": {},
   "source": [
    "You can also pass the function f using a [lambda function](https://www.w3schools.com/python/python_lambda.asp)."
   ]
  },
  {
   "cell_type": "code",
   "execution_count": 23,
   "id": "d7511535-95ca-4aa8-97ea-def2b633c0b9",
   "metadata": {},
   "outputs": [
    {
     "data": {
      "text/plain": [
       "(0.7468241328124271, 8.291413475940725e-15)"
      ]
     },
     "execution_count": 23,
     "metadata": {},
     "output_type": "execute_result"
    }
   ],
   "source": [
    "f = lambda x: exp(-x**2)\n",
    "integral = scipy.integrate.quad(f, 0, 1)\n",
    "integral"
   ]
  },
  {
   "cell_type": "markdown",
   "id": "7fdcc6c2-1c04-499d-ac7b-bd79432864ab",
   "metadata": {},
   "source": [
    "## Equations"
   ]
  },
  {
   "cell_type": "markdown",
   "id": "3fb0fd14-b6fc-4e75-bd3b-a65d0812e375",
   "metadata": {},
   "source": [
    "Another package, [SymPy](https://docs.sympy.org/latest/modules/solvers/solvers.html) can be used also to solve equations, let's see how that works in a practical example.\n",
    "\n",
    "In this example, we will calculate the experimental gas (air) hold-up and the theoretical gas hold-up for the conditions applicable in a bubble column experiment.\n",
    "\n",
    "The gas hold-up is calculated from the equation given below.\n",
    "\\begin{equation}\n",
    "  \\frac{ɛ}{(1-ɛ)^4}= 0.2 \\cdot Bo^{1/8}\\cdot Ga^{1/12}\\cdot Fr\n",
    "\\end{equation}\n",
    "In which $Bo = gD^2\\rho/\\sigma$, $Ga = gD^3\\rho^2/\\eta^2$, and $Fr = v_G / \\sqrt{gD}$."
   ]
  },
  {
   "cell_type": "code",
   "execution_count": 8,
   "id": "f26cde71-01c9-4bac-99ad-c1985c4b9fef",
   "metadata": {},
   "outputs": [
    {
     "name": "stdout",
     "output_type": "stream",
     "text": [
      "vG (m/s) 0.01816505468086826\n",
      "Bo: 47750.72\n",
      "Ga 2028829241903.0505\n",
      "Fr 0.007537743458458121\n",
      "[0.0500639495865090, 3.80475369920643, 0.0725911756035318 - 2.29010873849084*I, 0.0725911756035318 + 2.29010873849084*I]\n",
      "Simple correlation 0.036275795675059605\n",
      "\n",
      "vG (m/s) 0.03633010936173652\n",
      "Bo: 47750.72\n",
      "Ga 2028829241903.0505\n",
      "Fr 0.015075486916916242\n",
      "[0.0858654025112094, 3.27105438742610, 0.321540105031345 - 1.85929364963352*I, 0.321540105031345 + 1.85929364963352*I]\n",
      "Simple correlation 0.058930203933592655\n",
      "\n"
     ]
    }
   ],
   "source": [
    "import numpy as np\n",
    "from sympy import symbols, solve\n",
    "\n",
    "g = 9.81 # m/s^2 - gravitational constant\n",
    "rho = 1000 # kg/m^3 - liquid density\n",
    "sigma = 0.072 # kg/s^2 - liquid surface tension\n",
    "eta = 0.00100160 # kg/s*m - dynamic viscosity of water at 20 degC\n",
    "D = 0.592 # m - Internal diameter of column tube\n",
    "S = np.pi * (D/2)**2 # m^2 - Cross-sectional area of column\n",
    "Q = np.array([300, 600]) * 0.001 * 1/60 # m^3/s - volume flowrate\n",
    "\n",
    "def superficialVelocity(Q, S):\n",
    "    return Q/S\n",
    "\n",
    "for air_flow in Q:\n",
    "    vG = superficialVelocity(air_flow, S) # m/s\n",
    "    print(\"vG (m/s)\", vG)\n",
    "\n",
    "    Bo = g*D**2*rho/sigma\n",
    "    print(\"Bo:\",Bo)\n",
    "\n",
    "    Ga = g*D**3*rho**2/eta**2\n",
    "    print(\"Ga\", Ga)\n",
    "\n",
    "    Fr = vG/np.sqrt(g*D)\n",
    "    print(\"Fr\", Fr)\n",
    "\n",
    "    epsilon = symbols('epsilon')\n",
    "    expr = 0.2*Bo**(1/8)*Ga**(1/12)*Fr-epsilon/((1-epsilon)**4)\n",
    "\n",
    "    sol = solve(expr) # this is how to use the sympy solve package\n",
    "    print(sol)\n",
    "    print('Simple correlation', 0.6*vG**0.7 )\n",
    "    print()"
   ]
  },
  {
   "cell_type": "markdown",
   "id": "39186478-3ea4-4ac9-9ea9-d42287e4fbca",
   "metadata": {},
   "source": [
    "## Solving Systems of Differential Equations\n",
    "\n",
    "We will use [scipy.integrate.solve_ivp](https://docs.scipy.org/doc/scipy/reference/generated/scipy.integrate.solve_ivp.html).\n",
    "\n",
    "Please take some time to read the documentation and get familiar with it.\n",
    "\n",
    "Note that SciPy has also another package for solving ODEs: [scipy.integrate.odeint](https://docs.scipy.org/doc/scipy/reference/generated/scipy.integrate.odeint.html).\n",
    "\n",
    "You can read more on the comparison of the two packages in this blog post [here](https://danielmuellerkomorowska.com/2021/02/16/differential-equations-with-scipy-odeint-or-solve_ivp/). In this course, it is recommended to use scipy. integrate.solve_ivp."
   ]
  },
  {
   "cell_type": "code",
   "execution_count": 17,
   "id": "66a57ee7-ef04-4017-af7d-ada14a1736b0",
   "metadata": {},
   "outputs": [
    {
     "name": "stdout",
     "output_type": "stream",
     "text": [
      "[ 0.          0.11487653  1.26364188  3.06061781  4.81611105  6.57445806\n",
      "  8.33328988 10.        ]\n",
      "\n",
      "[[2.         1.88836035 1.06327177 0.43319312 0.18017253 0.07483045\n",
      "  0.03107158 0.01350781]\n",
      " [4.         3.7767207  2.12654355 0.86638624 0.36034507 0.14966091\n",
      "  0.06214316 0.02701561]\n",
      " [8.         7.5534414  4.25308709 1.73277247 0.72069014 0.29932181\n",
      "  0.12428631 0.05403123]]\n"
     ]
    }
   ],
   "source": [
    "from scipy.integrate import solve_ivp, odeint\n",
    "def exponential_decay(t, y): \n",
    "    return -0.5 * y\n",
    "\n",
    "sol = solve_ivp(exponential_decay, [0, 10], [2, 4, 8])\n",
    "print(sol.t)\n",
    "print()\n",
    "print(sol.y)"
   ]
  },
  {
   "cell_type": "code",
   "execution_count": 25,
   "id": "62fa9353-40c6-41ea-9989-b70c30a2508c",
   "metadata": {},
   "outputs": [
    {
     "data": {
      "image/png": "[encoded data removed]",
      "text/plain": [
       "<Figure size 432x288 with 1 Axes>"
      ]
     },
     "metadata": {
      "needs_background": "light"
     },
     "output_type": "display_data"
    }
   ],
   "source": [
    "import numpy as np\n",
    "import matplotlib.pyplot as plt\n",
    "\n",
    "def lotkavolterra(t, z, a, b, c, d):\n",
    "    x, y = z\n",
    "    return [a*x - b*x*y, -c*y + d*x*y]\n",
    "\n",
    "sol = solve_ivp(lotkavolterra, [0, 15], [10, 5], \n",
    "                args=(1.5, 1, 3, 1),                                  # parameter values a=1.5, b=1, c=3 and d=1 are passed with the args argument\n",
    "                dense_output=True)                                           # dense_output=True computes a continuous solution\n",
    "\n",
    "#generating t and solving the system of ODEs\n",
    "t = np.linspace(0, 15, 300)\n",
    "z1 = sol.sol(t)\n",
    "# plotting the solution\n",
    "plt.plot(t, z1.T)\n",
    "plt.xlabel('t')\n",
    "plt.legend(['x', 'y'], shadow=True)\n",
    "plt.title('Lotka-Volterra System')\n",
    "plt.show()"
   ]
  },
  {
   "cell_type": "code",
   "execution_count": 1,
   "id": "14288a34-e899-464b-8579-7276916bd2df",
   "metadata": {},
   "outputs": [
    {
     "data": {
      "text/plain": [
       "467293847.68"
      ]
     },
     "execution_count": 1,
     "metadata": {},
     "output_type": "execute_result"
    }
   ],
   "source": [
    "round(467293847.67899, 2)"
   ]
  },
  {
   "cell_type": "markdown",
   "id": "f7a2b35c-be14-4825-b07f-3b781fd50ba9",
   "metadata": {},
   "source": [
    "**Exercise**: Write your own function and use the `solve_ivp` package. Plot the values using `matplotlib`.\n",
    "\n",
    "Level: <span style=\"color:orange\">Medium</span>."
   ]
  },
  {
   "cell_type": "code",
   "execution_count": null,
   "id": "d9854bf9-1f16-4816-9939-37a63f9144f8",
   "metadata": {},
   "outputs": [],
   "source": [
    "# Your code here"
   ]
  },
  {
   "cell_type": "markdown",
   "id": "2bfa9a87-17ff-412c-9776-8e239f7fbc00",
   "metadata": {},
   "source": [
    "## Linear Algebra\n",
    "\n",
    "For more details, check the documentation page [here](https://docs.scipy.org/doc/scipy/tutorial/linalg.html).\n",
    "We will follow the example of the [least-squares solution to equation Ax = b](https://docs.scipy.org/doc/scipy/reference/generated/scipy.linalg.lstsq.html#scipy.linalg.lstsq).\n",
    "\n",
    "To get more information of [Least squares](https://en.wikipedia.org/wiki/Least_squares)."
   ]
  },
  {
   "cell_type": "code",
   "execution_count": 27,
   "id": "210ce2fe-b4bb-433c-a816-6bf8d9afb48c",
   "metadata": {},
   "outputs": [],
   "source": [
    "from scipy.linalg import lstsq\n",
    "import matplotlib.pyplot as plt\n",
    "\n",
    "x = np.array([1, 2.5, 3.5, 4, 5, 7, 8.5])\n",
    "y = np.array([0.3, 1.1, 1.5, 2.0, 3.2, 6.6, 8.6])"
   ]
  },
  {
   "cell_type": "code",
   "execution_count": 32,
   "id": "6b326771-63a9-417a-94b4-fd292e5b96ee",
   "metadata": {},
   "outputs": [
    {
     "data": {
      "text/plain": [
       "array([[ 1.  ,  1.  ],\n",
       "       [ 1.  ,  6.25],\n",
       "       [ 1.  , 12.25],\n",
       "       [ 1.  , 16.  ],\n",
       "       [ 1.  , 25.  ],\n",
       "       [ 1.  , 49.  ],\n",
       "       [ 1.  , 72.25]])"
      ]
     },
     "execution_count": 32,
     "metadata": {},
     "output_type": "execute_result"
    }
   ],
   "source": [
    "# We want to fit a quadratic polynomial of the form y = a + b*x**2 to this data.\n",
    "# We first form the “design matrix” M, with a constant column of 1s and a column containing x**2\n",
    "M = x[:, np.newaxis]**[0, 2]\n",
    "M"
   ]
  },
  {
   "cell_type": "markdown",
   "id": "20beab3b-6412-4467-8894-76d632823772",
   "metadata": {},
   "source": [
    "**Exercise**: What does `np.newaxis` do?\n",
    "\n",
    "Level: <span style=\"color:green\">Easy</span>."
   ]
  },
  {
   "cell_type": "code",
   "execution_count": null,
   "id": "e41198f9-19df-4ff1-92a5-44823fdd5d46",
   "metadata": {},
   "outputs": [],
   "source": [
    "# Explanation"
   ]
  },
  {
   "cell_type": "markdown",
   "id": "c32dad38-694d-486b-8ac9-1bb5c980f0bd",
   "metadata": {},
   "source": [
    "We want to find the least-squares solution to M.dot(p) = y, where p is a vector with length 2 that holds the parameters a and b."
   ]
  },
  {
   "cell_type": "code",
   "execution_count": 41,
   "id": "fd6d5cbc-4984-4145-8c62-019322a20031",
   "metadata": {},
   "outputs": [
    {
     "name": "stdout",
     "output_type": "stream",
     "text": [
      "Least-squares solution [0.20925829 0.12013861]\n",
      "Residues 0.4082665237440342\n",
      "Effective rank of M 2\n",
      "Singular values of M [93.25228799  1.7883749 ]\n"
     ]
    }
   ],
   "source": [
    "p, res, rnk, s = lstsq(M, y)\n",
    "print('Least-squares solution', p)\n",
    "print('Residues', res)\n",
    "print('Effective rank of M', rnk)\n",
    "print('Singular values of M', s)"
   ]
  },
  {
   "cell_type": "code",
   "execution_count": 31,
   "id": "b887c4e7-f9af-47eb-a358-e7741e4dab60",
   "metadata": {},
   "outputs": [
    {
     "data": {
      "image/png": "[encoded data removed]",
      "text/plain": [
       "<Figure size 432x288 with 1 Axes>"
      ]
     },
     "metadata": {
      "needs_background": "light"
     },
     "output_type": "display_data"
    }
   ],
   "source": [
    "plt.plot(x, y, 'o', label='data')\n",
    "xx = np.linspace(0, 9, 101)\n",
    "yy = p[0] + p[1]*xx**2\n",
    "plt.plot(xx, yy, label='least squares fit, $y = a + bx^2$')\n",
    "plt.xlabel('x')\n",
    "plt.ylabel('y')\n",
    "plt.legend(framealpha=1, shadow=True)\n",
    "plt.grid(alpha=0.25)\n",
    "plt.show()"
   ]
  }
 ],
 "metadata": {
  "kernelspec": {
   "display_name": "Python 3 (ipykernel)",
   "language": "python",
   "name": "python3"
  },
  "language_info": {
   "codemirror_mode": {
    "name": "ipython",
    "version": 3
   },
   "file_extension": ".py",
   "mimetype": "text/x-python",
   "name": "python",
   "nbconvert_exporter": "python",
   "pygments_lexer": "ipython3",
   "version": "3.9.7"
  }
 },
 "nbformat": 4,
 "nbformat_minor": 5
}
