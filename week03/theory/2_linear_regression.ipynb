{
 "cells": [
  {
   "cell_type": "markdown",
   "id": "de4c7922-8621-40b8-8acf-ec4e51c6e377",
   "metadata": {},
   "source": [
    "In this notebook, we will explore some more operations, such as calculating the logarithm in numpy and doing a linear regression.\n",
    "\n",
    "You have the following isothermic reaction:\n",
    "$A+\\frac{1}{6}B→\\frac{1}{4}C+\\frac{1}{2}D$\n",
    "\n",
    "During a laboratory experiment you measure in a batch reactor with constant volume and the initial concentration of $C_A$ is 25 $mol \\cdot m^{-3}$."
   ]
  },
  {
   "cell_type": "code",
   "execution_count": 1,
   "id": "13048039-3f7d-49ad-bbde-06353d36dfb0",
   "metadata": {},
   "outputs": [],
   "source": [
    "import pandas as pd\n",
    "import numpy as np\n",
    "import scipy\n",
    "from scipy import stats\n",
    "import matplotlib.pyplot as plt\n",
    "\n",
    "# define a distribution of CC\n",
    "cc = np.linspace(0, 4, 11)\n",
    "time = [0, 2, 4, 6, 8, 10, 12, 14, 16, 18, 20]\n",
    "\n",
    "# create a pandas dataframe with the data we simulated \n",
    "df = pd.DataFrame()\n",
    "df['Time'] = time\n",
    "df['Cc'] = cc"
   ]
  },
  {
   "cell_type": "code",
   "execution_count": 2,
   "id": "c9883c57-fe68-4693-8250-dfbc0a86f8a8",
   "metadata": {},
   "outputs": [],
   "source": [
    "# create a function to calculate CA given CC and CA0\n",
    "def calculate_CA(C_A0, Cc):\n",
    "    C_A = C_A0-(4*Cc)\n",
    "    return C_A\n",
    "\n",
    "# Looking at the stochiometry, we know that CA can be calculated from CC and CA0\n",
    "df['Ca'] = calculate_CA(25, df['Cc'])"
   ]
  },
  {
   "cell_type": "markdown",
   "id": "24a6a7bd-e3a8-472d-bb4e-a7d07e4002a6",
   "metadata": {},
   "source": [
    "### Finding the logarithm of a value in Python\n",
    "\n",
    "Here we will use the numpy library to calculate the logarithm of the values defined."
   ]
  },
  {
   "cell_type": "code",
   "execution_count": 3,
   "id": "0ce6a9cf-25ca-4670-b920-b99660123d06",
   "metadata": {},
   "outputs": [],
   "source": [
    "# find the log of CA\n",
    "df['ln(Ca)'] = round(np.log(df['Ca']), 2)"
   ]
  },
  {
   "cell_type": "markdown",
   "id": "3d886559-d7cd-4521-a6d9-f86446051a98",
   "metadata": {},
   "source": [
    "### Simple linear regression in Python with SciPy library\n",
    "\n",
    "Here we calculate a linear least-squares regression for two sets of measurements.\n",
    "Check the documentation [here](https://docs.scipy.org/doc/scipy/reference/generated/scipy.stats.linregress.html).\n",
    "\n",
    "The unction returns:\n",
    "- Slope of the regression line\n",
    "- Intercept of the regression line\n",
    "- The Pearson correlation coefficient. The square of rvalue is equal to the coefficient of determination\n",
    "- The p-value for a hypothesis test whose null hypothesis is that the slope is zero, using Wald Test with t-distribution of the test statistic. See alternative above for alternative hypotheses\n",
    "- Standard error of the estimated slope (gradient), under the assumption of residual normality\n",
    "- Standard error of the estimated intercept, under the assumption of residual normality"
   ]
  },
  {
   "cell_type": "code",
   "execution_count": 4,
   "id": "ceb896e9-f581-4b1c-8507-a1ffb05d2cab",
   "metadata": {},
   "outputs": [
    {
     "data": {
      "text/html": [
       "<div>\n",
       "<style scoped>\n",
       "    .dataframe tbody tr th:only-of-type {\n",
       "        vertical-align: middle;\n",
       "    }\n",
       "\n",
       "    .dataframe tbody tr th {\n",
       "        vertical-align: top;\n",
       "    }\n",
       "\n",
       "    .dataframe thead th {\n",
       "        text-align: right;\n",
       "    }\n",
       "</style>\n",
       "<table border=\"1\" class=\"dataframe\">\n",
       "  <thead>\n",
       "    <tr style=\"text-align: right;\">\n",
       "      <th></th>\n",
       "      <th>Time</th>\n",
       "      <th>Cc</th>\n",
       "      <th>Ca</th>\n",
       "      <th>ln(Ca)</th>\n",
       "    </tr>\n",
       "  </thead>\n",
       "  <tbody>\n",
       "    <tr>\n",
       "      <th>0</th>\n",
       "      <td>0</td>\n",
       "      <td>0.0</td>\n",
       "      <td>25.0</td>\n",
       "      <td>3.22</td>\n",
       "    </tr>\n",
       "    <tr>\n",
       "      <th>1</th>\n",
       "      <td>2</td>\n",
       "      <td>0.4</td>\n",
       "      <td>23.4</td>\n",
       "      <td>3.15</td>\n",
       "    </tr>\n",
       "    <tr>\n",
       "      <th>2</th>\n",
       "      <td>4</td>\n",
       "      <td>0.8</td>\n",
       "      <td>21.8</td>\n",
       "      <td>3.08</td>\n",
       "    </tr>\n",
       "    <tr>\n",
       "      <th>3</th>\n",
       "      <td>6</td>\n",
       "      <td>1.2</td>\n",
       "      <td>20.2</td>\n",
       "      <td>3.01</td>\n",
       "    </tr>\n",
       "    <tr>\n",
       "      <th>4</th>\n",
       "      <td>8</td>\n",
       "      <td>1.6</td>\n",
       "      <td>18.6</td>\n",
       "      <td>2.92</td>\n",
       "    </tr>\n",
       "    <tr>\n",
       "      <th>5</th>\n",
       "      <td>10</td>\n",
       "      <td>2.0</td>\n",
       "      <td>17.0</td>\n",
       "      <td>2.83</td>\n",
       "    </tr>\n",
       "    <tr>\n",
       "      <th>6</th>\n",
       "      <td>12</td>\n",
       "      <td>2.4</td>\n",
       "      <td>15.4</td>\n",
       "      <td>2.73</td>\n",
       "    </tr>\n",
       "    <tr>\n",
       "      <th>7</th>\n",
       "      <td>14</td>\n",
       "      <td>2.8</td>\n",
       "      <td>13.8</td>\n",
       "      <td>2.62</td>\n",
       "    </tr>\n",
       "    <tr>\n",
       "      <th>8</th>\n",
       "      <td>16</td>\n",
       "      <td>3.2</td>\n",
       "      <td>12.2</td>\n",
       "      <td>2.50</td>\n",
       "    </tr>\n",
       "    <tr>\n",
       "      <th>9</th>\n",
       "      <td>18</td>\n",
       "      <td>3.6</td>\n",
       "      <td>10.6</td>\n",
       "      <td>2.36</td>\n",
       "    </tr>\n",
       "    <tr>\n",
       "      <th>10</th>\n",
       "      <td>20</td>\n",
       "      <td>4.0</td>\n",
       "      <td>9.0</td>\n",
       "      <td>2.20</td>\n",
       "    </tr>\n",
       "  </tbody>\n",
       "</table>\n",
       "</div>"
      ],
      "text/plain": [
       "    Time   Cc    Ca  ln(Ca)\n",
       "0      0  0.0  25.0    3.22\n",
       "1      2  0.4  23.4    3.15\n",
       "2      4  0.8  21.8    3.08\n",
       "3      6  1.2  20.2    3.01\n",
       "4      8  1.6  18.6    2.92\n",
       "5     10  2.0  17.0    2.83\n",
       "6     12  2.4  15.4    2.73\n",
       "7     14  2.8  13.8    2.62\n",
       "8     16  3.2  12.2    2.50\n",
       "9     18  3.6  10.6    2.36\n",
       "10    20  4.0   9.0    2.20"
      ]
     },
     "execution_count": 4,
     "metadata": {},
     "output_type": "execute_result"
    }
   ],
   "source": [
    "df"
   ]
  },
  {
   "cell_type": "code",
   "execution_count": 5,
   "id": "fce433ff-7735-4752-bce7-8f4746d90c0a",
   "metadata": {},
   "outputs": [
    {
     "name": "stderr",
     "output_type": "stream",
     "text": [
      "No artists with labels found to put in legend.  Note that artists whose label start with an underscore are ignored when legend() is called with no argument.\n",
      "C:\\Users\\fiacac\\AppData\\Local\\Temp/ipykernel_15964/2368782444.py:17: UserWarning: Matplotlib is currently using module://matplotlib_inline.backend_inline, which is a non-GUI backend, so cannot show the figure.\n",
      "  fig.show()\n"
     ]
    },
    {
     "data": {
      "image/png": "[encoded data removed]",
      "text/plain": [
       "<Figure size 432x288 with 1 Axes>"
      ]
     },
     "metadata": {
      "needs_background": "light"
     },
     "output_type": "display_data"
    }
   ],
   "source": [
    "df['1/Ca'] = round(1/df['Ca'], 2)\n",
    "\n",
    "# linear least-squares regression\n",
    "m, b, r_value, p_value, std_err = scipy.stats.linregress(df['Time'].iloc[1:], df['1/Ca'].iloc[1:])\n",
    "\n",
    "#plotting the results and annotating the plot\n",
    "fig, ax = plt.subplots()\n",
    "ax.scatter(df['Time'].iloc[1:], df['1/Ca'].iloc[1:])\n",
    "ax.plot(df['Time'].iloc[1:], m*df['Time'].iloc[1:] + b)\n",
    "ax.annotate('r^2: ' + str(\"{:.2f}\".format(r_value**2)), xy=(2.5, 0.105))\n",
    "ax.annotate('formula: ' + str(\"{:.2f}\".format(m)) + 'x + ' + str(\"{:.2f}\".format(b)), xy=(2.5, 0.10))\n",
    "plt.title('Linear least-squares regression for two sets of measurements.')\n",
    "plt.xlabel('Time [h]')\n",
    "plt.ylabel('1/Ca')\n",
    "plt.legend()\n",
    "plt.grid()\n",
    "fig.show()"
   ]
  }
 ],
 "metadata": {
  "kernelspec": {
   "display_name": "Python 3 (ipykernel)",
   "language": "python",
   "name": "python3"
  },
  "language_info": {
   "codemirror_mode": {
    "name": "ipython",
    "version": 3
   },
   "file_extension": ".py",
   "mimetype": "text/x-python",
   "name": "python",
   "nbconvert_exporter": "python",
   "pygments_lexer": "ipython3",
   "version": "3.9.7"
  }
 },
 "nbformat": 4,
 "nbformat_minor": 5
}
