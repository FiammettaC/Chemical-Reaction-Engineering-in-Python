{
 "cells": [
  {
   "cell_type": "markdown",
   "id": "b43f0281-e5f9-4739-bb51-08b348b5f985",
   "metadata": {},
   "source": [
    "# Stoichiometry - Part 1"
   ]
  },
  {
   "cell_type": "markdown",
   "id": "1ec52986-b936-41f9-89a8-1c9b06da306a",
   "metadata": {},
   "source": [
    "As seen in the first lecture, stoichiometry is one of the pillars of Chemical Reaction Engineering.\n",
    "\n",
    "In Python, we will divide the topics into two parts:\n",
    "- **Part 1** will cover simple mole-mole calculations, mass-mass reactions and finally provide a solution for balancing coefficients\n",
    "- **Part 2** will focus on the application of the stoichiometric table to Batch Reactors and Flow Systems."
   ]
  },
  {
   "cell_type": "markdown",
   "id": "73eaec1d-a78d-4a12-ac9e-a3949e1ee70e",
   "metadata": {},
   "source": [
    "### Mole-mole calculations in Python"
   ]
  },
  {
   "cell_type": "markdown",
   "id": "b46da7b2-a394-4050-a409-e63752539bf5",
   "metadata": {},
   "source": [
    "Given a balanced reaction, we want to write a function to where calculate how many moles of a molecule B are needed to react with a given amount of moles A.\n",
    "\n",
    "Given the following reaction:\n",
    "\n",
    "$3H_2 + N_2 → 2NH_3$\n",
    "\n",
    "In Python, we can do the following:"
   ]
  },
  {
   "cell_type": "code",
   "execution_count": 12,
   "id": "4505f1ac-7163-4d93-af00-fd30cfa1c724",
   "metadata": {},
   "outputs": [
    {
     "name": "stdout",
     "output_type": "stream",
     "text": [
      "2.5 mols of N2 are needed to react with 7.5 mols of H2, since they have a 1:3 ratio\n"
     ]
    }
   ],
   "source": [
    "#we multiply the moles of A by the ratio of what needs to be found and what is given\n",
    "# so moles A*coefficient B/coefficient A = moles B\n",
    "def mole_mole_calculation(moles_A, coeff_A, coeff_B):\n",
    "    \"\"\"\n",
    "    This function calculates how many moles of a compound B are needed to the given moles of A.\n",
    "    To achieve this, we multiply the given moles of A by the ratio \n",
    "    of what needs to be found (coeff B) and what is given (coeff A).\n",
    "    So moles B needed = moles A* coefficient B/coefficient A.\n",
    "    Input: \n",
    "        moles A, coeff_A, coeff_B\n",
    "    Output: \n",
    "        moles B\n",
    "    \"\"\"\n",
    "    return moles_A*(coeff_B/coeff_A)\n",
    "\n",
    "A_moles = 7.5 # mol\n",
    "coeff_A = 3\n",
    "coeff_B = 1\n",
    "B_moles = mole_mole_calculation(A_moles, coeff_A, coeff_B)\n",
    "print(f'{B_moles} mols of N2 are needed to react with 7.5 mols of H2, since they have a 1:3 ratio')"
   ]
  },
  {
   "cell_type": "markdown",
   "id": "b1e141e7-29a3-4b62-bfc8-4f5a075b4192",
   "metadata": {},
   "source": [
    "**Exercise**: How many moles of H2 are needed to produce 0.8 moles NH3?\n",
    "\n",
    "Level: <span style=\"color:green\">Easy</span>."
   ]
  },
  {
   "cell_type": "code",
   "execution_count": 62,
   "id": "c2174435-3a4b-4a28-a164-9f4e7e0bef7f",
   "metadata": {},
   "outputs": [],
   "source": [
    "# Your code here"
   ]
  },
  {
   "cell_type": "markdown",
   "id": "f9d81f44-b949-4b86-a7c3-e02eeae18c78",
   "metadata": {},
   "source": [
    "**Exercise**: Given the methane reaction: $ CH_4 + 2O_2 → CO_2 + 2H_2O $, use the given function to calculate how many moles of O_2 are needed to produce 0.6 moles H_2O.\n",
    "\n",
    "Level: <span style=\"color:green\">Easy</span>."
   ]
  },
  {
   "cell_type": "code",
   "execution_count": 63,
   "id": "60841b41-6ca8-4dea-9caf-5a36ee7adfd1",
   "metadata": {},
   "outputs": [],
   "source": [
    "# Your code here"
   ]
  },
  {
   "cell_type": "markdown",
   "id": "0f206987-3a72-4761-a76c-8456fe97028f",
   "metadata": {},
   "source": [
    "### Mass-mass reactions in Python\n",
    "\n",
    "How many grams of NH_3 is produced if you react 42 g of N_2?"
   ]
  },
  {
   "cell_type": "code",
   "execution_count": 20,
   "id": "f9b53373-cf3f-4526-b228-12ca7ab58946",
   "metadata": {},
   "outputs": [
    {
     "name": "stdout",
     "output_type": "stream",
     "text": [
      "51.0 grams of NH3 produced from reacting 42 g of N2\n"
     ]
    }
   ],
   "source": [
    "def mass_mass_calculation(mass_A, molar_mass_A, molar_mass_B, coeff_A, coeff_B):\n",
    "    \"\"\"\n",
    "    This function calculates how many moles of a compound B are needed to the given moles of A.\n",
    "    To achieve this, we multiply the given mass of A by 1/molar mass of A,\n",
    "    then multiply the calculated moles of A by the ratio of what needs to be found (coeff B) and what is given (coeff A).\n",
    "    inally, the mass of B is given by the product of the calculated moles of B by molar mass of B.\n",
    "    Input: \n",
    "        mass_A, molar_mass_A, molar_mass_B, coeff_A, coeff_B\n",
    "    Output: \n",
    "        mass B\n",
    "    \"\"\"\n",
    "    # convert mass of N2 to moles of N2 using the molar mass of N2\n",
    "    moles_A = mass_A*(1/molar_mass_A) # 1 mol N2/ g N2\n",
    "    \n",
    "    # mole-mole calculation\n",
    "    moles_B = moles_A*(coeff_B/coeff_A)\n",
    "    \n",
    "    # convert moles of ammonia to mass of ammonia using the molar mass of ammonia\n",
    "    mass_B = moles_B*(molar_mass_B) # g NH3/ 1 mol NH3\n",
    "    return mass_B\n",
    "\n",
    "mass_A = 42 # g N2\n",
    "molar_mass_A = 28 # g N2 in 1 mol of N2\n",
    "molar_mass_B = 17 # g NH3 in 1 mol of NH3\n",
    "coeff_A = 1\n",
    "coeff_B = 2\n",
    "mass_B = mass_mass_calculation(mass_A, molar_mass_A, molar_mass_B, coeff_A, coeff_B)\n",
    "print(f'{mass_B} grams of NH3 produced from reacting 42 g of N2')"
   ]
  },
  {
   "cell_type": "markdown",
   "id": "5f77517b-2a25-4e8e-9e8c-533d125bde73",
   "metadata": {},
   "source": [
    "### How to balance coefficients in Python"
   ]
  },
  {
   "cell_type": "markdown",
   "id": "935e892e-521b-43ba-b7cd-b4417cd5df06",
   "metadata": {},
   "source": [
    "Take some time to investigate and understand the code below.\n",
    "Try to take the code apart and verify what each function is doing.\n",
    "Once you understand the code, try to see if you can simplify it.\n",
    "\n",
    "Suggested readings:\n",
    "- https://www.cliffsnotes.com/study-guides/algebra/linear-algebra/real-euclidean-vector-spaces/the-nullspace-of-a-matrix\n",
    "- https://en.wikipedia.org/wiki/Kernel_(linear_algebra)"
   ]
  },
  {
   "cell_type": "code",
   "execution_count": 57,
   "id": "d6041c7d-c729-4d25-b1fb-52970921c12a",
   "metadata": {},
   "outputs": [],
   "source": [
    "# code adapted from https://medium.com/swlh/balancing-chemical-equations-with-python-837518c9075b\n",
    "\n",
    "import re\n",
    "from sympy import Matrix, lcm\n",
    "\n",
    "element_list = []\n",
    "element_matrix = []\n",
    "reaction = 'H2 + N2 -> NH3'\n",
    "reactants = reaction.split(\"->\")[0].replace(' ', '').split(\"+\")\n",
    "products = reaction.split(\"->\")[1].replace(' ', '').split(\"+\")\n",
    "\n",
    "def add_matrix(element, index, count, side):\n",
    "    if(index == len(element_matrix)):\n",
    "        element_matrix.append([])\n",
    "        for x in element_list:\n",
    "            element_matrix[index].append(0)\n",
    "    if(element not in element_list):\n",
    "        element_list.append(element)\n",
    "        for i in range(len(element_matrix)):\n",
    "            element_matrix[i].append(0)\n",
    "    column = element_list.index(element)\n",
    "    element_matrix[index][column] += count*side\n",
    "    \n",
    "def find_elements(segment, index, side):\n",
    "    elements_numbers=re.split('([A-Z][a-z]?)',segment)\n",
    "    i=0\n",
    "    while(i < len(elements_numbers)-1):#last element always blank\n",
    "        i += 1\n",
    "        if(len(elements_numbers[i]) > 0):\n",
    "            if(elements_numbers[i+1].isdigit()):\n",
    "                count = int(elements_numbers[i+1])\n",
    "                add_matrix(elements_numbers[i], index, count, side)\n",
    "                i+=1\n",
    "            else:\n",
    "                add_matrix(elements_numbers[i], index, 1, side)        \n",
    "            \n",
    "for i in range(len(reactants)):\n",
    "    find_elements(reactants[i], i, 1)\n",
    "    \n",
    "for i in range(len(products)):\n",
    "    find_elements(products[i], i+len(reactants), -1)\n",
    "\n",
    "# use Matrix function from sympy to convert list of lists to matrix\n",
    "element_matrix = Matrix(element_matrix)\n",
    "# transpose matrix vertically\n",
    "element_matrix = element_matrix.transpose()\n",
    "# nullspace or kernel mapping\n",
    "solution = element_matrix.nullspace()[0]\n",
    "# find the least common multiple (smallest positive integer that is divisible by the found coefficients)\n",
    "multiple = lcm([val.q for val in solution])\n",
    "# multiply solution my lcm\n",
    "solution = multiple*solution\n",
    "coeff = solution.tolist()"
   ]
  },
  {
   "cell_type": "markdown",
   "id": "5ae62bdc-fb2b-4f39-935d-2aa6149362bc",
   "metadata": {},
   "source": [
    "Once we balanced the reaction, we can print it in a nice form. \n",
    "This is what the following code is doing."
   ]
  },
  {
   "cell_type": "code",
   "execution_count": 40,
   "id": "7a7e5452-949b-4368-a4ec-7ba79cafa97a",
   "metadata": {},
   "outputs": [
    {
     "name": "stdout",
     "output_type": "stream",
     "text": [
      "3H2 + 1N2 -> 2NH3\n"
     ]
    }
   ],
   "source": [
    "# assign the found coefficients to the reactants\n",
    "output = \"\"\n",
    "for i in range(len(reactants)):\n",
    "    output += str(coeff[i][0])+reactants[i]\n",
    "    if i < len(reactants)-1:\n",
    "        output += \" + \"\n",
    "\n",
    "# assign the found coefficients to the reactants\n",
    "output += \" -> \"\n",
    "for i in range(len(products)):\n",
    "    output += str(coeff[i+len(reactants)][0])+products[i]\n",
    "    if i < len(products)-1:\n",
    "        output += \" + \"\n",
    "        \n",
    "# print the final reaction\n",
    "print(output)"
   ]
  }
 ],
 "metadata": {
  "kernelspec": {
   "display_name": "Python 3 (ipykernel)",
   "language": "python",
   "name": "python3"
  },
  "language_info": {
   "codemirror_mode": {
    "name": "ipython",
    "version": 3
   },
   "file_extension": ".py",
   "mimetype": "text/x-python",
   "name": "python",
   "nbconvert_exporter": "python",
   "pygments_lexer": "ipython3",
   "version": "3.8.10"
  }
 },
 "nbformat": 4,
 "nbformat_minor": 5
}
