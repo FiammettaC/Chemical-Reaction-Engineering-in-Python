{
 "cells": [
  {
   "cell_type": "markdown",
   "id": "efbd12f7-a684-48be-859d-33f1152f9b52",
   "metadata": {},
   "source": [
    "# Chemical Reaction Engineering with Python"
   ]
  },
  {
   "cell_type": "markdown",
   "id": "afc832d2-ed9f-4663-a01c-c67a146b9427",
   "metadata": {},
   "source": [
    "## Introduction\n",
    "Recently, more and more chemical engineering students have expressed the desire to acquire basic programming skills early on in their career, with Python being the most requested language by far.\n",
    "For this reason, we decided to support the regular material taught in the Chemical Reaction Engineering (28342) with an introductory Python course.\n",
    "Therefore, we aim to provide material and practical tutorials to learn Python, so that you have the opportunity to use Python to solve the exercises and assignments.\n",
    "\n",
    "This course is designed to be very practical, since the best way to learn how to program is by programming. You will start writing and executing code from day 1, through carefully designed exercises.\n",
    "The target of this course is students and professionals in Chemical Engineering that want to learn how to program in Python.\n",
    "\n",
    "The course may be challenging and overwhelming at the beginning, but don't worry if you don't manage to complete everything.\n",
    "Each week, there will be a mandatory notebook of exercises `01-Exercises` and an additional, optional, notebook containing more challenging exercises, for learners that want to test themselves and like to *crack the code* (pun intended)."
   ]
  },
  {
   "cell_type": "markdown",
   "id": "c65102fb-74de-45a7-aa7b-7c902355ae42",
   "metadata": {},
   "source": [
    "## Why Python\n",
    "Python is one of the most popular languages in use today, thanks to its easy syntax, readability, libraries available and broad documentation. \n",
    "It is open-source, unlike other very popular programs such as MATLAB, which require a license.\n",
    "It has a big community, meaning that other people have probably already asked any possible question you might be having right now.\n",
    "Some forums where to ask and look for questions: [StackOverflow](https://stackoverflow.com/) (for practical questions about code), [StackExchange](https://stackexchange.com/) (for more theoretical questions).\n",
    "It is the to-go language for data analysis and data science, both in academia and industry.\n",
    "\n",
    "In this course, we will use Python 3.8.\n",
    "\n",
    "Also, if you are not convinced yet, try to look for the price of the licenses of popular other programmes used, like MATLAB and Maple!"
   ]
  },
  {
   "cell_type": "markdown",
   "id": "0a927c4d-70a9-4d86-ae72-b4e7bb4a046c",
   "metadata": {},
   "source": [
    "## Helpful tips and tricks before starting\n",
    "\n",
    "\"The most effective debugging tool is still careful thought, coupled with judiciously placed print statements.\"\n",
    "​\n",
    "— Brian Kernighan, \"Unix for Beginners\" (1979)\n",
    "\n",
    "1. **The best way to learn how to program is by programming**. It's normal that you cannot solve everything and you are overwhelmed at the beginning. Don't give up and just practice.\n",
    "1. **Write, test and improve code.** Do not expect to write a full program in one sitting: most programmers write, test and rewrite code many times before their program works, so do not get discouraged!\n",
    "2. **Brainstorm first.** Instead of reading a problem and looking for a solution on the Internet, try to think about it yourself. Re-read the problem, brainstorm possible solutions and try to write some code. Make sure that you actually understand what it is asked. Only after you have spent sufficient time on this, look for hints elsewhere.\n",
    "3. **Learn to comment your code early on.** Before coding, visualize what you plan to do and describe is in plan, non-technical text on paper. Try to be as detailed as possible and include all the steps, even the smallest ones. This will be helpful at the beginning of your coding experience to guide you through the process and ensure you do not forget important steps. Later on, when you are more comfortable coding, it will be helpful for reference for you or other teammates. Remember that just because something seems easy for you, it does not mean your colleague can read your code and understand it right away. This is a very important principle for code deployment.\n",
    "4. **Understand what the program is doing.** It is important that you understand what your program is doing. Often, it is useful to simply *print* what you are doing, this is an easy way to visualize, and therefore better understand, the output. This approach is called tracing or printf() debugging, after the print function name in the C language)."
   ]
  },
  {
   "cell_type": "markdown",
   "id": "1bb8d23e-9614-4bb3-b467-466aaf29b80b",
   "metadata": {},
   "source": [
    "## Hello, World!"
   ]
  },
  {
   "cell_type": "markdown",
   "id": "4087cd08-109f-406c-8374-146f77275ea7",
   "metadata": {},
   "source": [
    "Traditionally, Hello World programs are used to illustrate how coding works, as well as verifying that the system is operating correctly.\n",
    "Greeting the user is considered the first step in learning to code, and it even has its own Wikipedia page!\n",
    "So, let's do that."
   ]
  },
  {
   "cell_type": "code",
   "execution_count": 1,
   "id": "a9966452-2bae-4f5f-8f98-38e57ad15826",
   "metadata": {},
   "outputs": [
    {
     "name": "stdout",
     "output_type": "stream",
     "text": [
      "Hello, World!\n"
     ]
    }
   ],
   "source": [
    "# printing\n",
    "print(\"Hello, World!\")"
   ]
  },
  {
   "cell_type": "markdown",
   "id": "a31d4bec-0ebc-418e-9a7a-783921de0a23",
   "metadata": {},
   "source": [
    "## Syntax, Semantics and Pragmatics of a programming language\n",
    "\n",
    "Before starting to code, there are some notions that we need to understand.\n",
    "\n",
    "First of all, Python is regarded as a *programming language*. \n",
    "But what does that mean? \n",
    "How is a programming language different from a natural language?\n",
    "\n",
    "Let's start from what they have in common: **language**. A language is a system of communication, a means for individuals belonging to the same group to express themselves and understand each other.\n",
    "A language, in order to be successfull in enabling communication and understanding, has to be based on conventions, rules that are agreed upon by the members of the group. \n",
    "\n",
    "The three main categories we will compare here are: **Syntax**, **Semantics** and **Pragmatics**.\n",
    "- **Syntax**: grammatical structure of sentences. It defines the rules of what is consedered to be grammatical in a language. For example, in a natural language such as English, syntax detemines the order of the components of a sentence (Subject-Verb-Object). Programming languages (e.g., Python) have a highly non-flexible notion of grammaticality, meaning that a structure it is either correctly implemented or it rases an error An example of a very common syntactic error raised in Python is wrong indentation.\n",
    "- **Semantics**: meaning of a sentence. Sometimes, the program we are writing is syntactically correct, but it raises an error for other reasons. So while the computer may understand the commands, carrying them out leads to errors. An example of this is division by zero, combining incompatible types of variables (Python is a *weakly-typed* language) or calling an undefined function.\n",
    "- **Pragmatics**: defines how context contributes to the meaning of a sentence. Humans are able to infer many information from the context, enabling them to infer the meaning from a set of share assumptions, even though not all details are explicit. Computer programs are unable to do the same, and can only do what instructed. But this is not necessarily a bad attribute, since it means that there is no ambiguity: a piece of code can have one and only one interpretation, while natural language can often be ambiguous. If a program encounters potentially ambiguous statements, preference rules are employed to select a single interpretation. An example of this is given by mathematical operations."
   ]
  },
  {
   "cell_type": "code",
   "execution_count": 2,
   "id": "da2605c6-08fa-48d1-aca9-a6da834b9bb9",
   "metadata": {},
   "outputs": [
    {
     "name": "stdout",
     "output_type": "stream",
     "text": [
      "metre\n",
      "gram\n",
      "second\n"
     ]
    }
   ],
   "source": [
    "# indentation\n",
    "# Example of a correct statement\n",
    "for unit in ['metre', 'gram', 'second']:\n",
    "    print(unit)"
   ]
  },
  {
   "cell_type": "markdown",
   "id": "9a8b09dc-9937-452c-ac32-93e8bc30e240",
   "metadata": {},
   "source": [
    "## Statements"
   ]
  },
  {
   "cell_type": "markdown",
   "id": "e892b629-42e8-4542-9999-96e888633b92",
   "metadata": {},
   "source": [
    "A **statement** is an instruction that your program can execute.\n",
    "In Python, you can compute, bind, or save values in different ways. \n",
    "\n",
    "Some of the most common ways are:\n",
    "\n",
    "1. **Statements**, for combining, printing or calculating values.\n",
    "2. **Assignments**, for binding values to variables (names).\n",
    "3. **Lists** and **generators** to store values.\n",
    "4. **Compound statements**, control structures for running code **conditionally** or **repeatedly**.\n",
    "5. **Packaging**, for reusing chunks of code."
   ]
  },
  {
   "cell_type": "code",
   "execution_count": 3,
   "id": "d8342968-936d-44dc-a6a0-998c1dc70e0b",
   "metadata": {},
   "outputs": [],
   "source": [
    "# creating variables\n",
    "x = 5"
   ]
  },
  {
   "cell_type": "code",
   "execution_count": 4,
   "id": "26b7c3d6-dff9-4804-8e69-746d81ce72f8",
   "metadata": {},
   "outputs": [
    {
     "data": {
      "text/plain": [
       "True"
      ]
     },
     "execution_count": 4,
     "metadata": {},
     "output_type": "execute_result"
    }
   ],
   "source": [
    "# stating identity\n",
    "x == 5"
   ]
  },
  {
   "cell_type": "code",
   "execution_count": 5,
   "id": "f52dbdfd-f62d-4d5e-803c-f02db849a1e4",
   "metadata": {},
   "outputs": [
    {
     "data": {
      "text/plain": [
       "69"
      ]
     },
     "execution_count": 5,
     "metadata": {},
     "output_type": "execute_result"
    }
   ],
   "source": [
    "# Mathematical operations are handled by preference rules \n",
    "6 + 7 * 9"
   ]
  },
  {
   "cell_type": "code",
   "execution_count": 6,
   "id": "87303c9f-ae41-448c-92ca-750bea1ca1b1",
   "metadata": {},
   "outputs": [
    {
     "name": "stdout",
     "output_type": "stream",
     "text": [
      "['C', 'N']\n"
     ]
    }
   ],
   "source": [
    "# strings\n",
    "au = 'Gold'\n",
    "\n",
    "# integers\n",
    "total = (2 + 5 - 6) / 5\n",
    "\n",
    "# lists\n",
    "elements = ['C', 'N', 'O']\n",
    "\n",
    "# slicing\n",
    "# You can index items in a list in this way - and remember, \n",
    "# you start counting from 0 in python, so index 0 is the first item!\n",
    "print(elements[0:2])"
   ]
  },
  {
   "cell_type": "markdown",
   "id": "3b701808-f1eb-48dc-9863-892b830417df",
   "metadata": {},
   "source": [
    "## Data structures"
   ]
  },
  {
   "cell_type": "markdown",
   "id": "96adca54-3549-4211-a394-ad06da8edf8b",
   "metadata": {},
   "source": [
    "### Lists\n",
    "\n",
    "We will deep dive into lists and other types of data structures next week, for now the only notion that you need to acquire is that items can be assigned to lists in multiple ways, e.g., *manually* (which we want to avoid, since programming is all about automation), using a *loop* or through a *list comprehension*."
   ]
  },
  {
   "cell_type": "code",
   "execution_count": 7,
   "id": "32746d8a-5f1b-4b64-ac64-ea6c4f1153ce",
   "metadata": {},
   "outputs": [
    {
     "name": "stdout",
     "output_type": "stream",
     "text": [
      "[1.585, 2.3775, 4.1475]\n"
     ]
    }
   ],
   "source": [
    "# Creating the list in a loop\n",
    "\n",
    "list_liters = [6, 9, 15.7]\n",
    "# create empty list_gallons\n",
    "list_gallons = []\n",
    "# loop through the elements of the original list\n",
    "for item in list_liters:\n",
    "    # convert given value in liters to gallons\n",
    "    gallons = round(item * 0.2641720524, 4)\n",
    "    # assign resulting values in gallons to list_gallons\n",
    "    list_gallons.append(gallons)\n",
    "print(list_gallons)"
   ]
  },
  {
   "cell_type": "code",
   "execution_count": 8,
   "id": "f80ed78e-63a5-49ef-8f0b-18e195de9f2e",
   "metadata": {},
   "outputs": [
    {
     "data": {
      "text/plain": [
       "[1.585, 2.3775, 4.1475]"
      ]
     },
     "execution_count": 8,
     "metadata": {},
     "output_type": "execute_result"
    }
   ],
   "source": [
    "# Creating the list through a list comprehension\n",
    "\n",
    "# use a list comprehension to create list_gallons\n",
    "list_gallons = [round(item * 0.2641720524, 4) for item in list_liters]\n",
    "list_gallons"
   ]
  },
  {
   "cell_type": "markdown",
   "id": "6daf6d42-a0df-4ed5-a193-8e340e9240a5",
   "metadata": {},
   "source": [
    "Extra: **List comprehensions vs generator expressions**\n",
    "\n",
    "Note that you can also decide to create a generator instead of a list.\n",
    "The disadvantage of this approach is that you can only use a generator created in this way once.\n",
    "\n",
    "You may be wondering, if the generator expression can't be reused more than once, why would anyone use this instead of a normal list?\n",
    "\n",
    "The answer is memory and time!\n",
    "Generators don't construct a list object, so instead of storing the whole list in memory, they generate one item at a time and generate the next only when in demand. On the other hand, in a list comprehension, memory is reserved for the whole list. Additionally, generators are also more time efficient than list comprehensions.\n",
    "\n",
    "You can read more about the differences between list comprehensions and generator expressions [here](https://www.geeksforgeeks.org/python-list-comprehensions-vs-generator-expressions/#:~:text=So%20what's%20the%20difference%20between,memory%20efficient%20than%20the%20lists.)."
   ]
  },
  {
   "cell_type": "code",
   "execution_count": 9,
   "id": "446f8466-956a-4ae1-af0c-42188c5c50c4",
   "metadata": {},
   "outputs": [
    {
     "data": {
      "text/plain": [
       "<generator object <genexpr> at 0x00000208C458E3C0>"
      ]
     },
     "execution_count": 9,
     "metadata": {},
     "output_type": "execute_result"
    }
   ],
   "source": [
    "# Create a generator\n",
    "\n",
    "# create a generator instead of a list by substituting brackets with parenthesis\n",
    "generator_gallons = (round(item * 0.2641720524, 4) for item in list_liters)\n",
    "generator_gallons"
   ]
  },
  {
   "cell_type": "markdown",
   "id": "4216b46b-683d-43e2-9a9b-77c9d3fb5ab3",
   "metadata": {},
   "source": [
    "## Dictionaries\n",
    "\n",
    "Just like the physical dictionaries used to look up the meaning of a word, *dictionaries* in Python are data structures that assocuate keys to values. In other programming languages, they are also known as hash tables, hash maps or associative arrays.\n",
    "\n",
    "Dictionaries are ordered in Python 3.7 and higher, in Python 3.6 and lower they are an unordered collection of key:value pairs.\n",
    "They are changable, meaning that a dictionary can be updated, and values can be added, removed and overwritten.\n",
    "\n",
    "Note: Keys in a dictionary are unique (duplicates are not allowed), this means that the values can be overwritten.\n",
    "\n",
    "They are written in curly brackets."
   ]
  },
  {
   "cell_type": "code",
   "execution_count": 10,
   "id": "998ab67b-1123-4835-89eb-de0be4f82078",
   "metadata": {},
   "outputs": [
    {
     "name": "stdout",
     "output_type": "stream",
     "text": [
      "{'temperature': 30, 'pH': 7.0, 'pressure': 1.0}\n",
      "{'temperature': [30, 29, 28], 'pH': [7.0, 6.9, 6.8], 'pressure': [1.0, 1.5, 2.0]}\n",
      "[30, 29, 28]\n",
      "[30, 29, 28]\n",
      "True\n",
      "False\n",
      "{'temperature': 30, 'pH': [7.0, 6.9, 6.8], 'pressure': [1.0, 1.5, 2.0]}\n",
      "dict_keys(['temperature', 'pH', 'pressure'])\n",
      "dict_values([30, [7.0, 6.9, 6.8], [1.0, 1.5, 2.0]])\n",
      "dict_items([('temperature', 30), ('pH', [7.0, 6.9, 6.8]), ('pressure', [1.0, 1.5, 2.0])])\n"
     ]
    }
   ],
   "source": [
    "# Let's define some dictionaries\n",
    "\n",
    "# values are numbers (integers and floats)\n",
    "dict_conditions = {\n",
    "    \"temperature\": 30,\n",
    "    \"pH\": 7.0,\n",
    "    \"pressure\": 1.0\n",
    "}\n",
    "\n",
    "print(dict_conditions)\n",
    "\n",
    "# here the values are lists of items\n",
    "dict_conditions = {\n",
    "    \"temperature\": [30, 29, 28],\n",
    "    \"pH\": [7.0, 6.9, 6.8],\n",
    "    \"pressure\": [1.0, 1.5, 2.0]\n",
    "}\n",
    "\n",
    "print(dict_conditions)\n",
    "\n",
    "# Print the values of temperature\n",
    "print(dict_conditions[\"temperature\"])\n",
    "# or\n",
    "print(dict_conditions.get(\"temperature\"))\n",
    "\n",
    "# Look if a key is in the dictionary\n",
    "print(\"pressure\" in dict_conditions)\n",
    "print(\"air pressure\" in dict_conditions)\n",
    "\n",
    "# Update a certain condition\n",
    "dict_conditions[\"temperature\"] = 30\n",
    "print(dict_conditions)\n",
    "# Extrct the keys\n",
    "print(dict_conditions.keys())\n",
    "\n",
    "# Extrct the values\n",
    "print(dict_conditions.values())\n",
    "\n",
    "# Extrct the items to get the tuple of keys and values\n",
    "print(dict_conditions.items())"
   ]
  },
  {
   "cell_type": "code",
   "execution_count": 11,
   "id": "3378baaa-bffd-4c1f-b942-db0715600b6c",
   "metadata": {},
   "outputs": [
    {
     "name": "stdout",
     "output_type": "stream",
     "text": [
      "{0: 'zero', 1: 'one', 2: 'two', 3: 'three', 4: 'four', 5: 'five'}\n",
      "{0: 'zero', 1: 'one', 2: 'two', 3: 'three', 4: 'four', 5: 'five'}\n"
     ]
    }
   ],
   "source": [
    "# creating a dictionary from a list\n",
    "\n",
    "# Create a dictionary in a loop\n",
    "list_numbers = ['zero', 'one', 'two', 'three', 'four', 'five']\n",
    "\n",
    "my_dictonary = {}\n",
    "for key, value in enumerate(list_numbers): #enumerate is a function used to get a counter \n",
    "                                           #and the value of an iterable (in our case a list)\n",
    "    my_dictonary[key] = value\n",
    "    \n",
    "print(my_dictonary)\n",
    "\n",
    "# or with a list comprehension\n",
    "my_dictonary = {key:value for key, value in enumerate(list_numbers)}\n",
    "print(my_dictonary)"
   ]
  },
  {
   "cell_type": "markdown",
   "id": "f8401557-a5f8-42aa-9f98-77ba20cc8666",
   "metadata": {},
   "source": [
    "## Sets\n",
    "\n",
    "A *set* is a unique and unordered collection of items.\n",
    "The order of the items in a set does not matter.\n",
    "\n",
    "Items in a set cannot be changed, but they can be removed and new items can be added to the set.\n",
    "\n",
    "Let's see how to define a set below."
   ]
  },
  {
   "cell_type": "code",
   "execution_count": 12,
   "id": "4f922fac-9e67-4e72-9497-8c992366b87d",
   "metadata": {},
   "outputs": [
    {
     "name": "stdout",
     "output_type": "stream",
     "text": [
      "{'Ion exchange', 'Solid-liquid extraction', 'Fluid bed', 'Crystalization', 'Bubble column'}\n"
     ]
    }
   ],
   "source": [
    "experiments = ['Bubble column', 'Fluid bed', 'Crystalization', 'Ion exchange', \n",
    "               'Solid-liquid extraction', 'Crystalization']\n",
    "\n",
    "set_experiments = set(experiments)\n",
    "print(set_experiments)"
   ]
  },
  {
   "cell_type": "markdown",
   "id": "03e99f34-ad4f-41a4-aae5-c6869e9c176b",
   "metadata": {},
   "source": [
    "Sets allow different operations, like intersection, union and difference between two collections."
   ]
  },
  {
   "cell_type": "code",
   "execution_count": 13,
   "id": "bdbf3f7b-e208-449a-b084-0f9b0811993a",
   "metadata": {},
   "outputs": [
    {
     "name": "stdout",
     "output_type": "stream",
     "text": [
      "{18, 12, 6}\n",
      "{2, 3, 4, 6, 8, 9, 10, 12, 14, 15, 16, 18, 20, 21, 24, 27, 30}\n",
      "{3, 9, 15, 21, 24, 27, 30}\n",
      "True\n",
      "{3, 9, 15, 21, 24, 27, 30}\n"
     ]
    },
    {
     "data": {
      "text/plain": [
       "{9, 15, 21, 24, 27, 30}"
      ]
     },
     "execution_count": 13,
     "metadata": {},
     "output_type": "execute_result"
    }
   ],
   "source": [
    "multiples_three = {3, 6, 9, 12, 15, 18, 21, 24, 27, 30}\n",
    "even_numbers = {2, 4, 6, 8, 10, 12, 14, 16, 18, 20}\n",
    "\n",
    "# Intersection\n",
    "intersection = set(multiples_three & even_numbers) # or multiples_three.intersection(even_numbers)\n",
    "print(intersection)\n",
    "\n",
    "# Union\n",
    "union = set(multiples_three | even_numbers) # or multiples_three.union(even_numbers)\n",
    "print(union)\n",
    "\n",
    "# A-B: note that B-A will lead to a different result\n",
    "difference = multiples_three - even_numbers\n",
    "print(difference)\n",
    "\n",
    "# Subsets contained in a set (if all elements in 'multiples_three' are in 'union'\n",
    "subset = multiples_three.issubset(union)\n",
    "print(subset)\n",
    "\n",
    "print(difference)\n",
    "difference.remove(3)\n",
    "difference"
   ]
  },
  {
   "cell_type": "markdown",
   "id": "e2677d59-89e1-4dcf-b2ba-92699686df07",
   "metadata": {},
   "source": [
    "## Pandas DataFrames\n",
    "\n",
    "`pandas` is a very popular Python library, which allows data to be loaded as a dataframe. \n",
    "The library allows many operations to be easily performed on the data, such as calculating the mean or the sum of a column, transpose the dataframe, aggregate values and so on. Moreover, it is widely used for statistical data analysis.\n",
    "\n",
    "It is very well documented, more informations and tutorials about the package can be found [here](https://pandas.pydata.org/docs/index.html).\n",
    "\n",
    "For semplicity, the convention is to import `pandas` as `pd`, but in principle it can be called anything, although it is always a good idea to stick to the accepted conventions to ensure code readability. \n",
    "\n",
    "`pandas` allows data to be loaded from many different formats, and has many functions implemented for this purpose.\n",
    "Here, we will load a .csv file, but you can load Excel, txt, JSON data as well as many other formats.\n",
    "\n",
    "Moreover, DataFrames can be created from many different objects: they can be loaded from saved files, as we saw before, but they can also be created from lists and dictionaries, from example."
   ]
  },
  {
   "cell_type": "code",
   "execution_count": 14,
   "id": "d34cafa3-ef19-4f3e-b80f-0a34d6f64385",
   "metadata": {},
   "outputs": [
    {
     "data": {
      "text/html": [
       "<div>\n",
       "<style scoped>\n",
       "    .dataframe tbody tr th:only-of-type {\n",
       "        vertical-align: middle;\n",
       "    }\n",
       "\n",
       "    .dataframe tbody tr th {\n",
       "        vertical-align: top;\n",
       "    }\n",
       "\n",
       "    .dataframe thead th {\n",
       "        text-align: right;\n",
       "    }\n",
       "</style>\n",
       "<table border=\"1\" class=\"dataframe\">\n",
       "  <thead>\n",
       "    <tr style=\"text-align: right;\">\n",
       "      <th></th>\n",
       "      <th>flow type</th>\n",
       "      <th>water flow / air flow</th>\n",
       "      <th>0 kg/h</th>\n",
       "      <th>100 kg/h</th>\n",
       "      <th>200 kg/h</th>\n",
       "      <th>300 kg/h</th>\n",
       "    </tr>\n",
       "  </thead>\n",
       "  <tbody>\n",
       "    <tr>\n",
       "      <th>0</th>\n",
       "      <td>small</td>\n",
       "      <td>15</td>\n",
       "      <td>1</td>\n",
       "      <td>2</td>\n",
       "      <td>3</td>\n",
       "      <td>3</td>\n",
       "    </tr>\n",
       "    <tr>\n",
       "      <th>1</th>\n",
       "      <td>small</td>\n",
       "      <td>30</td>\n",
       "      <td>2</td>\n",
       "      <td>2</td>\n",
       "      <td>5</td>\n",
       "      <td>3</td>\n",
       "    </tr>\n",
       "    <tr>\n",
       "      <th>2</th>\n",
       "      <td>small</td>\n",
       "      <td>50</td>\n",
       "      <td>2</td>\n",
       "      <td>3</td>\n",
       "      <td>6</td>\n",
       "      <td>5</td>\n",
       "    </tr>\n",
       "    <tr>\n",
       "      <th>3</th>\n",
       "      <td>small</td>\n",
       "      <td>80</td>\n",
       "      <td>3</td>\n",
       "      <td>4</td>\n",
       "      <td>9</td>\n",
       "      <td>9</td>\n",
       "    </tr>\n",
       "    <tr>\n",
       "      <th>4</th>\n",
       "      <td>small</td>\n",
       "      <td>100</td>\n",
       "      <td>3</td>\n",
       "      <td>5</td>\n",
       "      <td>13</td>\n",
       "      <td>13</td>\n",
       "    </tr>\n",
       "  </tbody>\n",
       "</table>\n",
       "</div>"
      ],
      "text/plain": [
       "  flow type  water flow / air flow  0 kg/h  100 kg/h  200 kg/h  300 kg/h\n",
       "0     small                     15       1         2         3         3\n",
       "1     small                     30       2         2         5         3\n",
       "2     small                     50       2         3         6         5\n",
       "3     small                     80       3         4         9         9\n",
       "4     small                    100       3         5        13        13"
      ]
     },
     "execution_count": 14,
     "metadata": {},
     "output_type": "execute_result"
    }
   ],
   "source": [
    "import pandas as pd\n",
    "\n",
    "# create a df from lists\n",
    "df = pd.DataFrame()\n",
    "df['column 1'] = list(range(10))\n",
    "df['column 2'] = list(range(2, 21, 2))\n",
    "df.head()\n",
    "\n",
    "# create a df from a list of lists\n",
    "observations = [[3, 57, 9], [1, 56, 3], [3, 47, 0]]\n",
    "observations_df = pd.DataFrame(observations)\n",
    "observations_df\n",
    "\n",
    "# create a df from a dictionary\n",
    "dict_conditions = {\n",
    "    \"temperature\": 30,\n",
    "    \"pH\": 7.0,\n",
    "    \"pressure\": 1.0\n",
    "}\n",
    "\n",
    "df_from_dict = pd.DataFrame.from_dict(dict_conditions, orient='index')\n",
    "# you can reset the index to have your keys as a column instead of the index\n",
    "df_from_dict = df_from_dict.reset_index()\n",
    "\n",
    "packed_column = pd.DataFrame([['small',15,1,2,3,3], ['small',30,2,2,5,3], ['small',50,2,3,6,5],\n",
    "                              ['small',80,3,4,9,9], ['small',100,3,5,13,13], ['big',40,5,9,14,25],\n",
    "                              ['big',50,7,14,22,39], ['big',60,10,19,32,161], ['big',70,13,27,46,224],\n",
    "                              ['big',80,15,34,57,0]], \n",
    "                             columns=['flow type','water flow / air flow','0 kg/h','100 kg/h','200 kg/h','300 kg/h'])\n",
    "packed_column.head()\n",
    "\n",
    "# use read_csv to lead data from .csv file\n",
    "# uncomment code below to import file from .csv\n",
    "#packed_column = pd.read_csv('packed_column.csv', encoding='utf-8', sep=';')\n",
    "#packed_column"
   ]
  },
  {
   "cell_type": "markdown",
   "id": "13220bb8-5ef4-46c9-9932-451d83a883a3",
   "metadata": {},
   "source": [
    "Let's look at some useful dataframe operations"
   ]
  },
  {
   "cell_type": "code",
   "execution_count": 15,
   "id": "f5b73759-18bd-433c-a639-b808cb909000",
   "metadata": {},
   "outputs": [
    {
     "name": "stderr",
     "output_type": "stream",
     "text": [
      "C:\\Users\\fiacac\\AppData\\Local\\Temp/ipykernel_28772/2143030137.py:11: FutureWarning: Dropping of nuisance columns in DataFrame reductions (with 'numeric_only=None') is deprecated; in a future version this will raise TypeError.  Select only valid columns before calling the reduction.\n",
      "  packed_column.mean()\n"
     ]
    },
    {
     "data": {
      "text/plain": [
       "0     24\n",
       "1     42\n",
       "2     66\n",
       "3    105\n",
       "4    134\n",
       "5     93\n",
       "6    132\n",
       "7    282\n",
       "8    380\n",
       "9    186\n",
       "dtype: object"
      ]
     },
     "execution_count": 15,
     "metadata": {},
     "output_type": "execute_result"
    }
   ],
   "source": [
    "# inspect the top 5 elements in the dataframe\n",
    "packed_column.head()\n",
    "\n",
    "# inspect the top 10 elements in the dataframe\n",
    "packed_column.head(10)\n",
    "\n",
    "# inspect the bottom 5 elements in the dataframe\n",
    "packed_column.tail()\n",
    "\n",
    "# calculate the mean of each column\n",
    "packed_column.mean()\n",
    "\n",
    "# calculate the sum of each column\n",
    "packed_column.sum()\n",
    "\n",
    "# 'describe' returns many useful statistics about the data\n",
    "packed_column.describe()\n",
    "\n",
    "# transpose a dataframe\n",
    "packed_column.T\n",
    "\n",
    "# summing the rows (removing the categorical row) of the transposed dataframe\n",
    "packed_column.T[1:].sum()"
   ]
  },
  {
   "cell_type": "markdown",
   "id": "636b36be-f1f1-4e2a-bce5-967a34b3296e",
   "metadata": {},
   "source": [
    "**Indexing in pandas**\n",
    "\n",
    "It is also possible to *index* a DataFrame to update a value or selecting a subset of rows and columns we want to work with.\n",
    "\n",
    "We will use the `iloc` function for this purpose."
   ]
  },
  {
   "cell_type": "code",
   "execution_count": 16,
   "id": "ed2ef5db-0a5b-4914-a07d-e16a6d6d8f78",
   "metadata": {},
   "outputs": [
    {
     "data": {
      "text/plain": [
       "0     15\n",
       "1     30\n",
       "2     50\n",
       "3     80\n",
       "4    100\n",
       "5     40\n",
       "6     50\n",
       "7     60\n",
       "8     70\n",
       "9     80\n",
       "Name: water flow / air flow, dtype: int64"
      ]
     },
     "execution_count": 16,
     "metadata": {},
     "output_type": "execute_result"
    }
   ],
   "source": [
    "# replace the value of row 3 column 4 with None\n",
    "# remember that in Python we start counting from 0!\n",
    "packed_column.iloc[3, 4] = None\n",
    "\n",
    "# select the first row\n",
    "packed_column.iloc[0]\n",
    "\n",
    "# select a specific column\n",
    "packed_column['water flow / air flow']"
   ]
  },
  {
   "cell_type": "markdown",
   "id": "84ae160a-d802-4ae0-9df7-109240cd87e3",
   "metadata": {},
   "source": [
    "**Replacing missing values**\n",
    "\n",
    "A very important data pre-processing task is imputating missing values.\n",
    "Depending on the data available and the task to perform, different strategies might be more suitable.\n",
    "\n",
    "The most common strategies are:\n",
    "- replacing the missing values with a specific value (often 0, but it can be any value)\n",
    "- replacing the missing values with the mean of the columns\n",
    "- dropping (discarding) the rows with missing values."
   ]
  },
  {
   "cell_type": "code",
   "execution_count": 17,
   "id": "fd4da7c1-44a7-453f-849d-4410aebbe186",
   "metadata": {},
   "outputs": [
    {
     "data": {
      "text/html": [
       "<div>\n",
       "<style scoped>\n",
       "    .dataframe tbody tr th:only-of-type {\n",
       "        vertical-align: middle;\n",
       "    }\n",
       "\n",
       "    .dataframe tbody tr th {\n",
       "        vertical-align: top;\n",
       "    }\n",
       "\n",
       "    .dataframe thead th {\n",
       "        text-align: right;\n",
       "    }\n",
       "</style>\n",
       "<table border=\"1\" class=\"dataframe\">\n",
       "  <thead>\n",
       "    <tr style=\"text-align: right;\">\n",
       "      <th></th>\n",
       "      <th>flow type</th>\n",
       "      <th>water flow / air flow</th>\n",
       "      <th>0 kg/h</th>\n",
       "      <th>100 kg/h</th>\n",
       "      <th>200 kg/h</th>\n",
       "      <th>300 kg/h</th>\n",
       "    </tr>\n",
       "  </thead>\n",
       "  <tbody>\n",
       "    <tr>\n",
       "      <th>0</th>\n",
       "      <td>small</td>\n",
       "      <td>15</td>\n",
       "      <td>1</td>\n",
       "      <td>2</td>\n",
       "      <td>3.0</td>\n",
       "      <td>3</td>\n",
       "    </tr>\n",
       "    <tr>\n",
       "      <th>1</th>\n",
       "      <td>small</td>\n",
       "      <td>30</td>\n",
       "      <td>2</td>\n",
       "      <td>2</td>\n",
       "      <td>5.0</td>\n",
       "      <td>3</td>\n",
       "    </tr>\n",
       "    <tr>\n",
       "      <th>2</th>\n",
       "      <td>small</td>\n",
       "      <td>50</td>\n",
       "      <td>2</td>\n",
       "      <td>3</td>\n",
       "      <td>6.0</td>\n",
       "      <td>5</td>\n",
       "    </tr>\n",
       "    <tr>\n",
       "      <th>3</th>\n",
       "      <td>small</td>\n",
       "      <td>80</td>\n",
       "      <td>3</td>\n",
       "      <td>4</td>\n",
       "      <td>22.0</td>\n",
       "      <td>9</td>\n",
       "    </tr>\n",
       "    <tr>\n",
       "      <th>4</th>\n",
       "      <td>small</td>\n",
       "      <td>100</td>\n",
       "      <td>3</td>\n",
       "      <td>5</td>\n",
       "      <td>13.0</td>\n",
       "      <td>13</td>\n",
       "    </tr>\n",
       "    <tr>\n",
       "      <th>5</th>\n",
       "      <td>big</td>\n",
       "      <td>40</td>\n",
       "      <td>5</td>\n",
       "      <td>9</td>\n",
       "      <td>14.0</td>\n",
       "      <td>25</td>\n",
       "    </tr>\n",
       "    <tr>\n",
       "      <th>6</th>\n",
       "      <td>big</td>\n",
       "      <td>50</td>\n",
       "      <td>7</td>\n",
       "      <td>14</td>\n",
       "      <td>22.0</td>\n",
       "      <td>39</td>\n",
       "    </tr>\n",
       "    <tr>\n",
       "      <th>7</th>\n",
       "      <td>big</td>\n",
       "      <td>60</td>\n",
       "      <td>10</td>\n",
       "      <td>19</td>\n",
       "      <td>32.0</td>\n",
       "      <td>161</td>\n",
       "    </tr>\n",
       "    <tr>\n",
       "      <th>8</th>\n",
       "      <td>big</td>\n",
       "      <td>70</td>\n",
       "      <td>13</td>\n",
       "      <td>27</td>\n",
       "      <td>46.0</td>\n",
       "      <td>224</td>\n",
       "    </tr>\n",
       "    <tr>\n",
       "      <th>9</th>\n",
       "      <td>big</td>\n",
       "      <td>80</td>\n",
       "      <td>15</td>\n",
       "      <td>34</td>\n",
       "      <td>57.0</td>\n",
       "      <td>0</td>\n",
       "    </tr>\n",
       "  </tbody>\n",
       "</table>\n",
       "</div>"
      ],
      "text/plain": [
       "  flow type  water flow / air flow  0 kg/h  100 kg/h  200 kg/h  300 kg/h\n",
       "0     small                     15       1         2       3.0         3\n",
       "1     small                     30       2         2       5.0         3\n",
       "2     small                     50       2         3       6.0         5\n",
       "3     small                     80       3         4      22.0         9\n",
       "4     small                    100       3         5      13.0        13\n",
       "5       big                     40       5         9      14.0        25\n",
       "6       big                     50       7        14      22.0        39\n",
       "7       big                     60      10        19      32.0       161\n",
       "8       big                     70      13        27      46.0       224\n",
       "9       big                     80      15        34      57.0         0"
      ]
     },
     "execution_count": 17,
     "metadata": {},
     "output_type": "execute_result"
    }
   ],
   "source": [
    "# fill missing values with 0\n",
    "packed_column.fillna(0)\n",
    "\n",
    "# dropping missing values\n",
    "packed_column.dropna()\n",
    "\n",
    "# fill missing values with the mean of a specific column\n",
    "packed_column.fillna(packed_column['200 kg/h'].mean())"
   ]
  },
  {
   "cell_type": "markdown",
   "id": "1a994816-6236-4d9b-980e-9095ca9c8917",
   "metadata": {},
   "source": [
    "### Numpy arrays\n",
    "\n",
    "Another very pupular library is [NumPy](https://numpy.org/), which allows users to work with vectors and matrices and perform mathematical operations with them.\n",
    "It offers comprehensive mathematical functions, random number generations, data distributions and more.\n",
    "\n",
    "For more information on what is an array and why NumPy is so widely used, read [here](https://numpy.org/doc/stable/user/absolute_beginners.html)."
   ]
  },
  {
   "cell_type": "code",
   "execution_count": 18,
   "id": "4ad128c6-4589-4a7b-8725-a1d94cd1d9d9",
   "metadata": {},
   "outputs": [
    {
     "data": {
      "text/plain": [
       "array([ 3.14159265,  6.28318531, 12.56637061])"
      ]
     },
     "execution_count": 18,
     "metadata": {},
     "output_type": "execute_result"
    }
   ],
   "source": [
    "# create a numpy array\n",
    "import numpy as np\n",
    "from math import pi\n",
    "\n",
    "# create a one-dimensional array\n",
    "array_1d = np.array([pi, pi*2, pi*4])\n",
    "array_1d"
   ]
  },
  {
   "cell_type": "code",
   "execution_count": 19,
   "id": "242893c3-fad0-4b07-9c2d-e164d2e556fb",
   "metadata": {},
   "outputs": [
    {
     "data": {
      "text/plain": [
       "dtype('float64')"
      ]
     },
     "execution_count": 19,
     "metadata": {},
     "output_type": "execute_result"
    }
   ],
   "source": [
    "# check the size of the array\n",
    "array_1d.size\n",
    "\n",
    "# check the shape of the array\n",
    "array_1d.shape\n",
    "\n",
    "# check the dimension of the array\n",
    "array_1d.ndim\n",
    "\n",
    "# check the type of the array\n",
    "array_1d.dtype"
   ]
  },
  {
   "cell_type": "code",
   "execution_count": 20,
   "id": "576f2b35-1c0b-4bb4-ae09-4d4be9817dcb",
   "metadata": {},
   "outputs": [
    {
     "name": "stdout",
     "output_type": "stream",
     "text": [
      "Size of the array:  9\n",
      "Shape of the array:  (3, 3)\n",
      "Dimensionality of the array:  2\n",
      "Type of the array:  float64\n"
     ]
    }
   ],
   "source": [
    "# create a two-dimensional array\n",
    "array_2d = np.array([[pi, pi*2, pi*4], [5.9, 7.0, 3], [pi*1.4, pi*0.2, pi*6.4]])\n",
    "\n",
    "print('Size of the array: ', array_2d.size)\n",
    "print('Shape of the array: ', array_2d.shape)\n",
    "print('Dimensionality of the array: ', array_2d.ndim)\n",
    "print('Type of the array: ', array_2d.dtype)"
   ]
  },
  {
   "cell_type": "code",
   "execution_count": 21,
   "id": "154e66bf-44b1-49bb-9109-0a8a73fcc743",
   "metadata": {},
   "outputs": [],
   "source": [
    "# create an array based on uniform distribution\n",
    "np.random.seed(42)  # fix random seed to get the same set of values every time\n",
    "uniform = np.random.uniform(1, 3, 200) # arguments are the lower boundary, upper boundary, output shape\n",
    "\n",
    "# create a normal distribution\n",
    "normal = np.random.normal(1, 3, 200) # arguments are the lower boundary, upper boundary, output shape"
   ]
  },
  {
   "cell_type": "code",
   "execution_count": 22,
   "id": "6a9f0300-911d-49b1-9c41-8abee2c8b460",
   "metadata": {},
   "outputs": [
    {
     "name": "stdout",
     "output_type": "stream",
     "text": [
      "[ 0.64831449  0.91894679  0.20887358 -0.28038468  0.03586382  0.96665893\n",
      "  1.50744688  1.07808874  2.2707087  -0.11813726  1.61836552  0.76671077\n",
      "  3.15197548 -0.43342771 -0.55400976  0.26920648 -1.90029989  0.43746752\n",
      " -0.74697819  1.12027261]\n",
      "[ 0.20012953  0.89376198  0.01352138  1.26563489 -0.01315653 -0.02933765\n",
      " -1.39484033 -0.84045291 -2.03565621  1.41655787 -0.12627576  0.40002676\n",
      " -1.22763038  1.18316886  1.12543393  1.46799177  2.34749156  1.48897756\n",
      "  0.77128714  0.81948504]\n",
      "[ 9.50649629e-02  1.14131777e-02  1.08613362e-02 -3.80804025e-01\n",
      "  2.78279812e-04  2.33392199e-01  8.17041386e-02  1.13978561e-01\n",
      "  2.53055453e-01 -4.98169943e-01  6.50790344e-01  1.06955999e-01\n",
      "  2.10696827e+00 -3.03007247e-01 -2.39918679e-01 -5.20631929e-01\n",
      " -4.74894245e-01 -5.06419087e-01 -9.22685872e-03  1.45863749e-01]\n",
      "[ 1.89306667e+00  7.19762975e+01  1.13843083e+00 -6.37281849e-01\n",
      "  4.63221707e-01  9.41088856e-01  3.87992445e-02  1.23862743e-01\n",
      "  5.45825768e-02 -8.46044652e-01  8.55241580e-01  3.18186093e+00\n",
      "  4.39387734e-01 -4.63777527e-01 -3.40246105e-01 -1.44913211e+00\n",
      " -1.05276279e-01 -1.83207483e+00 -1.60110022e-02  6.44892884e+00]\n",
      "0.8772544542002486\n",
      "[[3 8]\n",
      " [2 9]]\n",
      "Summing over rows [ 5 17]\n",
      "Summing over columns [11 11]\n"
     ]
    },
    {
     "data": {
      "text/plain": [
       "array([[3, 2],\n",
       "       [8, 9]])"
      ]
     },
     "execution_count": 22,
     "metadata": {},
     "output_type": "execute_result"
    }
   ],
   "source": [
    "# Numpy operations\n",
    "\n",
    "uniform = np.random.uniform(0, 1, 20)\n",
    "normal = np.random.normal(0, 1, 20)\n",
    "\n",
    "# sum\n",
    "print(uniform + normal)\n",
    "\n",
    "# difference\n",
    "print(uniform - normal)\n",
    "\n",
    "# product\n",
    "print(uniform * normal)\n",
    "\n",
    "# ratio\n",
    "print(uniform / normal)\n",
    "\n",
    "# inner product of vectors\n",
    "print(np.dot(uniform, normal))\n",
    "\n",
    "# matrix multiplication\n",
    "matrix_1 = np.array([[3, 8], [2, 9]])\n",
    "matrix_2 = np.array([[4, 5], [7, 2]])\n",
    "np.dot(matrix_1, matrix_2)\n",
    "\n",
    "# More on the sum\n",
    "print(matrix_1)\n",
    "print('Summing over rows', np.sum(matrix_1, axis=0))\n",
    "print('Summing over columns', np.sum(matrix_1, axis=1))\n",
    "\n",
    "# square root \n",
    "np.sqrt(matrix_1)\n",
    "\n",
    "# exponential\n",
    "np.exp(matrix_1)\n",
    "\n",
    "# matrix to the power of 2\n",
    "matrix_1**2\n",
    "\n",
    "# flatten array\n",
    "matrix_1.flatten()\n",
    "\n",
    "# indexing a matrix\n",
    "matrix_1[0, 0]\n",
    "\n",
    "# transposing a matrix\n",
    "matrix_1.T"
   ]
  },
  {
   "cell_type": "markdown",
   "id": "9b1375a4-14ea-4288-a81e-63f9489414ef",
   "metadata": {},
   "source": [
    "## Compound statements"
   ]
  },
  {
   "cell_type": "markdown",
   "id": "774ec425-c21e-43fe-a9fe-a42ed257c8b3",
   "metadata": {},
   "source": [
    "Compound statements are more complex statements that allow code in Python to be run according to a logic or order.\n",
    "They allow code to be run conditionally, i.e., expressions are evaluated one by one until one is found to be true; or repetedly, i.e., code runs until a condition is satisfied (as long as the expression is true or iteration over given data structure is over). The two most widely used compound statements are **if statements** and **loops**."
   ]
  },
  {
   "cell_type": "markdown",
   "id": "2a4cc4ea-8a1b-4630-a172-d80fb916143a",
   "metadata": {},
   "source": [
    "### If statements\n",
    "\n",
    "`if statement` is used for conditional execution. \n",
    "\n",
    "In plain language, an `if-else` clause tells Python to run the code in order.\n",
    "- `if` the first condition is met, then do something, \n",
    "- if the second (`elif`) condition is true, then do something else, \n",
    "- and so on \n",
    "- until reaching (if present) the last clause (`else`), if everything else before is false, then do this.\n",
    "\n",
    "The `if` statement is based on a **boolean** operation: if the first condition is executed it means that *the condition is* `True`, otherwise, the program moves on to the next statements *until either a `True` statement or the end of the flow* (else, if included). The flow chart bolow illustrates the conditional process with one if, two elif and one else statement.\n",
    "\n",
    "As you might have guessed, Python casts *boolean* values in different ways. \n",
    "Note that in Python 3, `True` and `False` are keywords and cannot be reassigned to another value, e.g., False = 5 will raise an error.\n",
    "\n",
    "Here are values that are built-in objects considered `False`:\n",
    "``` python\n",
    "- constants defined to be false: None and False.\n",
    "- zero of any numeric type: 0, 0.0, 0j, Decimal(0), Fraction(0, 1)\n",
    "- empty sequences and collections: '', (), [], {}, set(), range(0)\n",
    "```\n",
    "\n",
    "Read more about Truth Value Testing [here](https://docs.python.org/3/library/stdtypes.html)."
   ]
  },
  {
   "cell_type": "markdown",
   "id": "15d24238-5456-4afe-95ce-35c8f2f27033",
   "metadata": {},
   "source": [
    "In Python syntax:\n",
    "``` python\n",
    "if <condition>:\n",
    "⇥ <suite>\n",
    "elif <condition>:\n",
    "⇥ <suite>\n",
    "elif <condition>:\n",
    "⇥ <suite>\n",
    "...\n",
    "else:\n",
    "⇥ <suite>\n",
    "```"
   ]
  },
  {
   "cell_type": "code",
   "execution_count": 23,
   "id": "192dc472-5a12-4e4b-92a2-660335f88bd0",
   "metadata": {},
   "outputs": [
    {
     "name": "stdout",
     "output_type": "stream",
     "text": [
      "Steady state\n"
     ]
    }
   ],
   "source": [
    "# Example\n",
    "\n",
    "# define list containing the inflow (process[0]) value and the outflow (process[1]) value\n",
    "process = [10, 10]\n",
    "# first clause, if this is true...\n",
    "if process[0] == process[1]:\n",
    "    # ...then do this\n",
    "    print('Steady state')\n",
    "# if the clause before is not true...\n",
    "else:\n",
    "    # ...then do this\n",
    "    print('No steady state')"
   ]
  },
  {
   "cell_type": "code",
   "execution_count": 24,
   "id": "466d4b20-d4c5-4fe7-8c38-ffce2ef632fe",
   "metadata": {},
   "outputs": [
    {
     "name": "stdout",
     "output_type": "stream",
     "text": [
      "You failed the exam!\n"
     ]
    }
   ],
   "source": [
    "# Now let's see more complex statements\n",
    "# Change the values of exam_score and assignment to see how the outcome changes\n",
    "exam_score = 30\n",
    "assignment = 'C'\n",
    "\n",
    "if exam_score >= 80:\n",
    "    if assignment == 'A':\n",
    "        print('You passed the exam with the highest grade.')\n",
    "    elif assignment =='B':\n",
    "        print('You passed the exam with the second highest grade')\n",
    "    else:\n",
    "        print('You passed the exam with the third highest grade')\n",
    "elif 40 <= exam_score < 80:\n",
    "    if assignment == 'A' or assignment == 'B':\n",
    "        print('You did well in the assignment but not in the exam, you have a second attempt in 30 days')\n",
    "    else:\n",
    "        print('You barely passed the exam')\n",
    "else:\n",
    "    print('You failed the exam!')"
   ]
  },
  {
   "cell_type": "markdown",
   "id": "a218e539-0d71-4077-9369-25fc9a80133f",
   "metadata": {},
   "source": [
    "### Loops\n",
    "\n",
    "There are two types of loops used in Python: `for` and `while` loops.\n",
    "\n",
    "#### For loop\n",
    "\n",
    "The `for` loop is used to iterate through items, which could be stored in a tuple, list, dictionary and so on (we will get familiar with all of these data structures in week 2, so if you don't know these terms don't worry).\n",
    "These kind of loops are helpful in a multitude of operations, for example when encountering a nested loop, where list comprehensions would make the code less transparent and harder to read. Remember that, particularly when working in a team, code readability is very important.\n",
    "\n",
    "Python syntax for the `for` loop:\n",
    "    \n",
    "``` python\n",
    "for <target_list> in <expression_list>:\n",
    "⇥ <suite>\n",
    "```"
   ]
  },
  {
   "cell_type": "code",
   "execution_count": 25,
   "id": "6d8289e5-381f-4244-b6b3-9a8e737f2dad",
   "metadata": {},
   "outputs": [
    {
     "name": "stdout",
     "output_type": "stream",
     "text": [
      "bubble column\n",
      "fluid bed\n",
      "crystalization\n",
      "ion exchange\n",
      "solid-liquid extraction\n"
     ]
    }
   ],
   "source": [
    "# Example of for loop\n",
    "\n",
    "# define list of experiments\n",
    "experiments = [\n",
    "    'Bubble column', 'Fluid bed', 'Crystalization',\n",
    "    'Ion exchange', 'Solid-liquid extraction',\n",
    "]\n",
    "\n",
    "# loop through the list of experiments we want to perform\n",
    "for experiment in experiments:\n",
    "    # print the name of the experiments in lowercase\n",
    "    print(experiment.lower())"
   ]
  },
  {
   "cell_type": "markdown",
   "id": "45237d74-06e6-43cc-bc76-bfd2f3eb4613",
   "metadata": {},
   "source": [
    "#### While loop\n",
    "\n",
    "The `while` loop is used to iterate through elements for as long as a certain condition is valid.\n",
    "\n",
    "Python syntax for the `while` loop:\n",
    "    \n",
    "``` python\n",
    "while <condition>:\n",
    "⇥ <suite>\n",
    "```"
   ]
  },
  {
   "cell_type": "code",
   "execution_count": 26,
   "id": "498fb6a9-b185-4f04-b1da-406232beeb02",
   "metadata": {},
   "outputs": [
    {
     "name": "stdout",
     "output_type": "stream",
     "text": [
      "Experiments to perform:  ['Bubble column', 'Fluid bed', 'Crystalization', 'Ion exchange', 'Solid-liquid extraction']\n",
      "Experiments to perform:  ['Bubble column', 'Fluid bed', 'Crystalization', 'Ion exchange']\n",
      "Experiments to perform:  ['Bubble column', 'Fluid bed', 'Crystalization']\n",
      "Only 2 experiments left:  ['Bubble column', 'Fluid bed']\n"
     ]
    }
   ],
   "source": [
    "# Example of while loop\n",
    "\n",
    "# loop through the list of experiments as long as the list contains more than 2 elements\n",
    "while len(experiments) > 2:\n",
    "    # print the list of experiments\n",
    "    print('Experiments to perform: ', experiments)\n",
    "    # remove the last element in the list\n",
    "    experiments.pop()\n",
    "# print the modified list\n",
    "print('Only 2 experiments left: ', experiments)"
   ]
  },
  {
   "cell_type": "code",
   "execution_count": 27,
   "id": "727ade39-a4ae-4a70-8681-6f928dbe060c",
   "metadata": {},
   "outputs": [
    {
     "name": "stdout",
     "output_type": "stream",
     "text": [
      "Our total amount c is: 1, so the condition is within the limit\n",
      "Our total amount c is: 2, so the condition is within the limit\n",
      "Our total amount c is: 3, so the condition is within the limit\n",
      "Our total amount c is: 4, so the condition is within the limit\n",
      "Our total amount c is: 5, so the condition is within the limit\n",
      "Our total amount c is: 6, so the condition is within the limit\n",
      "Our total amount c is: 7, so the condition is within the limit\n",
      "Our total amount c is: 8, so the condition is within the limit\n",
      "Our total amount c is: 9, so the condition is within the limit\n",
      "Our total amount c is: 10, so the condition is within the limit\n",
      "Our total amount c is: 11, so the condition is within the limit\n"
     ]
    }
   ],
   "source": [
    "# Another example \n",
    "\n",
    "# set a condition\n",
    "limit = 10\n",
    "\n",
    "c = 0\n",
    "while c <= limit:\n",
    "    c+=1\n",
    "    print(f\"Our total amount c is: {c}, so the condition is within the limit\")"
   ]
  },
  {
   "cell_type": "markdown",
   "id": "ddc75e74-0705-49ec-91e0-b1ee885f1ab8",
   "metadata": {},
   "source": [
    "But be careful with while loops! The following code will run forever if not interrupted (uncomment the code to see)"
   ]
  },
  {
   "cell_type": "code",
   "execution_count": 28,
   "id": "00962b76-12a3-409c-ba41-c8b259fc912f",
   "metadata": {},
   "outputs": [],
   "source": [
    "# infinite loop: interrupt execution!\n",
    "\n",
    "#while True:\n",
    "    #print('This will keep running...')"
   ]
  },
  {
   "cell_type": "markdown",
   "id": "294ea12f-4621-49d8-ba76-e501fb5fa495",
   "metadata": {},
   "source": [
    "## Continue and break"
   ]
  },
  {
   "cell_type": "markdown",
   "id": "fb31c263-06f6-4c78-ba15-fc30a70b6cab",
   "metadata": {},
   "source": [
    "You can use the 'continue' and 'break' commands to ignore certain part of the code. For example, \n",
    "- 'continue' can be used to skip a certain condition in a loop and move to the next\n",
    "- 'break' exits the current execution (e.g., in a loop) and moves to the next code block."
   ]
  },
  {
   "cell_type": "code",
   "execution_count": 29,
   "id": "127093d9-7e7e-4f47-8f98-6094b140700e",
   "metadata": {},
   "outputs": [
    {
     "name": "stdout",
     "output_type": "stream",
     "text": [
      "8\n",
      "9\n",
      "10\n",
      "11\n",
      "12\n",
      "13\n",
      "14\n"
     ]
    }
   ],
   "source": [
    "# let's investigate what 'continue' does\n",
    "for i in range(15):\n",
    "    if i > 7:\n",
    "        print(i)\n",
    "    else:\n",
    "        #if this condition is True, we continue to the next iteration\n",
    "        continue"
   ]
  },
  {
   "cell_type": "code",
   "execution_count": 30,
   "id": "3a52fa94-87cb-43b8-bd07-1f7e9ba155cc",
   "metadata": {},
   "outputs": [
    {
     "name": "stdout",
     "output_type": "stream",
     "text": [
      "['batch', 'continuous stirred tank']\n"
     ]
    }
   ],
   "source": [
    "# create a list of reactors\n",
    "reactors = ['batch', 'continuous stirred tank', 'plug flow']\n",
    "\n",
    "# create a new list, we will add items to this list until a certain element is reached, then we break the loop\n",
    "new_reactors = [] \n",
    "for reactor in reactors:\n",
    "    # append items\n",
    "    new_reactors.append(reactor)\n",
    "    if reactor == 'continuous stirred tank':\n",
    "        # if condition is met, break the loop\n",
    "        break\n",
    "\n",
    "if 'batch' in new_reactors:\n",
    "    # print the new list\n",
    "    print(new_reactors)"
   ]
  },
  {
   "cell_type": "markdown",
   "id": "9705c4ab-1e2d-42f2-ab7f-562fadf1adf1",
   "metadata": {},
   "source": [
    "## Packaging"
   ]
  },
  {
   "cell_type": "markdown",
   "id": "ac8da215-356b-4c6c-9508-8ae2e463125b",
   "metadata": {},
   "source": [
    "### Functions"
   ]
  },
  {
   "cell_type": "code",
   "execution_count": 31,
   "id": "36e653bb-3d41-458d-bc23-2a010dbafc53",
   "metadata": {},
   "outputs": [
    {
     "data": {
      "text/plain": [
       "2500.0"
      ]
     },
     "execution_count": 31,
     "metadata": {},
     "output_type": "execute_result"
    }
   ],
   "source": [
    "# define a function that can be reused in the future\n",
    "def bar_to_pascal(bar):\n",
    "    one_bar_in_pascal = 100000\n",
    "    return bar * one_bar_in_pascal\n",
    "# call the function\n",
    "bar_to_pascal(0.025)"
   ]
  },
  {
   "cell_type": "markdown",
   "id": "c155b533-ecf8-4466-b43a-51b58bd4ae6f",
   "metadata": {},
   "source": [
    "## Data visualization"
   ]
  },
  {
   "cell_type": "code",
   "execution_count": 32,
   "id": "f2a333c2-ce70-45b2-bca6-6d5049b62324",
   "metadata": {},
   "outputs": [
    {
     "data": {
      "image/png": "[encoded data removed]",
      "text/plain": [
       "<Figure size 720x360 with 1 Axes>"
      ]
     },
     "metadata": {
      "needs_background": "light"
     },
     "output_type": "display_data"
    }
   ],
   "source": [
    "%matplotlib inline\n",
    "import matplotlib.pyplot as plt\n",
    "\n",
    "plt.figure(figsize=([10,5]))\n",
    "plt.plot(packed_column['0 kg/h'], label='0 kg/h', marker='o')\n",
    "plt.plot(packed_column['100 kg/h'], label='100 kg/h', marker='o')\n",
    "plt.plot(packed_column['200 kg/h'], label='200 kg/h', marker='o')\n",
    "plt.plot(packed_column['300 kg/h'], label='300 kg/h', marker='o')\n",
    "plt.title('Relative pressure drop in a packed column with various water flows')\n",
    "plt.xlabel('Water flow')\n",
    "plt.ylabel('Pressure')\n",
    "plt.legend()\n",
    "plt.grid()\n",
    "plt.xlim([1, 8])\n",
    "plt.show()"
   ]
  },
  {
   "cell_type": "code",
   "execution_count": 33,
   "id": "c86be9be-8844-4433-998e-2d448ab8b932",
   "metadata": {},
   "outputs": [
    {
     "data": {
      "image/png": "[encoded data removed]",
      "text/plain": [
       "<Figure size 432x288 with 1 Axes>"
      ]
     },
     "metadata": {
      "needs_background": "light"
     },
     "output_type": "display_data"
    }
   ],
   "source": [
    "time = [1, 3, 5, 8, 10, 13]\n",
    "temperature = [12, 14, 16, 30, 45, 50]\n",
    "plt.scatter(time, temperature, alpha=1, color='green')\n",
    "plt.scatter(time, [i+2 for i in temperature], alpha=0.5, color='green')\n",
    "plt.scatter(time, [i+4 for i in temperature], alpha=0.1, color='green')\n",
    "plt.title('Scatter plot of temperature over time')\n",
    "plt.show()"
   ]
  },
  {
   "cell_type": "code",
   "execution_count": 34,
   "id": "30296c7b-11f1-4d0b-8dd6-a9899b9ef2a5",
   "metadata": {},
   "outputs": [
    {
     "data": {
      "text/plain": [
       "<AxesSubplot:>"
      ]
     },
     "execution_count": 34,
     "metadata": {},
     "output_type": "execute_result"
    },
    {
     "data": {
      "image/png": "[encoded data removed]",
      "text/plain": [
       "<Figure size 432x288 with 1 Axes>"
      ]
     },
     "metadata": {
      "needs_background": "light"
     },
     "output_type": "display_data"
    }
   ],
   "source": [
    "packed_column['100 kg/h'].hist()"
   ]
  },
  {
   "cell_type": "code",
   "execution_count": 35,
   "id": "0eb663e7-aeed-43e2-a46f-1f3bc8a3a7f6",
   "metadata": {},
   "outputs": [
    {
     "data": {
      "text/plain": [
       "<AxesSubplot:>"
      ]
     },
     "execution_count": 35,
     "metadata": {},
     "output_type": "execute_result"
    },
    {
     "data": {
      "image/png": "[encoded data removed]",
      "text/plain": [
       "<Figure size 432x288 with 1 Axes>"
      ]
     },
     "metadata": {
      "needs_background": "light"
     },
     "output_type": "display_data"
    }
   ],
   "source": [
    "packed_column['100 kg/h'].plot()"
   ]
  },
  {
   "cell_type": "code",
   "execution_count": 36,
   "id": "e71eacd0-228e-4183-b2aa-b99b022d2ead",
   "metadata": {},
   "outputs": [
    {
     "data": {
      "text/plain": [
       "<AxesSubplot:>"
      ]
     },
     "execution_count": 36,
     "metadata": {},
     "output_type": "execute_result"
    },
    {
     "data": {
      "image/png": "[encoded data removed]",
      "text/plain": [
       "<Figure size 432x288 with 1 Axes>"
      ]
     },
     "metadata": {
      "needs_background": "light"
     },
     "output_type": "display_data"
    }
   ],
   "source": [
    "packed_column[['0 kg/h', '100 kg/h', '200 kg/h', '300 kg/h']].iloc[:-1, :].boxplot()"
   ]
  }
 ],
 "metadata": {
  "kernelspec": {
   "display_name": "Python 3 (ipykernel)",
   "language": "python",
   "name": "python3"
  },
  "language_info": {
   "codemirror_mode": {
    "name": "ipython",
    "version": 3
   },
   "file_extension": ".py",
   "mimetype": "text/x-python",
   "name": "python",
   "nbconvert_exporter": "python",
   "pygments_lexer": "ipython3",
   "version": "3.8.10"
  }
 },
 "nbformat": 4,
 "nbformat_minor": 5
}
